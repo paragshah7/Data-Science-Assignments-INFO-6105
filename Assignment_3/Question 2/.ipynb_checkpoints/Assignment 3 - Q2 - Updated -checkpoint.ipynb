{
 "cells": [
  {
   "cell_type": "markdown",
   "metadata": {
    "colab_type": "text",
    "id": "gwbK4uvL27k2"
   },
   "source": [
    "### Q2. Train, tune and evaluate DNN model for the Black Friday sales Dataset.\n",
    "https://www.kaggle.com/mehdidag/black-friday. \n",
    "It’s a regression problem and you need only one neuron in the final layer!!! Try all the above steps (for problem 1) on this one too except (d)"
   ]
  },
  {
   "cell_type": "code",
   "execution_count": 1,
   "metadata": {
    "colab": {
     "base_uri": "https://localhost:8080/",
     "height": 122
    },
    "colab_type": "code",
    "id": "PtiKrF323Qhb",
    "outputId": "73b18a93-68c3-4afd-c4f3-d3e70167df8d"
   },
   "outputs": [
    {
     "name": "stdout",
     "output_type": "stream",
     "text": [
      "Go to this URL in a browser: https://accounts.google.com/o/oauth2/auth?client_id=947318989803-6bn6qk8qdgf4n4g3pfee6491hc0brc4i.apps.googleusercontent.com&redirect_uri=urn%3aietf%3awg%3aoauth%3a2.0%3aoob&response_type=code&scope=email%20https%3a%2f%2fwww.googleapis.com%2fauth%2fdocs.test%20https%3a%2f%2fwww.googleapis.com%2fauth%2fdrive%20https%3a%2f%2fwww.googleapis.com%2fauth%2fdrive.photos.readonly%20https%3a%2f%2fwww.googleapis.com%2fauth%2fpeopleapi.readonly\n",
      "\n",
      "Enter your authorization code:\n",
      "··········\n",
      "Mounted at /content/drive\n"
     ]
    }
   ],
   "source": [
    "from google.colab import drive\n",
    "drive.mount('/content/drive')"
   ]
  },
  {
   "cell_type": "markdown",
   "metadata": {
    "colab_type": "text",
    "id": "ARgCKPm027k8"
   },
   "source": [
    "##### Import all the libraries/packages and model"
   ]
  },
  {
   "cell_type": "code",
   "execution_count": 2,
   "metadata": {
    "colab": {
     "base_uri": "https://localhost:8080/",
     "height": 97
    },
    "colab_type": "code",
    "id": "nCP44Vkm27lC",
    "outputId": "a6a4f062-775c-45d6-f9f6-3c158b6444c8"
   },
   "outputs": [
    {
     "name": "stderr",
     "output_type": "stream",
     "text": [
      "Using TensorFlow backend.\n"
     ]
    },
    {
     "data": {
      "text/html": [
       "<p style=\"color: red;\">\n",
       "The default version of TensorFlow in Colab will soon switch to TensorFlow 2.x.<br>\n",
       "We recommend you <a href=\"https://www.tensorflow.org/guide/migrate\" target=\"_blank\">upgrade</a> now \n",
       "or ensure your notebook will continue to use TensorFlow 1.x via the <code>%tensorflow_version 1.x</code> magic:\n",
       "<a href=\"https://colab.research.google.com/notebooks/tensorflow_version.ipynb\" target=\"_blank\">more info</a>.</p>\n"
      ],
      "text/plain": [
       "<IPython.core.display.HTML object>"
      ]
     },
     "metadata": {
      "tags": []
     },
     "output_type": "display_data"
    }
   ],
   "source": [
    "'''Import necessary packages'''\n",
    "from keras.models import Sequential\n",
    "from keras.layers import Dense\n",
    "from sklearn import preprocessing\n",
    "from keras.wrappers.scikit_learn import KerasRegressor\n",
    "from sklearn.model_selection import GridSearchCV\n",
    "from sklearn.model_selection import train_test_split\n",
    "from sklearn.metrics import accuracy_score\n",
    "from sklearn.metrics import roc_curve, roc_auc_score\n",
    "from matplotlib import pyplot as plt\n",
    "import seaborn as sns\n",
    "import numpy as np\n",
    "import pandas as pd\n",
    "\n",
    "%matplotlib inline"
   ]
  },
  {
   "cell_type": "code",
   "execution_count": 3,
   "metadata": {
    "colab": {
     "base_uri": "https://localhost:8080/",
     "height": 34
    },
    "colab_type": "code",
    "id": "8H-oBxVV27lM",
    "outputId": "cc0530fa-cc30-4594-edf5-2f543391e81f",
    "scrolled": true
   },
   "outputs": [
    {
     "name": "stdout",
     "output_type": "stream",
     "text": [
      "/content/drive/My Drive/\n"
     ]
    }
   ],
   "source": [
    "path = '/content/drive/My Drive/'\n",
    "print(path)"
   ]
  },
  {
   "cell_type": "code",
   "execution_count": 4,
   "metadata": {
    "colab": {
     "base_uri": "https://localhost:8080/",
     "height": 182
    },
    "colab_type": "code",
    "id": "Pyy7WUWJ27ld",
    "outputId": "d6c1e2cf-14c0-4ad3-d6c1-0cab9480550f"
   },
   "outputs": [
    {
     "name": "stdout",
     "output_type": "stream",
     "text": [
      "(550068, 12)\n"
     ]
    },
    {
     "data": {
      "text/html": [
       "<div>\n",
       "<style scoped>\n",
       "    .dataframe tbody tr th:only-of-type {\n",
       "        vertical-align: middle;\n",
       "    }\n",
       "\n",
       "    .dataframe tbody tr th {\n",
       "        vertical-align: top;\n",
       "    }\n",
       "\n",
       "    .dataframe thead th {\n",
       "        text-align: right;\n",
       "    }\n",
       "</style>\n",
       "<table border=\"1\" class=\"dataframe\">\n",
       "  <thead>\n",
       "    <tr style=\"text-align: right;\">\n",
       "      <th></th>\n",
       "      <th>User_ID</th>\n",
       "      <th>Product_ID</th>\n",
       "      <th>Gender</th>\n",
       "      <th>Age</th>\n",
       "      <th>Occupation</th>\n",
       "      <th>City_Category</th>\n",
       "      <th>Stay_In_Current_City_Years</th>\n",
       "      <th>Marital_Status</th>\n",
       "      <th>Product_Category_1</th>\n",
       "      <th>Product_Category_2</th>\n",
       "      <th>Product_Category_3</th>\n",
       "      <th>Purchase</th>\n",
       "    </tr>\n",
       "  </thead>\n",
       "  <tbody>\n",
       "    <tr>\n",
       "      <th>0</th>\n",
       "      <td>1000001</td>\n",
       "      <td>P00069042</td>\n",
       "      <td>F</td>\n",
       "      <td>0-17</td>\n",
       "      <td>10</td>\n",
       "      <td>A</td>\n",
       "      <td>2</td>\n",
       "      <td>0</td>\n",
       "      <td>3</td>\n",
       "      <td>NaN</td>\n",
       "      <td>NaN</td>\n",
       "      <td>8370</td>\n",
       "    </tr>\n",
       "    <tr>\n",
       "      <th>1</th>\n",
       "      <td>1000001</td>\n",
       "      <td>P00248942</td>\n",
       "      <td>F</td>\n",
       "      <td>0-17</td>\n",
       "      <td>10</td>\n",
       "      <td>A</td>\n",
       "      <td>2</td>\n",
       "      <td>0</td>\n",
       "      <td>1</td>\n",
       "      <td>6.0</td>\n",
       "      <td>14.0</td>\n",
       "      <td>15200</td>\n",
       "    </tr>\n",
       "  </tbody>\n",
       "</table>\n",
       "</div>"
      ],
      "text/plain": [
       "   User_ID Product_ID Gender  ... Product_Category_2  Product_Category_3 Purchase\n",
       "0  1000001  P00069042      F  ...                NaN                 NaN     8370\n",
       "1  1000001  P00248942      F  ...                6.0                14.0    15200\n",
       "\n",
       "[2 rows x 12 columns]"
      ]
     },
     "execution_count": 4,
     "metadata": {
      "tags": []
     },
     "output_type": "execute_result"
    }
   ],
   "source": [
    "my_df = pd.read_csv(f'{path}/train.csv')\n",
    "print(my_df.shape)\n",
    "my_df.head(2)"
   ]
  },
  {
   "cell_type": "code",
   "execution_count": 5,
   "metadata": {
    "colab": {
     "base_uri": "https://localhost:8080/",
     "height": 306
    },
    "colab_type": "code",
    "id": "Y6pcI06f27li",
    "outputId": "a63b0d46-aa97-4217-92cf-c69b63bf69b4"
   },
   "outputs": [
    {
     "name": "stdout",
     "output_type": "stream",
     "text": [
      "<class 'pandas.core.frame.DataFrame'>\n",
      "RangeIndex: 550068 entries, 0 to 550067\n",
      "Data columns (total 12 columns):\n",
      "User_ID                       550068 non-null int64\n",
      "Product_ID                    550068 non-null object\n",
      "Gender                        550068 non-null object\n",
      "Age                           550068 non-null object\n",
      "Occupation                    550068 non-null int64\n",
      "City_Category                 550068 non-null object\n",
      "Stay_In_Current_City_Years    550068 non-null object\n",
      "Marital_Status                550068 non-null int64\n",
      "Product_Category_1            550068 non-null int64\n",
      "Product_Category_2            376430 non-null float64\n",
      "Product_Category_3            166821 non-null float64\n",
      "Purchase                      550068 non-null int64\n",
      "dtypes: float64(2), int64(5), object(5)\n",
      "memory usage: 50.4+ MB\n"
     ]
    }
   ],
   "source": [
    "my_df.info()"
   ]
  },
  {
   "cell_type": "markdown",
   "metadata": {
    "colab_type": "text",
    "id": "aKobfD2Z27ln"
   },
   "source": [
    "##### 1.1 Pre-process the data"
   ]
  },
  {
   "cell_type": "code",
   "execution_count": 0,
   "metadata": {
    "colab": {},
    "colab_type": "code",
    "id": "G25WHmKK27lp"
   },
   "outputs": [],
   "source": [
    "#Separate out X and Y\n",
    "\n",
    "X = my_df.iloc[:, :11]\n",
    "Y = my_df.iloc[:, 11:12]"
   ]
  },
  {
   "cell_type": "code",
   "execution_count": 7,
   "metadata": {
    "colab": {
     "base_uri": "https://localhost:8080/",
     "height": 292
    },
    "colab_type": "code",
    "id": "6xYJ99Dg27lt",
    "outputId": "e6edc0a0-21d6-4ae7-dddf-a305a92d4cf7"
   },
   "outputs": [
    {
     "data": {
      "text/html": [
       "<div>\n",
       "<style scoped>\n",
       "    .dataframe tbody tr th:only-of-type {\n",
       "        vertical-align: middle;\n",
       "    }\n",
       "\n",
       "    .dataframe tbody tr th {\n",
       "        vertical-align: top;\n",
       "    }\n",
       "\n",
       "    .dataframe thead th {\n",
       "        text-align: right;\n",
       "    }\n",
       "</style>\n",
       "<table border=\"1\" class=\"dataframe\">\n",
       "  <thead>\n",
       "    <tr style=\"text-align: right;\">\n",
       "      <th></th>\n",
       "      <th>User_ID</th>\n",
       "      <th>Product_ID</th>\n",
       "      <th>Gender</th>\n",
       "      <th>Age</th>\n",
       "      <th>Occupation</th>\n",
       "      <th>City_Category</th>\n",
       "      <th>Stay_In_Current_City_Years</th>\n",
       "      <th>Marital_Status</th>\n",
       "      <th>Product_Category_1</th>\n",
       "      <th>Product_Category_2</th>\n",
       "      <th>Product_Category_3</th>\n",
       "    </tr>\n",
       "  </thead>\n",
       "  <tbody>\n",
       "    <tr>\n",
       "      <th>0</th>\n",
       "      <td>1000001</td>\n",
       "      <td>P00069042</td>\n",
       "      <td>F</td>\n",
       "      <td>0-17</td>\n",
       "      <td>10</td>\n",
       "      <td>A</td>\n",
       "      <td>2</td>\n",
       "      <td>0</td>\n",
       "      <td>3</td>\n",
       "      <td>NaN</td>\n",
       "      <td>NaN</td>\n",
       "    </tr>\n",
       "    <tr>\n",
       "      <th>1</th>\n",
       "      <td>1000001</td>\n",
       "      <td>P00248942</td>\n",
       "      <td>F</td>\n",
       "      <td>0-17</td>\n",
       "      <td>10</td>\n",
       "      <td>A</td>\n",
       "      <td>2</td>\n",
       "      <td>0</td>\n",
       "      <td>1</td>\n",
       "      <td>6.0</td>\n",
       "      <td>14.0</td>\n",
       "    </tr>\n",
       "    <tr>\n",
       "      <th>2</th>\n",
       "      <td>1000001</td>\n",
       "      <td>P00087842</td>\n",
       "      <td>F</td>\n",
       "      <td>0-17</td>\n",
       "      <td>10</td>\n",
       "      <td>A</td>\n",
       "      <td>2</td>\n",
       "      <td>0</td>\n",
       "      <td>12</td>\n",
       "      <td>NaN</td>\n",
       "      <td>NaN</td>\n",
       "    </tr>\n",
       "    <tr>\n",
       "      <th>3</th>\n",
       "      <td>1000001</td>\n",
       "      <td>P00085442</td>\n",
       "      <td>F</td>\n",
       "      <td>0-17</td>\n",
       "      <td>10</td>\n",
       "      <td>A</td>\n",
       "      <td>2</td>\n",
       "      <td>0</td>\n",
       "      <td>12</td>\n",
       "      <td>14.0</td>\n",
       "      <td>NaN</td>\n",
       "    </tr>\n",
       "    <tr>\n",
       "      <th>4</th>\n",
       "      <td>1000002</td>\n",
       "      <td>P00285442</td>\n",
       "      <td>M</td>\n",
       "      <td>55+</td>\n",
       "      <td>16</td>\n",
       "      <td>C</td>\n",
       "      <td>4+</td>\n",
       "      <td>0</td>\n",
       "      <td>8</td>\n",
       "      <td>NaN</td>\n",
       "      <td>NaN</td>\n",
       "    </tr>\n",
       "  </tbody>\n",
       "</table>\n",
       "</div>"
      ],
      "text/plain": [
       "   User_ID Product_ID  ... Product_Category_2 Product_Category_3\n",
       "0  1000001  P00069042  ...                NaN                NaN\n",
       "1  1000001  P00248942  ...                6.0               14.0\n",
       "2  1000001  P00087842  ...                NaN                NaN\n",
       "3  1000001  P00085442  ...               14.0                NaN\n",
       "4  1000002  P00285442  ...                NaN                NaN\n",
       "\n",
       "[5 rows x 11 columns]"
      ]
     },
     "execution_count": 7,
     "metadata": {
      "tags": []
     },
     "output_type": "execute_result"
    }
   ],
   "source": [
    "X.head()"
   ]
  },
  {
   "cell_type": "code",
   "execution_count": 8,
   "metadata": {
    "colab": {
     "base_uri": "https://localhost:8080/",
     "height": 419
    },
    "colab_type": "code",
    "id": "p5I8qR-627ly",
    "outputId": "41f0baed-6c89-45da-faae-ae1102a78d31"
   },
   "outputs": [
    {
     "data": {
      "text/html": [
       "<div>\n",
       "<style scoped>\n",
       "    .dataframe tbody tr th:only-of-type {\n",
       "        vertical-align: middle;\n",
       "    }\n",
       "\n",
       "    .dataframe tbody tr th {\n",
       "        vertical-align: top;\n",
       "    }\n",
       "\n",
       "    .dataframe thead th {\n",
       "        text-align: right;\n",
       "    }\n",
       "</style>\n",
       "<table border=\"1\" class=\"dataframe\">\n",
       "  <thead>\n",
       "    <tr style=\"text-align: right;\">\n",
       "      <th></th>\n",
       "      <th>Purchase</th>\n",
       "    </tr>\n",
       "  </thead>\n",
       "  <tbody>\n",
       "    <tr>\n",
       "      <th>0</th>\n",
       "      <td>8370</td>\n",
       "    </tr>\n",
       "    <tr>\n",
       "      <th>1</th>\n",
       "      <td>15200</td>\n",
       "    </tr>\n",
       "    <tr>\n",
       "      <th>2</th>\n",
       "      <td>1422</td>\n",
       "    </tr>\n",
       "    <tr>\n",
       "      <th>3</th>\n",
       "      <td>1057</td>\n",
       "    </tr>\n",
       "    <tr>\n",
       "      <th>4</th>\n",
       "      <td>7969</td>\n",
       "    </tr>\n",
       "    <tr>\n",
       "      <th>...</th>\n",
       "      <td>...</td>\n",
       "    </tr>\n",
       "    <tr>\n",
       "      <th>550063</th>\n",
       "      <td>368</td>\n",
       "    </tr>\n",
       "    <tr>\n",
       "      <th>550064</th>\n",
       "      <td>371</td>\n",
       "    </tr>\n",
       "    <tr>\n",
       "      <th>550065</th>\n",
       "      <td>137</td>\n",
       "    </tr>\n",
       "    <tr>\n",
       "      <th>550066</th>\n",
       "      <td>365</td>\n",
       "    </tr>\n",
       "    <tr>\n",
       "      <th>550067</th>\n",
       "      <td>490</td>\n",
       "    </tr>\n",
       "  </tbody>\n",
       "</table>\n",
       "<p>550068 rows × 1 columns</p>\n",
       "</div>"
      ],
      "text/plain": [
       "        Purchase\n",
       "0           8370\n",
       "1          15200\n",
       "2           1422\n",
       "3           1057\n",
       "4           7969\n",
       "...          ...\n",
       "550063       368\n",
       "550064       371\n",
       "550065       137\n",
       "550066       365\n",
       "550067       490\n",
       "\n",
       "[550068 rows x 1 columns]"
      ]
     },
     "execution_count": 8,
     "metadata": {
      "tags": []
     },
     "output_type": "execute_result"
    }
   ],
   "source": [
    "Y"
   ]
  },
  {
   "cell_type": "code",
   "execution_count": 9,
   "metadata": {
    "colab": {
     "base_uri": "https://localhost:8080/",
     "height": 34
    },
    "colab_type": "code",
    "id": "nK3VTJkk27l3",
    "outputId": "c2374b09-86c7-4903-a5d5-4b50a893f45f"
   },
   "outputs": [
    {
     "name": "stdout",
     "output_type": "stream",
     "text": [
      "(550068, 11) (550068, 1)\n"
     ]
    }
   ],
   "source": [
    "print(X.shape, Y.shape)"
   ]
  },
  {
   "cell_type": "markdown",
   "metadata": {
    "colab_type": "text",
    "id": "COejMH6T27l7"
   },
   "source": [
    "##### There are some missing values in Product_Category_2 and Product_Category_3 column, let's fill those out first."
   ]
  },
  {
   "cell_type": "code",
   "execution_count": 10,
   "metadata": {
    "colab": {
     "base_uri": "https://localhost:8080/",
     "height": 343
    },
    "colab_type": "code",
    "id": "UC__9jIf27l8",
    "outputId": "7a160ab0-95e7-49e9-d799-c5feb078ea77"
   },
   "outputs": [
    {
     "name": "stderr",
     "output_type": "stream",
     "text": [
      "/usr/local/lib/python3.6/dist-packages/sklearn/utils/deprecation.py:66: DeprecationWarning: Class Imputer is deprecated; Imputer was deprecated in version 0.20 and will be removed in 0.22. Import impute.SimpleImputer from sklearn instead.\n",
      "  warnings.warn(msg, category=DeprecationWarning)\n"
     ]
    },
    {
     "name": "stdout",
     "output_type": "stream",
     "text": [
      "<class 'pandas.core.frame.DataFrame'>\n",
      "RangeIndex: 550068 entries, 0 to 550067\n",
      "Data columns (total 11 columns):\n",
      "User_ID                       550068 non-null int64\n",
      "Product_ID                    550068 non-null object\n",
      "Gender                        550068 non-null object\n",
      "Age                           550068 non-null object\n",
      "Occupation                    550068 non-null int64\n",
      "City_Category                 550068 non-null object\n",
      "Stay_In_Current_City_Years    550068 non-null object\n",
      "Marital_Status                550068 non-null int64\n",
      "Product_Category_1            550068 non-null int64\n",
      "Product_Category_2            550068 non-null float64\n",
      "Product_Category_3            550068 non-null float64\n",
      "dtypes: float64(2), int64(4), object(5)\n",
      "memory usage: 46.2+ MB\n"
     ]
    }
   ],
   "source": [
    "from sklearn.preprocessing import Imputer\n",
    "imputer = Imputer(missing_values = 'NaN', strategy = 'mean', axis = 0)\n",
    "imputer = imputer.fit(X.iloc[:, 9:11].values)\n",
    "X.iloc[:,9:11] = imputer.transform(X.iloc[:, 9:11].values)\n",
    "X.info() "
   ]
  },
  {
   "cell_type": "markdown",
   "metadata": {
    "colab_type": "text",
    "id": "a3BznA5q27mB"
   },
   "source": [
    "##### Now drop the columns(User_ID and Product_ID) which will not have any impact on our output column, Purchase"
   ]
  },
  {
   "cell_type": "code",
   "execution_count": 11,
   "metadata": {
    "colab": {
     "base_uri": "https://localhost:8080/",
     "height": 255
    },
    "colab_type": "code",
    "id": "ZNJ45SbA27mC",
    "outputId": "58aaf864-833d-4082-a5bb-e36413903f0b"
   },
   "outputs": [
    {
     "name": "stdout",
     "output_type": "stream",
     "text": [
      "<class 'pandas.core.frame.DataFrame'>\n",
      "RangeIndex: 550068 entries, 0 to 550067\n",
      "Data columns (total 9 columns):\n",
      "Gender                        550068 non-null object\n",
      "Age                           550068 non-null object\n",
      "Occupation                    550068 non-null int64\n",
      "City_Category                 550068 non-null object\n",
      "Stay_In_Current_City_Years    550068 non-null object\n",
      "Marital_Status                550068 non-null int64\n",
      "Product_Category_1            550068 non-null int64\n",
      "Product_Category_2            550068 non-null float64\n",
      "Product_Category_3            550068 non-null float64\n",
      "dtypes: float64(2), int64(3), object(4)\n",
      "memory usage: 37.8+ MB\n"
     ]
    }
   ],
   "source": [
    "X.drop(['User_ID','Product_ID'], axis=1, inplace=True)\n",
    "X.info()"
   ]
  },
  {
   "cell_type": "code",
   "execution_count": 12,
   "metadata": {
    "colab": {
     "base_uri": "https://localhost:8080/",
     "height": 292
    },
    "colab_type": "code",
    "id": "g-Su3egd27mK",
    "outputId": "08785b6a-64df-44df-d9e5-18013a2c75c0"
   },
   "outputs": [
    {
     "data": {
      "text/html": [
       "<div>\n",
       "<style scoped>\n",
       "    .dataframe tbody tr th:only-of-type {\n",
       "        vertical-align: middle;\n",
       "    }\n",
       "\n",
       "    .dataframe tbody tr th {\n",
       "        vertical-align: top;\n",
       "    }\n",
       "\n",
       "    .dataframe thead th {\n",
       "        text-align: right;\n",
       "    }\n",
       "</style>\n",
       "<table border=\"1\" class=\"dataframe\">\n",
       "  <thead>\n",
       "    <tr style=\"text-align: right;\">\n",
       "      <th></th>\n",
       "      <th>Gender</th>\n",
       "      <th>Age</th>\n",
       "      <th>Occupation</th>\n",
       "      <th>City_Category</th>\n",
       "      <th>Stay_In_Current_City_Years</th>\n",
       "      <th>Marital_Status</th>\n",
       "      <th>Product_Category_1</th>\n",
       "      <th>Product_Category_2</th>\n",
       "      <th>Product_Category_3</th>\n",
       "    </tr>\n",
       "  </thead>\n",
       "  <tbody>\n",
       "    <tr>\n",
       "      <th>0</th>\n",
       "      <td>F</td>\n",
       "      <td>0-17</td>\n",
       "      <td>10</td>\n",
       "      <td>A</td>\n",
       "      <td>2</td>\n",
       "      <td>0</td>\n",
       "      <td>3</td>\n",
       "      <td>9.842329</td>\n",
       "      <td>12.668243</td>\n",
       "    </tr>\n",
       "    <tr>\n",
       "      <th>1</th>\n",
       "      <td>F</td>\n",
       "      <td>0-17</td>\n",
       "      <td>10</td>\n",
       "      <td>A</td>\n",
       "      <td>2</td>\n",
       "      <td>0</td>\n",
       "      <td>1</td>\n",
       "      <td>6.000000</td>\n",
       "      <td>14.000000</td>\n",
       "    </tr>\n",
       "    <tr>\n",
       "      <th>2</th>\n",
       "      <td>F</td>\n",
       "      <td>0-17</td>\n",
       "      <td>10</td>\n",
       "      <td>A</td>\n",
       "      <td>2</td>\n",
       "      <td>0</td>\n",
       "      <td>12</td>\n",
       "      <td>9.842329</td>\n",
       "      <td>12.668243</td>\n",
       "    </tr>\n",
       "    <tr>\n",
       "      <th>3</th>\n",
       "      <td>F</td>\n",
       "      <td>0-17</td>\n",
       "      <td>10</td>\n",
       "      <td>A</td>\n",
       "      <td>2</td>\n",
       "      <td>0</td>\n",
       "      <td>12</td>\n",
       "      <td>14.000000</td>\n",
       "      <td>12.668243</td>\n",
       "    </tr>\n",
       "    <tr>\n",
       "      <th>4</th>\n",
       "      <td>M</td>\n",
       "      <td>55+</td>\n",
       "      <td>16</td>\n",
       "      <td>C</td>\n",
       "      <td>4+</td>\n",
       "      <td>0</td>\n",
       "      <td>8</td>\n",
       "      <td>9.842329</td>\n",
       "      <td>12.668243</td>\n",
       "    </tr>\n",
       "  </tbody>\n",
       "</table>\n",
       "</div>"
      ],
      "text/plain": [
       "  Gender   Age  ...  Product_Category_2 Product_Category_3\n",
       "0      F  0-17  ...            9.842329          12.668243\n",
       "1      F  0-17  ...            6.000000          14.000000\n",
       "2      F  0-17  ...            9.842329          12.668243\n",
       "3      F  0-17  ...           14.000000          12.668243\n",
       "4      M   55+  ...            9.842329          12.668243\n",
       "\n",
       "[5 rows x 9 columns]"
      ]
     },
     "execution_count": 12,
     "metadata": {
      "tags": []
     },
     "output_type": "execute_result"
    }
   ],
   "source": [
    "X.head()"
   ]
  },
  {
   "cell_type": "markdown",
   "metadata": {
    "colab_type": "text",
    "id": "j46NzOi-27mO"
   },
   "source": [
    "##### Age and Stay_In_Current_City_Years columns have '+' sign at the end, let's strip that off:"
   ]
  },
  {
   "cell_type": "code",
   "execution_count": 0,
   "metadata": {
    "colab": {},
    "colab_type": "code",
    "id": "Lh31GgSZ27mP"
   },
   "outputs": [],
   "source": [
    "X['Age']=(X['Age'].str.strip('+'))"
   ]
  },
  {
   "cell_type": "code",
   "execution_count": 0,
   "metadata": {
    "colab": {},
    "colab_type": "code",
    "id": "O3-0JMA127mU"
   },
   "outputs": [],
   "source": [
    "X['Stay_In_Current_City_Years'] = (X['Stay_In_Current_City_Years'].str.strip('+').astype('float'))"
   ]
  },
  {
   "cell_type": "code",
   "execution_count": 15,
   "metadata": {
    "colab": {
     "base_uri": "https://localhost:8080/",
     "height": 292
    },
    "colab_type": "code",
    "id": "HB8U3ne427mY",
    "outputId": "17f85125-1fe4-4d19-cdd9-307bff2eb012"
   },
   "outputs": [
    {
     "data": {
      "text/html": [
       "<div>\n",
       "<style scoped>\n",
       "    .dataframe tbody tr th:only-of-type {\n",
       "        vertical-align: middle;\n",
       "    }\n",
       "\n",
       "    .dataframe tbody tr th {\n",
       "        vertical-align: top;\n",
       "    }\n",
       "\n",
       "    .dataframe thead th {\n",
       "        text-align: right;\n",
       "    }\n",
       "</style>\n",
       "<table border=\"1\" class=\"dataframe\">\n",
       "  <thead>\n",
       "    <tr style=\"text-align: right;\">\n",
       "      <th></th>\n",
       "      <th>Gender</th>\n",
       "      <th>Age</th>\n",
       "      <th>Occupation</th>\n",
       "      <th>City_Category</th>\n",
       "      <th>Stay_In_Current_City_Years</th>\n",
       "      <th>Marital_Status</th>\n",
       "      <th>Product_Category_1</th>\n",
       "      <th>Product_Category_2</th>\n",
       "      <th>Product_Category_3</th>\n",
       "    </tr>\n",
       "  </thead>\n",
       "  <tbody>\n",
       "    <tr>\n",
       "      <th>0</th>\n",
       "      <td>F</td>\n",
       "      <td>0-17</td>\n",
       "      <td>10</td>\n",
       "      <td>A</td>\n",
       "      <td>2.0</td>\n",
       "      <td>0</td>\n",
       "      <td>3</td>\n",
       "      <td>9.842329</td>\n",
       "      <td>12.668243</td>\n",
       "    </tr>\n",
       "    <tr>\n",
       "      <th>1</th>\n",
       "      <td>F</td>\n",
       "      <td>0-17</td>\n",
       "      <td>10</td>\n",
       "      <td>A</td>\n",
       "      <td>2.0</td>\n",
       "      <td>0</td>\n",
       "      <td>1</td>\n",
       "      <td>6.000000</td>\n",
       "      <td>14.000000</td>\n",
       "    </tr>\n",
       "    <tr>\n",
       "      <th>2</th>\n",
       "      <td>F</td>\n",
       "      <td>0-17</td>\n",
       "      <td>10</td>\n",
       "      <td>A</td>\n",
       "      <td>2.0</td>\n",
       "      <td>0</td>\n",
       "      <td>12</td>\n",
       "      <td>9.842329</td>\n",
       "      <td>12.668243</td>\n",
       "    </tr>\n",
       "    <tr>\n",
       "      <th>3</th>\n",
       "      <td>F</td>\n",
       "      <td>0-17</td>\n",
       "      <td>10</td>\n",
       "      <td>A</td>\n",
       "      <td>2.0</td>\n",
       "      <td>0</td>\n",
       "      <td>12</td>\n",
       "      <td>14.000000</td>\n",
       "      <td>12.668243</td>\n",
       "    </tr>\n",
       "    <tr>\n",
       "      <th>4</th>\n",
       "      <td>M</td>\n",
       "      <td>55</td>\n",
       "      <td>16</td>\n",
       "      <td>C</td>\n",
       "      <td>4.0</td>\n",
       "      <td>0</td>\n",
       "      <td>8</td>\n",
       "      <td>9.842329</td>\n",
       "      <td>12.668243</td>\n",
       "    </tr>\n",
       "  </tbody>\n",
       "</table>\n",
       "</div>"
      ],
      "text/plain": [
       "  Gender   Age  ...  Product_Category_2 Product_Category_3\n",
       "0      F  0-17  ...            9.842329          12.668243\n",
       "1      F  0-17  ...            6.000000          14.000000\n",
       "2      F  0-17  ...            9.842329          12.668243\n",
       "3      F  0-17  ...           14.000000          12.668243\n",
       "4      M    55  ...            9.842329          12.668243\n",
       "\n",
       "[5 rows x 9 columns]"
      ]
     },
     "execution_count": 15,
     "metadata": {
      "tags": []
     },
     "output_type": "execute_result"
    }
   ],
   "source": [
    "X.head()"
   ]
  },
  {
   "cell_type": "markdown",
   "metadata": {
    "colab_type": "text",
    "id": "5FYhhN9k27mc"
   },
   "source": [
    "##### As seen above, dataset has some string values, which need to be converted into numbers. We will use LabelEncoder do the same."
   ]
  },
  {
   "cell_type": "code",
   "execution_count": 0,
   "metadata": {
    "colab": {},
    "colab_type": "code",
    "id": "FF0XBAjp27md"
   },
   "outputs": [],
   "source": [
    "from sklearn.preprocessing import LabelEncoder\n",
    "labelencoder = LabelEncoder()"
   ]
  },
  {
   "cell_type": "code",
   "execution_count": 17,
   "metadata": {
    "colab": {
     "base_uri": "https://localhost:8080/",
     "height": 224
    },
    "colab_type": "code",
    "id": "7TIC_b5-27mh",
    "outputId": "3f314296-afc8-466c-906a-74b2199ea136"
   },
   "outputs": [
    {
     "data": {
      "text/html": [
       "<div>\n",
       "<style scoped>\n",
       "    .dataframe tbody tr th:only-of-type {\n",
       "        vertical-align: middle;\n",
       "    }\n",
       "\n",
       "    .dataframe tbody tr th {\n",
       "        vertical-align: top;\n",
       "    }\n",
       "\n",
       "    .dataframe thead th {\n",
       "        text-align: right;\n",
       "    }\n",
       "</style>\n",
       "<table border=\"1\" class=\"dataframe\">\n",
       "  <thead>\n",
       "    <tr style=\"text-align: right;\">\n",
       "      <th></th>\n",
       "      <th>Gender</th>\n",
       "      <th>Age</th>\n",
       "      <th>Occupation</th>\n",
       "      <th>City_Category</th>\n",
       "      <th>Stay_In_Current_City_Years</th>\n",
       "      <th>Marital_Status</th>\n",
       "      <th>Product_Category_1</th>\n",
       "      <th>Product_Category_2</th>\n",
       "      <th>Product_Category_3</th>\n",
       "    </tr>\n",
       "  </thead>\n",
       "  <tbody>\n",
       "    <tr>\n",
       "      <th>0</th>\n",
       "      <td>0</td>\n",
       "      <td>0</td>\n",
       "      <td>10</td>\n",
       "      <td>0</td>\n",
       "      <td>2.0</td>\n",
       "      <td>0</td>\n",
       "      <td>3</td>\n",
       "      <td>9.842329</td>\n",
       "      <td>12.668243</td>\n",
       "    </tr>\n",
       "    <tr>\n",
       "      <th>1</th>\n",
       "      <td>0</td>\n",
       "      <td>0</td>\n",
       "      <td>10</td>\n",
       "      <td>0</td>\n",
       "      <td>2.0</td>\n",
       "      <td>0</td>\n",
       "      <td>1</td>\n",
       "      <td>6.000000</td>\n",
       "      <td>14.000000</td>\n",
       "    </tr>\n",
       "    <tr>\n",
       "      <th>2</th>\n",
       "      <td>0</td>\n",
       "      <td>0</td>\n",
       "      <td>10</td>\n",
       "      <td>0</td>\n",
       "      <td>2.0</td>\n",
       "      <td>0</td>\n",
       "      <td>12</td>\n",
       "      <td>9.842329</td>\n",
       "      <td>12.668243</td>\n",
       "    </tr>\n",
       "    <tr>\n",
       "      <th>3</th>\n",
       "      <td>0</td>\n",
       "      <td>0</td>\n",
       "      <td>10</td>\n",
       "      <td>0</td>\n",
       "      <td>2.0</td>\n",
       "      <td>0</td>\n",
       "      <td>12</td>\n",
       "      <td>14.000000</td>\n",
       "      <td>12.668243</td>\n",
       "    </tr>\n",
       "    <tr>\n",
       "      <th>4</th>\n",
       "      <td>1</td>\n",
       "      <td>6</td>\n",
       "      <td>16</td>\n",
       "      <td>2</td>\n",
       "      <td>4.0</td>\n",
       "      <td>0</td>\n",
       "      <td>8</td>\n",
       "      <td>9.842329</td>\n",
       "      <td>12.668243</td>\n",
       "    </tr>\n",
       "  </tbody>\n",
       "</table>\n",
       "</div>"
      ],
      "text/plain": [
       "   Gender  Age  ...  Product_Category_2  Product_Category_3\n",
       "0       0    0  ...            9.842329           12.668243\n",
       "1       0    0  ...            6.000000           14.000000\n",
       "2       0    0  ...            9.842329           12.668243\n",
       "3       0    0  ...           14.000000           12.668243\n",
       "4       1    6  ...            9.842329           12.668243\n",
       "\n",
       "[5 rows x 9 columns]"
      ]
     },
     "execution_count": 17,
     "metadata": {
      "tags": []
     },
     "output_type": "execute_result"
    }
   ],
   "source": [
    "X['Gender'] = labelencoder.fit_transform(X['Gender'])\n",
    "X['Age'] = labelencoder.fit_transform(X['Age'])\n",
    "X['City_Category'] = labelencoder.fit_transform(X['City_Category'])\n",
    "X.head()"
   ]
  },
  {
   "cell_type": "markdown",
   "metadata": {
    "colab_type": "text",
    "id": "6deUIbnD27ms"
   },
   "source": [
    "##### 1.2 Scale/Standardize data"
   ]
  },
  {
   "cell_type": "code",
   "execution_count": 18,
   "metadata": {
    "colab": {
     "base_uri": "https://localhost:8080/",
     "height": 204
    },
    "colab_type": "code",
    "id": "A_H5XjS227mw",
    "outputId": "0fbe4835-0d3b-4f8c-df89-594e52c7d04e"
   },
   "outputs": [
    {
     "data": {
      "text/html": [
       "<div>\n",
       "<style scoped>\n",
       "    .dataframe tbody tr th:only-of-type {\n",
       "        vertical-align: middle;\n",
       "    }\n",
       "\n",
       "    .dataframe tbody tr th {\n",
       "        vertical-align: top;\n",
       "    }\n",
       "\n",
       "    .dataframe thead th {\n",
       "        text-align: right;\n",
       "    }\n",
       "</style>\n",
       "<table border=\"1\" class=\"dataframe\">\n",
       "  <thead>\n",
       "    <tr style=\"text-align: right;\">\n",
       "      <th></th>\n",
       "      <th>0</th>\n",
       "      <th>1</th>\n",
       "      <th>2</th>\n",
       "      <th>3</th>\n",
       "      <th>4</th>\n",
       "      <th>5</th>\n",
       "      <th>6</th>\n",
       "      <th>7</th>\n",
       "      <th>8</th>\n",
       "    </tr>\n",
       "  </thead>\n",
       "  <tbody>\n",
       "    <tr>\n",
       "      <th>0</th>\n",
       "      <td>-1.746513</td>\n",
       "      <td>-1.844248</td>\n",
       "      <td>0.294864</td>\n",
       "      <td>-1.371516</td>\n",
       "      <td>0.109801</td>\n",
       "      <td>-0.833018</td>\n",
       "      <td>-0.610809</td>\n",
       "      <td>4.221533e-16</td>\n",
       "      <td>-7.819065e-16</td>\n",
       "    </tr>\n",
       "    <tr>\n",
       "      <th>1</th>\n",
       "      <td>-1.746513</td>\n",
       "      <td>-1.844248</td>\n",
       "      <td>0.294864</td>\n",
       "      <td>-1.371516</td>\n",
       "      <td>0.109801</td>\n",
       "      <td>-0.833018</td>\n",
       "      <td>-1.118912</td>\n",
       "      <td>-9.131340e-01</td>\n",
       "      <td>5.862050e-01</td>\n",
       "    </tr>\n",
       "    <tr>\n",
       "      <th>2</th>\n",
       "      <td>-1.746513</td>\n",
       "      <td>-1.844248</td>\n",
       "      <td>0.294864</td>\n",
       "      <td>-1.371516</td>\n",
       "      <td>0.109801</td>\n",
       "      <td>-0.833018</td>\n",
       "      <td>1.675656</td>\n",
       "      <td>4.221533e-16</td>\n",
       "      <td>-7.819065e-16</td>\n",
       "    </tr>\n",
       "    <tr>\n",
       "      <th>3</th>\n",
       "      <td>-1.746513</td>\n",
       "      <td>-1.844248</td>\n",
       "      <td>0.294864</td>\n",
       "      <td>-1.371516</td>\n",
       "      <td>0.109801</td>\n",
       "      <td>-0.833018</td>\n",
       "      <td>1.675656</td>\n",
       "      <td>9.880753e-01</td>\n",
       "      <td>-7.819065e-16</td>\n",
       "    </tr>\n",
       "    <tr>\n",
       "      <th>4</th>\n",
       "      <td>0.572570</td>\n",
       "      <td>2.588277</td>\n",
       "      <td>1.214734</td>\n",
       "      <td>1.259336</td>\n",
       "      <td>1.660861</td>\n",
       "      <td>-0.833018</td>\n",
       "      <td>0.659449</td>\n",
       "      <td>4.221533e-16</td>\n",
       "      <td>-7.819065e-16</td>\n",
       "    </tr>\n",
       "  </tbody>\n",
       "</table>\n",
       "</div>"
      ],
      "text/plain": [
       "          0         1         2  ...         6             7             8\n",
       "0 -1.746513 -1.844248  0.294864  ... -0.610809  4.221533e-16 -7.819065e-16\n",
       "1 -1.746513 -1.844248  0.294864  ... -1.118912 -9.131340e-01  5.862050e-01\n",
       "2 -1.746513 -1.844248  0.294864  ...  1.675656  4.221533e-16 -7.819065e-16\n",
       "3 -1.746513 -1.844248  0.294864  ...  1.675656  9.880753e-01 -7.819065e-16\n",
       "4  0.572570  2.588277  1.214734  ...  0.659449  4.221533e-16 -7.819065e-16\n",
       "\n",
       "[5 rows x 9 columns]"
      ]
     },
     "execution_count": 18,
     "metadata": {
      "tags": []
     },
     "output_type": "execute_result"
    }
   ],
   "source": [
    "scaler = preprocessing.StandardScaler().fit(X)\n",
    "X_scaled = pd.DataFrame(scaler.transform(X))\n",
    "X_scaled.head()"
   ]
  },
  {
   "cell_type": "markdown",
   "metadata": {
    "colab_type": "text",
    "id": "dNa1b98m27m2"
   },
   "source": [
    "##### 2.1 Divide whole dataset into 3 parts - Train, Valid, and Test datasets"
   ]
  },
  {
   "cell_type": "code",
   "execution_count": 19,
   "metadata": {
    "colab": {
     "base_uri": "https://localhost:8080/",
     "height": 34
    },
    "colab_type": "code",
    "id": "o4r9q0zF27m4",
    "outputId": "d2bae05a-bb8a-400e-c483-b48176549789"
   },
   "outputs": [
    {
     "name": "stdout",
     "output_type": "stream",
     "text": [
      "(368545, 9) (181523, 9) (368545, 1) (181523, 1)\n"
     ]
    }
   ],
   "source": [
    "# Train - Valid Split\n",
    "(X_train, X_val, Y_train, Y_val) = train_test_split(X_scaled, Y, test_size=0.33, random_state=1)\n",
    "print(X_train.shape, X_val.shape, Y_train.shape, Y_val.shape)"
   ]
  },
  {
   "cell_type": "code",
   "execution_count": 20,
   "metadata": {
    "colab": {
     "base_uri": "https://localhost:8080/",
     "height": 34
    },
    "colab_type": "code",
    "id": "Mhsn2xtw27m7",
    "outputId": "86a1b2fb-03e6-45b6-f096-0e2adb282ca7"
   },
   "outputs": [
    {
     "name": "stdout",
     "output_type": "stream",
     "text": [
      "(90761, 9) (90762, 9) (90761, 1) (90762, 1)\n"
     ]
    }
   ],
   "source": [
    "#Valid - Test split (divide valid dataset into 2 halves)\n",
    "(X_valid, X_test, Y_valid, Y_test) = train_test_split(X_val, Y_val, test_size=0.5, random_state=1)\n",
    "print(X_valid.shape, X_test.shape, Y_valid.shape, Y_test.shape)"
   ]
  },
  {
   "cell_type": "markdown",
   "metadata": {
    "colab_type": "text",
    "id": "orueqeNW27m9"
   },
   "source": [
    "##### 2.2 Build DNN model using train data"
   ]
  },
  {
   "cell_type": "code",
   "execution_count": 21,
   "metadata": {
    "colab": {
     "base_uri": "https://localhost:8080/",
     "height": 411
    },
    "colab_type": "code",
    "id": "Gk1fwcMx27m9",
    "outputId": "f1bba052-a2b8-4e5c-f462-4e4987149abe"
   },
   "outputs": [
    {
     "name": "stdout",
     "output_type": "stream",
     "text": [
      "WARNING:tensorflow:From /usr/local/lib/python3.6/dist-packages/keras/backend/tensorflow_backend.py:66: The name tf.get_default_graph is deprecated. Please use tf.compat.v1.get_default_graph instead.\n",
      "\n",
      "WARNING:tensorflow:From /usr/local/lib/python3.6/dist-packages/keras/backend/tensorflow_backend.py:541: The name tf.placeholder is deprecated. Please use tf.compat.v1.placeholder instead.\n",
      "\n",
      "WARNING:tensorflow:From /usr/local/lib/python3.6/dist-packages/keras/backend/tensorflow_backend.py:4409: The name tf.random_normal is deprecated. Please use tf.random.normal instead.\n",
      "\n",
      "WARNING:tensorflow:From /usr/local/lib/python3.6/dist-packages/keras/backend/tensorflow_backend.py:4432: The name tf.random_uniform is deprecated. Please use tf.random.uniform instead.\n",
      "\n",
      "Model: \"sequential_1\"\n",
      "_________________________________________________________________\n",
      "Layer (type)                 Output Shape              Param #   \n",
      "=================================================================\n",
      "dense_1 (Dense)              (None, 12)                120       \n",
      "_________________________________________________________________\n",
      "dense_2 (Dense)              (None, 8)                 104       \n",
      "_________________________________________________________________\n",
      "dense_3 (Dense)              (None, 1)                 9         \n",
      "=================================================================\n",
      "Total params: 233\n",
      "Trainable params: 233\n",
      "Non-trainable params: 0\n",
      "_________________________________________________________________\n"
     ]
    }
   ],
   "source": [
    "model = Sequential()\n",
    "model.add(Dense(12, input_dim=9, kernel_initializer='normal', activation='relu'))\n",
    "model.add(Dense(8, activation='relu'))\n",
    "model.add(Dense(1, activation='linear'))\n",
    "model.summary()"
   ]
  },
  {
   "cell_type": "code",
   "execution_count": 22,
   "metadata": {
    "colab": {
     "base_uri": "https://localhost:8080/",
     "height": 71
    },
    "colab_type": "code",
    "id": "6r5piYQ827nA",
    "outputId": "ca4ddd54-0f50-466f-93fe-6c6ea22a52a3"
   },
   "outputs": [
    {
     "name": "stdout",
     "output_type": "stream",
     "text": [
      "WARNING:tensorflow:From /usr/local/lib/python3.6/dist-packages/keras/optimizers.py:793: The name tf.train.Optimizer is deprecated. Please use tf.compat.v1.train.Optimizer instead.\n",
      "\n"
     ]
    }
   ],
   "source": [
    "model.compile(loss='mse', optimizer='adam', metrics=['mse','mae'])"
   ]
  },
  {
   "cell_type": "code",
   "execution_count": 23,
   "metadata": {
    "colab": {
     "base_uri": "https://localhost:8080/",
     "height": 666
    },
    "colab_type": "code",
    "id": "2W9pmVOBx3cZ",
    "outputId": "7c77a936-de42-4ae2-9b8a-8746ada11945"
   },
   "outputs": [
    {
     "name": "stdout",
     "output_type": "stream",
     "text": [
      "WARNING:tensorflow:From /usr/local/lib/python3.6/dist-packages/keras/backend/tensorflow_backend.py:1033: The name tf.assign_add is deprecated. Please use tf.compat.v1.assign_add instead.\n",
      "\n",
      "WARNING:tensorflow:From /usr/local/lib/python3.6/dist-packages/keras/backend/tensorflow_backend.py:1020: The name tf.assign is deprecated. Please use tf.compat.v1.assign instead.\n",
      "\n",
      "WARNING:tensorflow:From /usr/local/lib/python3.6/dist-packages/keras/backend/tensorflow_backend.py:3005: The name tf.Session is deprecated. Please use tf.compat.v1.Session instead.\n",
      "\n",
      "Train on 368545 samples, validate on 90761 samples\n",
      "Epoch 1/10\n",
      "WARNING:tensorflow:From /usr/local/lib/python3.6/dist-packages/keras/backend/tensorflow_backend.py:190: The name tf.get_default_session is deprecated. Please use tf.compat.v1.get_default_session instead.\n",
      "\n",
      "WARNING:tensorflow:From /usr/local/lib/python3.6/dist-packages/keras/backend/tensorflow_backend.py:197: The name tf.ConfigProto is deprecated. Please use tf.compat.v1.ConfigProto instead.\n",
      "\n",
      "WARNING:tensorflow:From /usr/local/lib/python3.6/dist-packages/keras/backend/tensorflow_backend.py:207: The name tf.global_variables is deprecated. Please use tf.compat.v1.global_variables instead.\n",
      "\n",
      "WARNING:tensorflow:From /usr/local/lib/python3.6/dist-packages/keras/backend/tensorflow_backend.py:216: The name tf.is_variable_initialized is deprecated. Please use tf.compat.v1.is_variable_initialized instead.\n",
      "\n",
      "WARNING:tensorflow:From /usr/local/lib/python3.6/dist-packages/keras/backend/tensorflow_backend.py:223: The name tf.variables_initializer is deprecated. Please use tf.compat.v1.variables_initializer instead.\n",
      "\n",
      "368545/368545 [==============================] - 93s 252us/step - loss: 23791629.8532 - mean_squared_error: 23791629.8532 - mean_absolute_error: 3636.1806 - val_loss: 19207776.8104 - val_mean_squared_error: 19207776.8104 - val_mean_absolute_error: 3304.3576\n",
      "Epoch 2/10\n",
      "368545/368545 [==============================] - 91s 246us/step - loss: 18613586.4331 - mean_squared_error: 18613586.4331 - mean_absolute_error: 3212.1670 - val_loss: 17957615.6954 - val_mean_squared_error: 17957615.6954 - val_mean_absolute_error: 3119.6145\n",
      "Epoch 3/10\n",
      "368545/368545 [==============================] - 91s 246us/step - loss: 17748448.9025 - mean_squared_error: 17748448.9025 - mean_absolute_error: 3090.8902 - val_loss: 17523942.8515 - val_mean_squared_error: 17523942.8515 - val_mean_absolute_error: 3061.3215\n",
      "Epoch 4/10\n",
      "368545/368545 [==============================] - 90s 245us/step - loss: 17394365.8414 - mean_squared_error: 17394365.8414 - mean_absolute_error: 3047.0847 - val_loss: 17122551.4835 - val_mean_squared_error: 17122551.4835 - val_mean_absolute_error: 3008.2543\n",
      "Epoch 5/10\n",
      "368545/368545 [==============================] - 90s 245us/step - loss: 16894547.6577 - mean_squared_error: 16894547.6577 - mean_absolute_error: 2999.5515 - val_loss: 16397439.7682 - val_mean_squared_error: 16397439.7682 - val_mean_absolute_error: 2954.5981\n",
      "Epoch 6/10\n",
      "368545/368545 [==============================] - 89s 242us/step - loss: 16045482.2379 - mean_squared_error: 16045482.2379 - mean_absolute_error: 2936.5819 - val_loss: 15577482.3782 - val_mean_squared_error: 15577482.3782 - val_mean_absolute_error: 2893.4120\n",
      "Epoch 7/10\n",
      "368545/368545 [==============================] - 90s 245us/step - loss: 15495113.5270 - mean_squared_error: 15495113.5270 - mean_absolute_error: 2892.5673 - val_loss: 15229530.6238 - val_mean_squared_error: 15229530.6238 - val_mean_absolute_error: 2855.1569\n",
      "Epoch 8/10\n",
      "368545/368545 [==============================] - 90s 244us/step - loss: 15075352.1075 - mean_squared_error: 15075352.1075 - mean_absolute_error: 2854.5213 - val_loss: 14722038.8485 - val_mean_squared_error: 14722038.8485 - val_mean_absolute_error: 2819.0204\n",
      "Epoch 9/10\n",
      "368545/368545 [==============================] - 89s 240us/step - loss: 14674863.4388 - mean_squared_error: 14674863.4388 - mean_absolute_error: 2817.9169 - val_loss: 14450998.5920 - val_mean_squared_error: 14450998.5920 - val_mean_absolute_error: 2793.8887\n",
      "Epoch 10/10\n",
      "368545/368545 [==============================] - 89s 243us/step - loss: 14434893.8941 - mean_squared_error: 14434893.8941 - mean_absolute_error: 2786.3810 - val_loss: 14252059.0090 - val_mean_squared_error: 14252059.0090 - val_mean_absolute_error: 2761.5716\n"
     ]
    }
   ],
   "source": [
    "history = model.fit(X_train, Y_train, validation_data=(X_valid, Y_valid), epochs=10, batch_size=5, verbose=1)"
   ]
  },
  {
   "cell_type": "code",
   "execution_count": 24,
   "metadata": {
    "colab": {
     "base_uri": "https://localhost:8080/",
     "height": 51
    },
    "colab_type": "code",
    "id": "ER4uAJuHDXj0",
    "outputId": "2e3b0bfe-da15-4f12-8b08-6902685abefc"
   },
   "outputs": [
    {
     "name": "stdout",
     "output_type": "stream",
     "text": [
      "90762/90762 [==============================] - 1s 15us/step\n",
      "[14371417.392741455, 14371417.392741455, 2777.768821342581]\n"
     ]
    }
   ],
   "source": [
    "# Evaluate the model\n",
    "scores = model.evaluate(X_test, Y_test)\n",
    "print(scores)"
   ]
  },
  {
   "cell_type": "markdown",
   "metadata": {
    "colab_type": "text",
    "id": "V8DtvJZ-DhHu"
   },
   "source": [
    "##### 2.3 Hyper-parameters with Valid dataset"
   ]
  },
  {
   "cell_type": "code",
   "execution_count": 0,
   "metadata": {
    "colab": {},
    "colab_type": "code",
    "id": "uptPyT6mDkfd"
   },
   "outputs": [],
   "source": [
    "def make_model():\n",
    "    model1 = Sequential()\n",
    "    model1.add(Dense(12, input_dim=9, init='uniform', activation='relu'))\n",
    "    model1.add(Dense(1, init='uniform', activation='sigmoid'))\n",
    "    # Compile model\n",
    "    model1.compile(loss='binary_crossentropy', optimizer='adam', metrics=['mse', 'mae'])\n",
    "    return model1\n",
    "\n",
    "model2 = KerasRegressor(build_fn=make_model, epochs=10, batch_size=10)"
   ]
  },
  {
   "cell_type": "code",
   "execution_count": 26,
   "metadata": {
    "colab": {
     "base_uri": "https://localhost:8080/",
     "height": 547
    },
    "colab_type": "code",
    "id": "ogJvLjK3Dkdl",
    "outputId": "ba54a0bd-4d90-4248-e328-8140ee6c3514"
   },
   "outputs": [
    {
     "name": "stdout",
     "output_type": "stream",
     "text": [
      "WARNING:tensorflow:From /usr/local/lib/python3.6/dist-packages/keras/backend/tensorflow_backend.py:3657: The name tf.log is deprecated. Please use tf.math.log instead.\n",
      "\n",
      "WARNING:tensorflow:From /usr/local/lib/python3.6/dist-packages/tensorflow_core/python/ops/nn_impl.py:183: where (from tensorflow.python.ops.array_ops) is deprecated and will be removed in a future version.\n",
      "Instructions for updating:\n",
      "Use tf.where in 2.0, which has the same broadcast rule as np.where\n"
     ]
    },
    {
     "name": "stderr",
     "output_type": "stream",
     "text": [
      "/usr/local/lib/python3.6/dist-packages/ipykernel_launcher.py:3: UserWarning: Update your `Dense` call to the Keras 2 API: `Dense(12, input_dim=9, activation=\"relu\", kernel_initializer=\"uniform\")`\n",
      "  This is separate from the ipykernel package so we can avoid doing imports until\n",
      "/usr/local/lib/python3.6/dist-packages/ipykernel_launcher.py:4: UserWarning: Update your `Dense` call to the Keras 2 API: `Dense(1, activation=\"sigmoid\", kernel_initializer=\"uniform\")`\n",
      "  after removing the cwd from sys.path.\n"
     ]
    },
    {
     "name": "stdout",
     "output_type": "stream",
     "text": [
      "Epoch 1/10\n",
      "90761/90761 [==============================] - 11s 117us/step - loss: -138976.9146 - mean_squared_error: 110729124.4539 - mean_absolute_error: 9245.3581\n",
      "Epoch 2/10\n",
      "90761/90761 [==============================] - 11s 116us/step - loss: -147392.8705 - mean_squared_error: 110728916.1650 - mean_absolute_error: 9245.3464\n",
      "Epoch 3/10\n",
      "90761/90761 [==============================] - 11s 120us/step - loss: -147392.8706 - mean_squared_error: 110728916.2503 - mean_absolute_error: 9245.3464\n",
      "Epoch 4/10\n",
      "90761/90761 [==============================] - 11s 117us/step - loss: -147392.8705 - mean_squared_error: 110728916.2907 - mean_absolute_error: 9245.3464\n",
      "Epoch 5/10\n",
      "90761/90761 [==============================] - 11s 120us/step - loss: -147392.8704 - mean_squared_error: 110728916.3092 - mean_absolute_error: 9245.3464\n",
      "Epoch 6/10\n",
      "90761/90761 [==============================] - 11s 116us/step - loss: -147392.8705 - mean_squared_error: 110728916.2003 - mean_absolute_error: 9245.3464\n",
      "Epoch 7/10\n",
      "90761/90761 [==============================] - 11s 119us/step - loss: -147392.8704 - mean_squared_error: 110728916.3618 - mean_absolute_error: 9245.3464\n",
      "Epoch 8/10\n",
      "90761/90761 [==============================] - 10s 114us/step - loss: -147392.8706 - mean_squared_error: 110728916.1621 - mean_absolute_error: 9245.3464\n",
      "Epoch 9/10\n",
      "90761/90761 [==============================] - 11s 118us/step - loss: -147392.8705 - mean_squared_error: 110728916.3138 - mean_absolute_error: 9245.3464\n",
      "Epoch 10/10\n",
      "90761/90761 [==============================] - 11s 121us/step - loss: -147392.8705 - mean_squared_error: 110728916.2589 - mean_absolute_error: 9245.3464\n"
     ]
    },
    {
     "data": {
      "text/plain": [
       "<keras.callbacks.History at 0x7f434ad61da0>"
      ]
     },
     "execution_count": 26,
     "metadata": {
      "tags": []
     },
     "output_type": "execute_result"
    }
   ],
   "source": [
    "model2.fit(X_valid, Y_valid)"
   ]
  },
  {
   "cell_type": "code",
   "execution_count": 27,
   "metadata": {
    "colab": {
     "base_uri": "https://localhost:8080/",
     "height": 1000
    },
    "colab_type": "code",
    "id": "ThVZqxOUDka_",
    "outputId": "aefd0b23-0e46-4aa5-95ea-6a132603f526"
   },
   "outputs": [
    {
     "name": "stderr",
     "output_type": "stream",
     "text": [
      "/usr/local/lib/python3.6/dist-packages/sklearn/model_selection/_split.py:1978: FutureWarning: The default value of cv will change from 3 to 5 in version 0.22. Specify it explicitly to silence this warning.\n",
      "  warnings.warn(CV_WARNING, FutureWarning)\n",
      "/usr/local/lib/python3.6/dist-packages/ipykernel_launcher.py:3: UserWarning: Update your `Dense` call to the Keras 2 API: `Dense(12, input_dim=9, activation=\"relu\", kernel_initializer=\"uniform\")`\n",
      "  This is separate from the ipykernel package so we can avoid doing imports until\n",
      "/usr/local/lib/python3.6/dist-packages/ipykernel_launcher.py:4: UserWarning: Update your `Dense` call to the Keras 2 API: `Dense(1, activation=\"sigmoid\", kernel_initializer=\"uniform\")`\n",
      "  after removing the cwd from sys.path.\n"
     ]
    },
    {
     "name": "stdout",
     "output_type": "stream",
     "text": [
      "Epoch 1/10\n",
      "60507/60507 [==============================] - 14s 231us/step - loss: -141311.1510 - mean_squared_error: 111147747.5339 - mean_absolute_error: 9265.2494\n",
      "Epoch 2/10\n",
      "60507/60507 [==============================] - 14s 225us/step - loss: -147710.0282 - mean_squared_error: 111147586.5888 - mean_absolute_error: 9265.2404\n",
      "Epoch 3/10\n",
      "60507/60507 [==============================] - 14s 238us/step - loss: -147710.0282 - mean_squared_error: 111147586.4891 - mean_absolute_error: 9265.2404\n",
      "Epoch 4/10\n",
      "60507/60507 [==============================] - 14s 237us/step - loss: -147710.0282 - mean_squared_error: 111147586.4998 - mean_absolute_error: 9265.2404\n",
      "Epoch 5/10\n",
      "60507/60507 [==============================] - 14s 233us/step - loss: -147710.0282 - mean_squared_error: 111147586.4140 - mean_absolute_error: 9265.2404\n",
      "Epoch 6/10\n",
      "60507/60507 [==============================] - 13s 221us/step - loss: -147710.0282 - mean_squared_error: 111147586.4294 - mean_absolute_error: 9265.2404\n",
      "Epoch 7/10\n",
      "60507/60507 [==============================] - 13s 222us/step - loss: -147710.0283 - mean_squared_error: 111147586.4955 - mean_absolute_error: 9265.2404\n",
      "Epoch 8/10\n",
      "60507/60507 [==============================] - 15s 245us/step - loss: -147710.0283 - mean_squared_error: 111147586.4779 - mean_absolute_error: 9265.2404\n",
      "Epoch 9/10\n",
      "60507/60507 [==============================] - 14s 225us/step - loss: -147710.0282 - mean_squared_error: 111147586.4170 - mean_absolute_error: 9265.2404\n",
      "Epoch 10/10\n",
      "60507/60507 [==============================] - 13s 220us/step - loss: -147710.0281 - mean_squared_error: 111147586.5003 - mean_absolute_error: 9265.2404\n",
      "30254/30254 [==============================] - 3s 107us/step\n",
      "Epoch 1/10\n",
      "60507/60507 [==============================] - 14s 239us/step - loss: -140462.1058 - mean_squared_error: 110249054.6008 - mean_absolute_error: 9227.6161\n",
      "Epoch 2/10\n",
      "60507/60507 [==============================] - 15s 240us/step - loss: -147110.0508 - mean_squared_error: 110248882.7557 - mean_absolute_error: 9227.6063\n",
      "Epoch 3/10\n",
      "60507/60507 [==============================] - 14s 239us/step - loss: -147110.0508 - mean_squared_error: 110248882.7947 - mean_absolute_error: 9227.6063\n",
      "Epoch 4/10\n",
      "60507/60507 [==============================] - 14s 235us/step - loss: -147110.0508 - mean_squared_error: 110248882.8307 - mean_absolute_error: 9227.6063\n",
      "Epoch 5/10\n",
      "60507/60507 [==============================] - 14s 233us/step - loss: -147110.0508 - mean_squared_error: 110248882.7969 - mean_absolute_error: 9227.6063\n",
      "Epoch 6/10\n",
      "60507/60507 [==============================] - 14s 238us/step - loss: -147110.0508 - mean_squared_error: 110248882.7715 - mean_absolute_error: 9227.6063\n",
      "Epoch 7/10\n",
      "60507/60507 [==============================] - 16s 259us/step - loss: -147110.0508 - mean_squared_error: 110248882.8081 - mean_absolute_error: 9227.6063\n",
      "Epoch 8/10\n",
      "60507/60507 [==============================] - 14s 233us/step - loss: -147110.0508 - mean_squared_error: 110248882.8278 - mean_absolute_error: 9227.6063\n",
      "Epoch 9/10\n",
      "60507/60507 [==============================] - 14s 228us/step - loss: -147110.0509 - mean_squared_error: 110248882.6478 - mean_absolute_error: 9227.6063\n",
      "Epoch 10/10\n",
      "60507/60507 [==============================] - 14s 233us/step - loss: -147110.0507 - mean_squared_error: 110248882.7627 - mean_absolute_error: 9227.6063\n",
      "30254/30254 [==============================] - 3s 107us/step\n",
      "Epoch 1/10\n",
      "60508/60508 [==============================] - 15s 245us/step - loss: -140917.6041 - mean_squared_error: 110790450.8818 - mean_absolute_error: 9243.2020\n",
      "Epoch 2/10\n",
      "60508/60508 [==============================] - 14s 231us/step - loss: -147358.5330 - mean_squared_error: 110790278.5686 - mean_absolute_error: 9243.1926\n",
      "Epoch 3/10\n",
      "60508/60508 [==============================] - 14s 233us/step - loss: -147358.5329 - mean_squared_error: 110790278.5470 - mean_absolute_error: 9243.1926\n",
      "Epoch 4/10\n",
      "60508/60508 [==============================] - 14s 235us/step - loss: -147358.5329 - mean_squared_error: 110790278.4368 - mean_absolute_error: 9243.1926\n",
      "Epoch 5/10\n",
      "60508/60508 [==============================] - 14s 235us/step - loss: -147358.5329 - mean_squared_error: 110790278.5121 - mean_absolute_error: 9243.1926\n",
      "Epoch 6/10\n",
      "60508/60508 [==============================] - 14s 229us/step - loss: -147358.5328 - mean_squared_error: 110790278.5114 - mean_absolute_error: 9243.1926\n",
      "Epoch 7/10\n",
      "60508/60508 [==============================] - 14s 230us/step - loss: -147358.5329 - mean_squared_error: 110790278.4038 - mean_absolute_error: 9243.1926\n",
      "Epoch 8/10\n",
      "60508/60508 [==============================] - 14s 232us/step - loss: -147358.5329 - mean_squared_error: 110790278.5261 - mean_absolute_error: 9243.1926\n",
      "Epoch 9/10\n",
      "60508/60508 [==============================] - 14s 238us/step - loss: -147358.5330 - mean_squared_error: 110790278.4449 - mean_absolute_error: 9243.1926\n",
      "Epoch 10/10\n",
      "60508/60508 [==============================] - 14s 235us/step - loss: -147358.5329 - mean_squared_error: 110790278.4373 - mean_absolute_error: 9243.1926\n",
      "30253/30253 [==============================] - 3s 111us/step\n",
      "Epoch 1/20\n",
      "60507/60507 [==============================] - 15s 240us/step - loss: -141018.1723 - mean_squared_error: 111147767.6735 - mean_absolute_error: 9265.2503\n",
      "Epoch 2/20\n",
      "60507/60507 [==============================] - 14s 236us/step - loss: -147710.0283 - mean_squared_error: 111147586.4367 - mean_absolute_error: 9265.2404\n",
      "Epoch 3/20\n",
      "60507/60507 [==============================] - 14s 239us/step - loss: -147710.0283 - mean_squared_error: 111147586.5019 - mean_absolute_error: 9265.2404\n",
      "Epoch 4/20\n",
      "60507/60507 [==============================] - 14s 236us/step - loss: -147710.0282 - mean_squared_error: 111147586.4525 - mean_absolute_error: 9265.2404\n",
      "Epoch 5/20\n",
      "60507/60507 [==============================] - 14s 235us/step - loss: -147710.0283 - mean_squared_error: 111147586.4364 - mean_absolute_error: 9265.2404\n",
      "Epoch 6/20\n",
      "60507/60507 [==============================] - 14s 237us/step - loss: -147710.0283 - mean_squared_error: 111147586.4968 - mean_absolute_error: 9265.2404\n",
      "Epoch 7/20\n",
      "60507/60507 [==============================] - 14s 234us/step - loss: -147710.0282 - mean_squared_error: 111147586.5078 - mean_absolute_error: 9265.2404\n",
      "Epoch 8/20\n",
      "60507/60507 [==============================] - 14s 235us/step - loss: -147710.0281 - mean_squared_error: 111147586.5480 - mean_absolute_error: 9265.2404\n",
      "Epoch 9/20\n",
      "60507/60507 [==============================] - 15s 247us/step - loss: -147710.0283 - mean_squared_error: 111147586.5171 - mean_absolute_error: 9265.2404\n",
      "Epoch 10/20\n",
      "60507/60507 [==============================] - 14s 240us/step - loss: -147710.0282 - mean_squared_error: 111147586.4405 - mean_absolute_error: 9265.2404\n",
      "Epoch 11/20\n",
      "60507/60507 [==============================] - 14s 238us/step - loss: -147710.0283 - mean_squared_error: 111147586.5057 - mean_absolute_error: 9265.2404\n",
      "Epoch 12/20\n",
      "60507/60507 [==============================] - 15s 241us/step - loss: -147710.0283 - mean_squared_error: 111147586.4552 - mean_absolute_error: 9265.2404\n",
      "Epoch 13/20\n",
      "60507/60507 [==============================] - 14s 238us/step - loss: -147710.0282 - mean_squared_error: 111147586.5101 - mean_absolute_error: 9265.2404\n",
      "Epoch 14/20\n",
      "60507/60507 [==============================] - 14s 236us/step - loss: -147710.0282 - mean_squared_error: 111147586.6141 - mean_absolute_error: 9265.2404\n",
      "Epoch 15/20\n",
      "60507/60507 [==============================] - 14s 233us/step - loss: -147710.0282 - mean_squared_error: 111147586.5228 - mean_absolute_error: 9265.2404\n",
      "Epoch 16/20\n",
      "60507/60507 [==============================] - 14s 232us/step - loss: -147710.0282 - mean_squared_error: 111147586.4666 - mean_absolute_error: 9265.2404\n",
      "Epoch 17/20\n",
      "60507/60507 [==============================] - 14s 228us/step - loss: -147710.0283 - mean_squared_error: 111147586.4847 - mean_absolute_error: 9265.2404\n",
      "Epoch 18/20\n",
      "60507/60507 [==============================] - 14s 228us/step - loss: -147710.0283 - mean_squared_error: 111147586.4068 - mean_absolute_error: 9265.2404\n",
      "Epoch 19/20\n",
      "60507/60507 [==============================] - 14s 230us/step - loss: -147710.0281 - mean_squared_error: 111147586.5126 - mean_absolute_error: 9265.2404\n",
      "Epoch 20/20\n",
      "60507/60507 [==============================] - 14s 234us/step - loss: -147710.0283 - mean_squared_error: 111147586.4410 - mean_absolute_error: 9265.2404\n",
      "30254/30254 [==============================] - 4s 117us/step\n",
      "Epoch 1/20\n",
      "60507/60507 [==============================] - 15s 248us/step - loss: -140808.5204 - mean_squared_error: 110249047.9853 - mean_absolute_error: 9227.6155\n",
      "Epoch 2/20\n",
      "60507/60507 [==============================] - 14s 230us/step - loss: -147110.0507 - mean_squared_error: 110248882.7680 - mean_absolute_error: 9227.6063\n",
      "Epoch 3/20\n",
      "60507/60507 [==============================] - 14s 228us/step - loss: -147110.0508 - mean_squared_error: 110248882.7944 - mean_absolute_error: 9227.6063\n",
      "Epoch 4/20\n",
      "60507/60507 [==============================] - 14s 232us/step - loss: -147110.0509 - mean_squared_error: 110248882.7106 - mean_absolute_error: 9227.6063\n",
      "Epoch 5/20\n",
      "60507/60507 [==============================] - 14s 234us/step - loss: -147110.0508 - mean_squared_error: 110248882.7099 - mean_absolute_error: 9227.6063\n",
      "Epoch 6/20\n",
      "60507/60507 [==============================] - 14s 231us/step - loss: -147110.0509 - mean_squared_error: 110248882.7405 - mean_absolute_error: 9227.6063\n",
      "Epoch 7/20\n",
      "60507/60507 [==============================] - 14s 232us/step - loss: -147110.0508 - mean_squared_error: 110248882.7930 - mean_absolute_error: 9227.6063\n",
      "Epoch 8/20\n",
      "60507/60507 [==============================] - 14s 233us/step - loss: -147110.0507 - mean_squared_error: 110248882.7600 - mean_absolute_error: 9227.6063\n",
      "Epoch 9/20\n",
      "60507/60507 [==============================] - 14s 229us/step - loss: -147110.0509 - mean_squared_error: 110248882.7139 - mean_absolute_error: 9227.6063\n",
      "Epoch 10/20\n",
      "60507/60507 [==============================] - 14s 229us/step - loss: -147110.0508 - mean_squared_error: 110248882.7079 - mean_absolute_error: 9227.6063\n",
      "Epoch 11/20\n",
      "60507/60507 [==============================] - 14s 237us/step - loss: -147110.0507 - mean_squared_error: 110248882.7872 - mean_absolute_error: 9227.6063\n",
      "Epoch 12/20\n",
      "60507/60507 [==============================] - 14s 229us/step - loss: -147110.0509 - mean_squared_error: 110248882.7288 - mean_absolute_error: 9227.6063\n",
      "Epoch 13/20\n",
      "60507/60507 [==============================] - 14s 229us/step - loss: -147110.0508 - mean_squared_error: 110248882.7954 - mean_absolute_error: 9227.6063\n",
      "Epoch 14/20\n",
      "60507/60507 [==============================] - 14s 227us/step - loss: -147110.0507 - mean_squared_error: 110248882.7408 - mean_absolute_error: 9227.6063\n",
      "Epoch 15/20\n",
      "60507/60507 [==============================] - 14s 230us/step - loss: -147110.0507 - mean_squared_error: 110248882.7072 - mean_absolute_error: 9227.6063\n",
      "Epoch 16/20\n",
      "60507/60507 [==============================] - 14s 228us/step - loss: -147110.0508 - mean_squared_error: 110248882.7162 - mean_absolute_error: 9227.6063\n",
      "Epoch 17/20\n",
      "60507/60507 [==============================] - 14s 235us/step - loss: -147110.0507 - mean_squared_error: 110248882.6677 - mean_absolute_error: 9227.6063\n",
      "Epoch 18/20\n",
      "60507/60507 [==============================] - 14s 228us/step - loss: -147110.0508 - mean_squared_error: 110248882.7388 - mean_absolute_error: 9227.6063\n",
      "Epoch 19/20\n",
      "60507/60507 [==============================] - 14s 230us/step - loss: -147110.0509 - mean_squared_error: 110248882.7186 - mean_absolute_error: 9227.6063\n",
      "Epoch 20/20\n",
      "60507/60507 [==============================] - 14s 229us/step - loss: -147110.0507 - mean_squared_error: 110248882.7643 - mean_absolute_error: 9227.6063\n",
      "30254/30254 [==============================] - 3s 115us/step\n",
      "Epoch 1/20\n",
      "60508/60508 [==============================] - 14s 239us/step - loss: -140432.4416 - mean_squared_error: 110790455.6436 - mean_absolute_error: 9243.2025\n",
      "Epoch 2/20\n",
      "60508/60508 [==============================] - 14s 232us/step - loss: -147358.5330 - mean_squared_error: 110790278.4389 - mean_absolute_error: 9243.1926\n",
      "Epoch 3/20\n",
      "60508/60508 [==============================] - 14s 239us/step - loss: -147358.5330 - mean_squared_error: 110790278.5238 - mean_absolute_error: 9243.1926\n",
      "Epoch 4/20\n",
      "60508/60508 [==============================] - 14s 227us/step - loss: -147358.5330 - mean_squared_error: 110790278.5258 - mean_absolute_error: 9243.1926\n",
      "Epoch 5/20\n",
      "60508/60508 [==============================] - 14s 228us/step - loss: -147358.5330 - mean_squared_error: 110790278.4578 - mean_absolute_error: 9243.1926\n",
      "Epoch 6/20\n",
      "60508/60508 [==============================] - 14s 230us/step - loss: -147358.5330 - mean_squared_error: 110790278.5512 - mean_absolute_error: 9243.1926\n",
      "Epoch 7/20\n",
      "60508/60508 [==============================] - 14s 227us/step - loss: -147358.5328 - mean_squared_error: 110790278.3614 - mean_absolute_error: 9243.1925\n",
      "Epoch 8/20\n",
      "60508/60508 [==============================] - 14s 228us/step - loss: -147358.5330 - mean_squared_error: 110790278.4891 - mean_absolute_error: 9243.1926\n",
      "Epoch 9/20\n",
      "60508/60508 [==============================] - 14s 229us/step - loss: -147358.5329 - mean_squared_error: 110790278.3837 - mean_absolute_error: 9243.1926\n",
      "Epoch 10/20\n",
      "60508/60508 [==============================] - 14s 227us/step - loss: -147358.5328 - mean_squared_error: 110790278.5213 - mean_absolute_error: 9243.1926\n",
      "Epoch 11/20\n",
      "60508/60508 [==============================] - 14s 230us/step - loss: -147358.5329 - mean_squared_error: 110790278.4777 - mean_absolute_error: 9243.1926\n",
      "Epoch 12/20\n",
      "60508/60508 [==============================] - 14s 233us/step - loss: -147358.5331 - mean_squared_error: 110790278.6408 - mean_absolute_error: 9243.1926\n",
      "Epoch 13/20\n",
      "60508/60508 [==============================] - 14s 226us/step - loss: -147358.5330 - mean_squared_error: 110790278.4893 - mean_absolute_error: 9243.1926\n",
      "Epoch 14/20\n",
      "60508/60508 [==============================] - 14s 232us/step - loss: -147358.5329 - mean_squared_error: 110790278.4581 - mean_absolute_error: 9243.1926\n",
      "Epoch 15/20\n",
      "60508/60508 [==============================] - 14s 228us/step - loss: -147358.5329 - mean_squared_error: 110790278.4891 - mean_absolute_error: 9243.1926\n",
      "Epoch 16/20\n",
      "60508/60508 [==============================] - 13s 223us/step - loss: -147358.5330 - mean_squared_error: 110790278.4180 - mean_absolute_error: 9243.1926\n",
      "Epoch 17/20\n",
      "60508/60508 [==============================] - 15s 241us/step - loss: -147358.5329 - mean_squared_error: 110790278.5195 - mean_absolute_error: 9243.1926\n",
      "Epoch 18/20\n",
      "60508/60508 [==============================] - 14s 229us/step - loss: -147358.5329 - mean_squared_error: 110790278.4720 - mean_absolute_error: 9243.1926\n",
      "Epoch 19/20\n",
      "60508/60508 [==============================] - 14s 230us/step - loss: -147358.5329 - mean_squared_error: 110790278.4388 - mean_absolute_error: 9243.1926\n",
      "Epoch 20/20\n",
      "60508/60508 [==============================] - 14s 225us/step - loss: -147358.5330 - mean_squared_error: 110790278.5123 - mean_absolute_error: 9243.1926\n",
      "30253/30253 [==============================] - 4s 120us/step\n",
      "Epoch 1/10\n",
      "60507/60507 [==============================] - 8s 131us/step - loss: -134972.5062 - mean_squared_error: 111147934.5762 - mean_absolute_error: 9265.2602\n",
      "Epoch 2/10\n",
      "60507/60507 [==============================] - 8s 126us/step - loss: -147710.0283 - mean_squared_error: 111147586.5448 - mean_absolute_error: 9265.2404\n",
      "Epoch 3/10\n",
      "60507/60507 [==============================] - 7s 123us/step - loss: -147710.0282 - mean_squared_error: 111147586.3942 - mean_absolute_error: 9265.2404\n",
      "Epoch 4/10\n",
      "60507/60507 [==============================] - 7s 123us/step - loss: -147710.0283 - mean_squared_error: 111147586.4558 - mean_absolute_error: 9265.2404\n",
      "Epoch 5/10\n",
      "60507/60507 [==============================] - 7s 122us/step - loss: -147710.0283 - mean_squared_error: 111147586.5591 - mean_absolute_error: 9265.2404\n",
      "Epoch 6/10\n",
      "60507/60507 [==============================] - 7s 123us/step - loss: -147710.0283 - mean_squared_error: 111147586.4528 - mean_absolute_error: 9265.2404\n",
      "Epoch 7/10\n",
      "60507/60507 [==============================] - 7s 123us/step - loss: -147710.0283 - mean_squared_error: 111147586.4449 - mean_absolute_error: 9265.2404\n",
      "Epoch 8/10\n",
      "60507/60507 [==============================] - 8s 129us/step - loss: -147710.0282 - mean_squared_error: 111147586.3936 - mean_absolute_error: 9265.2404\n",
      "Epoch 9/10\n",
      "60507/60507 [==============================] - 8s 129us/step - loss: -147710.0282 - mean_squared_error: 111147586.4600 - mean_absolute_error: 9265.2404\n",
      "Epoch 10/10\n",
      "60507/60507 [==============================] - 8s 125us/step - loss: -147710.0282 - mean_squared_error: 111147586.5022 - mean_absolute_error: 9265.2404\n",
      "30254/30254 [==============================] - 2s 71us/step\n",
      "Epoch 1/10\n",
      "60507/60507 [==============================] - 8s 133us/step - loss: -134136.9994 - mean_squared_error: 110249215.4562 - mean_absolute_error: 9227.6246\n",
      "Epoch 2/10\n",
      "60507/60507 [==============================] - 8s 126us/step - loss: -147110.0507 - mean_squared_error: 110248882.8020 - mean_absolute_error: 9227.6063\n",
      "Epoch 3/10\n",
      "60507/60507 [==============================] - 8s 129us/step - loss: -147110.0509 - mean_squared_error: 110248882.8857 - mean_absolute_error: 9227.6063\n",
      "Epoch 4/10\n",
      "60507/60507 [==============================] - 7s 123us/step - loss: -147110.0508 - mean_squared_error: 110248882.8469 - mean_absolute_error: 9227.6063\n",
      "Epoch 5/10\n",
      "60507/60507 [==============================] - 7s 122us/step - loss: -147110.0507 - mean_squared_error: 110248882.8229 - mean_absolute_error: 9227.6063\n",
      "Epoch 6/10\n",
      "60507/60507 [==============================] - 8s 127us/step - loss: -147110.0508 - mean_squared_error: 110248882.8253 - mean_absolute_error: 9227.6063\n",
      "Epoch 7/10\n",
      "60507/60507 [==============================] - 8s 132us/step - loss: -147110.0507 - mean_squared_error: 110248882.7722 - mean_absolute_error: 9227.6063\n",
      "Epoch 8/10\n",
      "60507/60507 [==============================] - 7s 123us/step - loss: -147110.0507 - mean_squared_error: 110248882.8722 - mean_absolute_error: 9227.6063\n",
      "Epoch 9/10\n",
      "60507/60507 [==============================] - 8s 124us/step - loss: -147110.0508 - mean_squared_error: 110248882.8038 - mean_absolute_error: 9227.6063\n",
      "Epoch 10/10\n",
      "60507/60507 [==============================] - 8s 126us/step - loss: -147110.0507 - mean_squared_error: 110248882.8296 - mean_absolute_error: 9227.6063\n",
      "30254/30254 [==============================] - 2s 68us/step\n",
      "Epoch 1/10\n",
      "60508/60508 [==============================] - 8s 136us/step - loss: -133324.9598 - mean_squared_error: 110790634.9648 - mean_absolute_error: 9243.2123\n",
      "Epoch 2/10\n",
      "60508/60508 [==============================] - 8s 126us/step - loss: -147358.5331 - mean_squared_error: 110790278.6586 - mean_absolute_error: 9243.1926\n",
      "Epoch 3/10\n",
      "60508/60508 [==============================] - 8s 126us/step - loss: -147358.5329 - mean_squared_error: 110790278.5005 - mean_absolute_error: 9243.1925\n",
      "Epoch 4/10\n",
      "60508/60508 [==============================] - 8s 131us/step - loss: -147358.5330 - mean_squared_error: 110790278.4937 - mean_absolute_error: 9243.1925\n",
      "Epoch 5/10\n",
      "60508/60508 [==============================] - 8s 128us/step - loss: -147358.5329 - mean_squared_error: 110790278.6106 - mean_absolute_error: 9243.1925\n",
      "Epoch 6/10\n",
      "60508/60508 [==============================] - 8s 126us/step - loss: -147358.5329 - mean_squared_error: 110790278.4071 - mean_absolute_error: 9243.1926\n",
      "Epoch 7/10\n",
      "60508/60508 [==============================] - 7s 123us/step - loss: -147358.5330 - mean_squared_error: 110790278.4913 - mean_absolute_error: 9243.1926\n",
      "Epoch 8/10\n",
      "60508/60508 [==============================] - 7s 123us/step - loss: -147358.5330 - mean_squared_error: 110790278.6151 - mean_absolute_error: 9243.1926\n",
      "Epoch 9/10\n",
      "60508/60508 [==============================] - 7s 124us/step - loss: -147358.5329 - mean_squared_error: 110790278.5964 - mean_absolute_error: 9243.1926\n",
      "Epoch 10/10\n",
      "60508/60508 [==============================] - 8s 125us/step - loss: -147358.5330 - mean_squared_error: 110790278.4277 - mean_absolute_error: 9243.1925\n",
      "30253/30253 [==============================] - 2s 68us/step\n",
      "Epoch 1/20\n",
      "60507/60507 [==============================] - 8s 134us/step - loss: -135591.0466 - mean_squared_error: 111147906.0598 - mean_absolute_error: 9265.2580\n",
      "Epoch 2/20\n",
      "60507/60507 [==============================] - 8s 125us/step - loss: -147710.0282 - mean_squared_error: 111147586.6072 - mean_absolute_error: 9265.2404\n",
      "Epoch 3/20\n",
      "60507/60507 [==============================] - 8s 125us/step - loss: -147710.0283 - mean_squared_error: 111147586.4833 - mean_absolute_error: 9265.2404\n",
      "Epoch 4/20\n",
      "60507/60507 [==============================] - 8s 128us/step - loss: -147710.0281 - mean_squared_error: 111147586.4192 - mean_absolute_error: 9265.2404\n",
      "Epoch 5/20\n",
      "60507/60507 [==============================] - 8s 124us/step - loss: -147710.0283 - mean_squared_error: 111147586.4026 - mean_absolute_error: 9265.2404\n",
      "Epoch 6/20\n",
      "60507/60507 [==============================] - 7s 123us/step - loss: -147710.0281 - mean_squared_error: 111147586.3832 - mean_absolute_error: 9265.2404\n",
      "Epoch 7/20\n",
      "60507/60507 [==============================] - 7s 121us/step - loss: -147710.0281 - mean_squared_error: 111147586.5359 - mean_absolute_error: 9265.2404\n",
      "Epoch 8/20\n",
      "60507/60507 [==============================] - 7s 122us/step - loss: -147710.0282 - mean_squared_error: 111147586.5742 - mean_absolute_error: 9265.2404\n",
      "Epoch 9/20\n",
      "60507/60507 [==============================] - 7s 123us/step - loss: -147710.0284 - mean_squared_error: 111147586.5507 - mean_absolute_error: 9265.2404\n",
      "Epoch 10/20\n",
      "60507/60507 [==============================] - 7s 120us/step - loss: -147710.0283 - mean_squared_error: 111147586.6366 - mean_absolute_error: 9265.2404\n",
      "Epoch 11/20\n",
      "60507/60507 [==============================] - 7s 120us/step - loss: -147710.0282 - mean_squared_error: 111147586.5402 - mean_absolute_error: 9265.2404\n",
      "Epoch 12/20\n",
      "60507/60507 [==============================] - 7s 122us/step - loss: -147710.0283 - mean_squared_error: 111147586.5095 - mean_absolute_error: 9265.2404\n",
      "Epoch 13/20\n",
      "60507/60507 [==============================] - 7s 122us/step - loss: -147710.0282 - mean_squared_error: 111147586.5758 - mean_absolute_error: 9265.2404\n",
      "Epoch 14/20\n",
      "60507/60507 [==============================] - 7s 123us/step - loss: -147710.0281 - mean_squared_error: 111147586.5908 - mean_absolute_error: 9265.2404\n",
      "Epoch 15/20\n",
      "60507/60507 [==============================] - 7s 121us/step - loss: -147710.0282 - mean_squared_error: 111147586.5379 - mean_absolute_error: 9265.2404\n",
      "Epoch 16/20\n",
      "60507/60507 [==============================] - 7s 119us/step - loss: -147710.0283 - mean_squared_error: 111147586.5251 - mean_absolute_error: 9265.2404\n",
      "Epoch 17/20\n",
      "60507/60507 [==============================] - 7s 121us/step - loss: -147710.0284 - mean_squared_error: 111147586.4701 - mean_absolute_error: 9265.2404\n",
      "Epoch 18/20\n",
      "60507/60507 [==============================] - 8s 131us/step - loss: -147710.0283 - mean_squared_error: 111147586.4558 - mean_absolute_error: 9265.2404\n",
      "Epoch 19/20\n",
      "60507/60507 [==============================] - 8s 135us/step - loss: -147710.0283 - mean_squared_error: 111147586.4323 - mean_absolute_error: 9265.2404\n",
      "Epoch 20/20\n",
      "60507/60507 [==============================] - 7s 121us/step - loss: -147710.0282 - mean_squared_error: 111147586.4979 - mean_absolute_error: 9265.2404\n",
      "30254/30254 [==============================] - 2s 69us/step\n",
      "Epoch 1/20\n",
      "60507/60507 [==============================] - 8s 138us/step - loss: -134634.7428 - mean_squared_error: 110249213.3182 - mean_absolute_error: 9227.6251\n",
      "Epoch 2/20\n",
      "60507/60507 [==============================] - 8s 126us/step - loss: -147110.0508 - mean_squared_error: 110248882.6819 - mean_absolute_error: 9227.6063\n",
      "Epoch 3/20\n",
      "60507/60507 [==============================] - 8s 128us/step - loss: -147110.0508 - mean_squared_error: 110248882.5898 - mean_absolute_error: 9227.6063\n",
      "Epoch 4/20\n",
      "60507/60507 [==============================] - 8s 125us/step - loss: -147110.0509 - mean_squared_error: 110248882.6457 - mean_absolute_error: 9227.6063\n",
      "Epoch 5/20\n",
      "60507/60507 [==============================] - 8s 127us/step - loss: -147110.0507 - mean_squared_error: 110248882.5757 - mean_absolute_error: 9227.6063\n",
      "Epoch 6/20\n",
      "60507/60507 [==============================] - 8s 127us/step - loss: -147110.0508 - mean_squared_error: 110248882.8519 - mean_absolute_error: 9227.6063\n",
      "Epoch 7/20\n",
      "60507/60507 [==============================] - 7s 123us/step - loss: -147110.0509 - mean_squared_error: 110248882.8240 - mean_absolute_error: 9227.6063\n",
      "Epoch 8/20\n",
      "60507/60507 [==============================] - 8s 125us/step - loss: -147110.0508 - mean_squared_error: 110248882.6894 - mean_absolute_error: 9227.6063\n",
      "Epoch 9/20\n",
      "60507/60507 [==============================] - 8s 126us/step - loss: -147110.0509 - mean_squared_error: 110248882.8337 - mean_absolute_error: 9227.6063\n",
      "Epoch 10/20\n",
      "60507/60507 [==============================] - 7s 124us/step - loss: -147110.0507 - mean_squared_error: 110248882.7825 - mean_absolute_error: 9227.6063\n",
      "Epoch 11/20\n",
      "60507/60507 [==============================] - 8s 126us/step - loss: -147110.0507 - mean_squared_error: 110248882.7386 - mean_absolute_error: 9227.6063\n",
      "Epoch 12/20\n",
      "60507/60507 [==============================] - 8s 126us/step - loss: -147110.0508 - mean_squared_error: 110248882.8678 - mean_absolute_error: 9227.6063\n",
      "Epoch 13/20\n",
      "60507/60507 [==============================] - 8s 126us/step - loss: -147110.0509 - mean_squared_error: 110248882.8929 - mean_absolute_error: 9227.6063\n",
      "Epoch 14/20\n",
      "60507/60507 [==============================] - 8s 129us/step - loss: -147110.0508 - mean_squared_error: 110248882.7930 - mean_absolute_error: 9227.6063\n",
      "Epoch 15/20\n",
      "60507/60507 [==============================] - 8s 127us/step - loss: -147110.0507 - mean_squared_error: 110248882.7354 - mean_absolute_error: 9227.6063\n",
      "Epoch 16/20\n",
      "60507/60507 [==============================] - 8s 124us/step - loss: -147110.0508 - mean_squared_error: 110248882.7271 - mean_absolute_error: 9227.6063\n",
      "Epoch 17/20\n",
      "60507/60507 [==============================] - 8s 127us/step - loss: -147110.0506 - mean_squared_error: 110248882.5916 - mean_absolute_error: 9227.6063\n",
      "Epoch 18/20\n",
      "60507/60507 [==============================] - 8s 125us/step - loss: -147110.0509 - mean_squared_error: 110248882.6918 - mean_absolute_error: 9227.6063\n",
      "Epoch 19/20\n",
      "60507/60507 [==============================] - 8s 128us/step - loss: -147110.0508 - mean_squared_error: 110248882.8935 - mean_absolute_error: 9227.6063\n",
      "Epoch 20/20\n",
      "60507/60507 [==============================] - 8s 127us/step - loss: -147110.0509 - mean_squared_error: 110248882.6906 - mean_absolute_error: 9227.6063\n",
      "30254/30254 [==============================] - 2s 76us/step\n",
      "Epoch 1/20\n",
      "60508/60508 [==============================] - 9s 148us/step - loss: -135106.9640 - mean_squared_error: 110790588.1084 - mean_absolute_error: 9243.2099\n",
      "Epoch 2/20\n",
      "60508/60508 [==============================] - 8s 125us/step - loss: -147358.5330 - mean_squared_error: 110790278.5645 - mean_absolute_error: 9243.1926\n",
      "Epoch 3/20\n",
      "60508/60508 [==============================] - 8s 125us/step - loss: -147358.5330 - mean_squared_error: 110790278.4618 - mean_absolute_error: 9243.1926\n",
      "Epoch 4/20\n",
      "60508/60508 [==============================] - 7s 123us/step - loss: -147358.5329 - mean_squared_error: 110790278.4786 - mean_absolute_error: 9243.1926\n",
      "Epoch 5/20\n",
      "60508/60508 [==============================] - 8s 125us/step - loss: -147358.5329 - mean_squared_error: 110790278.5435 - mean_absolute_error: 9243.1926\n",
      "Epoch 6/20\n",
      "60508/60508 [==============================] - 7s 122us/step - loss: -147358.5328 - mean_squared_error: 110790278.5837 - mean_absolute_error: 9243.1926\n",
      "Epoch 7/20\n",
      "60508/60508 [==============================] - 8s 128us/step - loss: -147358.5327 - mean_squared_error: 110790278.5025 - mean_absolute_error: 9243.1926\n",
      "Epoch 8/20\n",
      "60508/60508 [==============================] - 8s 125us/step - loss: -147358.5331 - mean_squared_error: 110790278.5160 - mean_absolute_error: 9243.1926\n",
      "Epoch 9/20\n",
      "60508/60508 [==============================] - 8s 125us/step - loss: -147358.5330 - mean_squared_error: 110790278.5907 - mean_absolute_error: 9243.1926\n",
      "Epoch 10/20\n",
      "60508/60508 [==============================] - 8s 125us/step - loss: -147358.5331 - mean_squared_error: 110790278.4641 - mean_absolute_error: 9243.1926\n",
      "Epoch 11/20\n",
      "60508/60508 [==============================] - 8s 124us/step - loss: -147358.5328 - mean_squared_error: 110790278.6329 - mean_absolute_error: 9243.1926\n",
      "Epoch 12/20\n",
      "60508/60508 [==============================] - 7s 124us/step - loss: -147358.5328 - mean_squared_error: 110790278.5903 - mean_absolute_error: 9243.1926\n",
      "Epoch 13/20\n",
      "60508/60508 [==============================] - 8s 126us/step - loss: -147358.5329 - mean_squared_error: 110790278.5491 - mean_absolute_error: 9243.1926\n",
      "Epoch 14/20\n",
      "60508/60508 [==============================] - 7s 124us/step - loss: -147358.5329 - mean_squared_error: 110790278.5220 - mean_absolute_error: 9243.1925\n",
      "Epoch 15/20\n",
      "60508/60508 [==============================] - 7s 123us/step - loss: -147358.5330 - mean_squared_error: 110790278.4477 - mean_absolute_error: 9243.1925\n",
      "Epoch 16/20\n",
      "60508/60508 [==============================] - 8s 124us/step - loss: -147358.5329 - mean_squared_error: 110790278.3535 - mean_absolute_error: 9243.1926\n",
      "Epoch 17/20\n",
      "60508/60508 [==============================] - 7s 123us/step - loss: -147358.5329 - mean_squared_error: 110790278.4130 - mean_absolute_error: 9243.1926\n",
      "Epoch 18/20\n",
      "60508/60508 [==============================] - 8s 133us/step - loss: -147358.5330 - mean_squared_error: 110790278.5956 - mean_absolute_error: 9243.1926\n",
      "Epoch 19/20\n",
      "60508/60508 [==============================] - 8s 132us/step - loss: -147358.5329 - mean_squared_error: 110790278.4566 - mean_absolute_error: 9243.1926\n",
      "Epoch 20/20\n",
      "60508/60508 [==============================] - 8s 125us/step - loss: -147358.5330 - mean_squared_error: 110790278.4177 - mean_absolute_error: 9243.1925\n",
      "30253/30253 [==============================] - 2s 71us/step\n",
      "Epoch 1/10\n",
      "60507/60507 [==============================] - 5s 86us/step - loss: -122644.4070 - mean_squared_error: 111148232.0100 - mean_absolute_error: 9265.2765\n",
      "Epoch 2/10\n",
      "60507/60507 [==============================] - 4s 66us/step - loss: -147709.9182 - mean_squared_error: 111147586.6876 - mean_absolute_error: 9265.2404\n",
      "Epoch 3/10\n",
      "60507/60507 [==============================] - 4s 64us/step - loss: -147710.0284 - mean_squared_error: 111147586.2009 - mean_absolute_error: 9265.2404\n",
      "Epoch 4/10\n",
      "60507/60507 [==============================] - 4s 65us/step - loss: -147710.0282 - mean_squared_error: 111147586.5614 - mean_absolute_error: 9265.2404\n",
      "Epoch 5/10\n",
      "60507/60507 [==============================] - 4s 65us/step - loss: -147710.0283 - mean_squared_error: 111147586.2982 - mean_absolute_error: 9265.2404\n",
      "Epoch 6/10\n",
      "60507/60507 [==============================] - 4s 65us/step - loss: -147710.0283 - mean_squared_error: 111147586.3660 - mean_absolute_error: 9265.2404\n",
      "Epoch 7/10\n",
      "60507/60507 [==============================] - 4s 65us/step - loss: -147710.0283 - mean_squared_error: 111147586.4297 - mean_absolute_error: 9265.2404\n",
      "Epoch 8/10\n",
      "60507/60507 [==============================] - 4s 65us/step - loss: -147710.0282 - mean_squared_error: 111147586.4823 - mean_absolute_error: 9265.2404\n",
      "Epoch 9/10\n",
      "60507/60507 [==============================] - 4s 63us/step - loss: -147710.0283 - mean_squared_error: 111147586.6126 - mean_absolute_error: 9265.2404\n",
      "Epoch 10/10\n",
      "60507/60507 [==============================] - 4s 65us/step - loss: -147710.0284 - mean_squared_error: 111147586.4452 - mean_absolute_error: 9265.2404\n",
      "30254/30254 [==============================] - 1s 45us/step\n",
      "Epoch 1/10\n",
      "60507/60507 [==============================] - 5s 82us/step - loss: -122755.0424 - mean_squared_error: 110249484.1208 - mean_absolute_error: 9227.6404\n",
      "Epoch 2/10\n",
      "60507/60507 [==============================] - 4s 66us/step - loss: -147110.0510 - mean_squared_error: 110248882.8817 - mean_absolute_error: 9227.6063\n",
      "Epoch 3/10\n",
      "60507/60507 [==============================] - 4s 70us/step - loss: -147110.0508 - mean_squared_error: 110248882.8438 - mean_absolute_error: 9227.6063\n",
      "Epoch 4/10\n",
      "60507/60507 [==============================] - 4s 66us/step - loss: -147110.0509 - mean_squared_error: 110248882.6529 - mean_absolute_error: 9227.6063\n",
      "Epoch 5/10\n",
      "60507/60507 [==============================] - 4s 66us/step - loss: -147110.0506 - mean_squared_error: 110248882.9146 - mean_absolute_error: 9227.6063\n",
      "Epoch 6/10\n",
      "60507/60507 [==============================] - 4s 66us/step - loss: -147110.0506 - mean_squared_error: 110248882.7357 - mean_absolute_error: 9227.6063\n",
      "Epoch 7/10\n",
      "60507/60507 [==============================] - 4s 66us/step - loss: -147110.0507 - mean_squared_error: 110248882.7776 - mean_absolute_error: 9227.6063\n",
      "Epoch 8/10\n",
      "60507/60507 [==============================] - 4s 66us/step - loss: -147110.0509 - mean_squared_error: 110248882.7584 - mean_absolute_error: 9227.6063\n",
      "Epoch 9/10\n",
      "60507/60507 [==============================] - 4s 67us/step - loss: -147110.0508 - mean_squared_error: 110248882.6544 - mean_absolute_error: 9227.6063\n",
      "Epoch 10/10\n",
      "60507/60507 [==============================] - 4s 65us/step - loss: -147110.0507 - mean_squared_error: 110248882.5247 - mean_absolute_error: 9227.6063\n",
      "30254/30254 [==============================] - 1s 44us/step\n",
      "Epoch 1/10\n",
      "60508/60508 [==============================] - 5s 86us/step - loss: -123967.8686 - mean_squared_error: 110790868.9980 - mean_absolute_error: 9243.2258\n",
      "Epoch 2/10\n",
      "60508/60508 [==============================] - 4s 65us/step - loss: -147358.5331 - mean_squared_error: 110790278.6237 - mean_absolute_error: 9243.1925\n",
      "Epoch 3/10\n",
      "60508/60508 [==============================] - 4s 67us/step - loss: -147358.5328 - mean_squared_error: 110790278.4721 - mean_absolute_error: 9243.1925\n",
      "Epoch 4/10\n",
      "60508/60508 [==============================] - 4s 70us/step - loss: -147358.5326 - mean_squared_error: 110790278.5361 - mean_absolute_error: 9243.1926\n",
      "Epoch 5/10\n",
      "60508/60508 [==============================] - 4s 68us/step - loss: -147358.5329 - mean_squared_error: 110790278.4520 - mean_absolute_error: 9243.1926\n",
      "Epoch 6/10\n",
      "60508/60508 [==============================] - 4s 66us/step - loss: -147358.5330 - mean_squared_error: 110790278.4304 - mean_absolute_error: 9243.1926\n",
      "Epoch 7/10\n",
      "60508/60508 [==============================] - 4s 66us/step - loss: -147358.5330 - mean_squared_error: 110790278.6583 - mean_absolute_error: 9243.1926\n",
      "Epoch 8/10\n",
      "60508/60508 [==============================] - 4s 66us/step - loss: -147358.5331 - mean_squared_error: 110790278.5874 - mean_absolute_error: 9243.1925\n",
      "Epoch 9/10\n",
      "60508/60508 [==============================] - 4s 64us/step - loss: -147358.5333 - mean_squared_error: 110790278.4637 - mean_absolute_error: 9243.1926\n",
      "Epoch 10/10\n",
      "60508/60508 [==============================] - 4s 67us/step - loss: -147358.5329 - mean_squared_error: 110790278.4975 - mean_absolute_error: 9243.1925\n",
      "30253/30253 [==============================] - 2s 50us/step\n",
      "Epoch 1/20\n",
      "60507/60507 [==============================] - 5s 82us/step - loss: -123024.7952 - mean_squared_error: 111148222.6094 - mean_absolute_error: 9265.2767\n",
      "Epoch 2/20\n",
      "60507/60507 [==============================] - 4s 66us/step - loss: -147710.0284 - mean_squared_error: 111147586.2930 - mean_absolute_error: 9265.2404\n",
      "Epoch 3/20\n",
      "60507/60507 [==============================] - 4s 66us/step - loss: -147710.0281 - mean_squared_error: 111147586.4508 - mean_absolute_error: 9265.2404\n",
      "Epoch 4/20\n",
      "60507/60507 [==============================] - 4s 66us/step - loss: -147710.0281 - mean_squared_error: 111147586.5700 - mean_absolute_error: 9265.2404\n",
      "Epoch 5/20\n",
      "60507/60507 [==============================] - 4s 66us/step - loss: -147710.0282 - mean_squared_error: 111147586.3942 - mean_absolute_error: 9265.2404\n",
      "Epoch 6/20\n",
      "60507/60507 [==============================] - 4s 68us/step - loss: -147710.0280 - mean_squared_error: 111147586.5481 - mean_absolute_error: 9265.2404\n",
      "Epoch 7/20\n",
      "60507/60507 [==============================] - 4s 65us/step - loss: -147710.0281 - mean_squared_error: 111147586.5130 - mean_absolute_error: 9265.2404\n",
      "Epoch 8/20\n",
      "60507/60507 [==============================] - 4s 66us/step - loss: -147710.0282 - mean_squared_error: 111147586.5273 - mean_absolute_error: 9265.2404\n",
      "Epoch 9/20\n",
      "60507/60507 [==============================] - 4s 66us/step - loss: -147710.0282 - mean_squared_error: 111147586.4481 - mean_absolute_error: 9265.2404\n",
      "Epoch 10/20\n",
      "60507/60507 [==============================] - 4s 66us/step - loss: -147710.0281 - mean_squared_error: 111147586.7018 - mean_absolute_error: 9265.2404\n",
      "Epoch 11/20\n",
      "60507/60507 [==============================] - 4s 64us/step - loss: -147710.0280 - mean_squared_error: 111147586.5494 - mean_absolute_error: 9265.2404\n",
      "Epoch 12/20\n",
      "60507/60507 [==============================] - 4s 65us/step - loss: -147710.0281 - mean_squared_error: 111147586.5334 - mean_absolute_error: 9265.2404\n",
      "Epoch 13/20\n",
      "60507/60507 [==============================] - 4s 65us/step - loss: -147710.0283 - mean_squared_error: 111147586.5676 - mean_absolute_error: 9265.2404\n",
      "Epoch 14/20\n",
      "60507/60507 [==============================] - 4s 65us/step - loss: -147710.0282 - mean_squared_error: 111147586.5306 - mean_absolute_error: 9265.2404\n",
      "Epoch 15/20\n",
      "60507/60507 [==============================] - 4s 65us/step - loss: -147710.0280 - mean_squared_error: 111147586.6909 - mean_absolute_error: 9265.2404\n",
      "Epoch 16/20\n",
      "60507/60507 [==============================] - 4s 65us/step - loss: -147710.0280 - mean_squared_error: 111147586.5498 - mean_absolute_error: 9265.2404\n",
      "Epoch 17/20\n",
      "60507/60507 [==============================] - 4s 66us/step - loss: -147710.0281 - mean_squared_error: 111147586.5621 - mean_absolute_error: 9265.2404\n",
      "Epoch 18/20\n",
      "60507/60507 [==============================] - 4s 64us/step - loss: -147710.0283 - mean_squared_error: 111147586.5383 - mean_absolute_error: 9265.2404\n",
      "Epoch 19/20\n",
      "60507/60507 [==============================] - 4s 66us/step - loss: -147710.0282 - mean_squared_error: 111147586.6568 - mean_absolute_error: 9265.2404\n",
      "Epoch 20/20\n",
      "60507/60507 [==============================] - 4s 65us/step - loss: -147710.0283 - mean_squared_error: 111147586.4252 - mean_absolute_error: 9265.2404\n",
      "30254/30254 [==============================] - 1s 46us/step\n",
      "Epoch 1/20\n",
      "60507/60507 [==============================] - 5s 88us/step - loss: -124936.7120 - mean_squared_error: 110249436.2537 - mean_absolute_error: 9227.6376\n",
      "Epoch 2/20\n",
      "60507/60507 [==============================] - 4s 67us/step - loss: -147110.0507 - mean_squared_error: 110248882.9163 - mean_absolute_error: 9227.6063\n",
      "Epoch 3/20\n",
      "60507/60507 [==============================] - 4s 66us/step - loss: -147110.0508 - mean_squared_error: 110248882.7694 - mean_absolute_error: 9227.6063\n",
      "Epoch 4/20\n",
      "60507/60507 [==============================] - 4s 66us/step - loss: -147110.0508 - mean_squared_error: 110248882.6903 - mean_absolute_error: 9227.6063\n",
      "Epoch 5/20\n",
      "60507/60507 [==============================] - 4s 67us/step - loss: -147110.0508 - mean_squared_error: 110248882.7987 - mean_absolute_error: 9227.6063\n",
      "Epoch 6/20\n",
      "60507/60507 [==============================] - 4s 67us/step - loss: -147110.0508 - mean_squared_error: 110248882.7654 - mean_absolute_error: 9227.6063\n",
      "Epoch 7/20\n",
      "60507/60507 [==============================] - 4s 66us/step - loss: -147110.0507 - mean_squared_error: 110248882.7775 - mean_absolute_error: 9227.6063\n",
      "Epoch 8/20\n",
      "60507/60507 [==============================] - 4s 67us/step - loss: -147110.0508 - mean_squared_error: 110248882.7570 - mean_absolute_error: 9227.6063\n",
      "Epoch 9/20\n",
      "60507/60507 [==============================] - 4s 67us/step - loss: -147110.0506 - mean_squared_error: 110248882.7024 - mean_absolute_error: 9227.6063\n",
      "Epoch 10/20\n",
      "60507/60507 [==============================] - 4s 67us/step - loss: -147110.0508 - mean_squared_error: 110248882.8569 - mean_absolute_error: 9227.6063\n",
      "Epoch 11/20\n",
      "60507/60507 [==============================] - 4s 66us/step - loss: -147110.0507 - mean_squared_error: 110248882.9094 - mean_absolute_error: 9227.6063\n",
      "Epoch 12/20\n",
      "60507/60507 [==============================] - 4s 67us/step - loss: -147110.0507 - mean_squared_error: 110248882.6673 - mean_absolute_error: 9227.6063\n",
      "Epoch 13/20\n",
      "60507/60507 [==============================] - 4s 66us/step - loss: -147110.0509 - mean_squared_error: 110248882.8255 - mean_absolute_error: 9227.6063\n",
      "Epoch 14/20\n",
      "60507/60507 [==============================] - 4s 67us/step - loss: -147110.0509 - mean_squared_error: 110248882.7379 - mean_absolute_error: 9227.6063\n",
      "Epoch 15/20\n",
      "60507/60507 [==============================] - 4s 67us/step - loss: -147110.0509 - mean_squared_error: 110248882.7151 - mean_absolute_error: 9227.6063\n",
      "Epoch 16/20\n",
      "60507/60507 [==============================] - 4s 66us/step - loss: -147110.0507 - mean_squared_error: 110248882.8086 - mean_absolute_error: 9227.6063\n",
      "Epoch 17/20\n",
      "60507/60507 [==============================] - 4s 67us/step - loss: -147110.0507 - mean_squared_error: 110248882.8054 - mean_absolute_error: 9227.6063\n",
      "Epoch 18/20\n",
      "60507/60507 [==============================] - 4s 68us/step - loss: -147110.0509 - mean_squared_error: 110248882.6924 - mean_absolute_error: 9227.6063\n",
      "Epoch 19/20\n",
      "60507/60507 [==============================] - 4s 65us/step - loss: -147110.0508 - mean_squared_error: 110248882.7715 - mean_absolute_error: 9227.6063\n",
      "Epoch 20/20\n",
      "60507/60507 [==============================] - 4s 70us/step - loss: -147110.0505 - mean_squared_error: 110248882.7909 - mean_absolute_error: 9227.6063\n",
      "30254/30254 [==============================] - 2s 59us/step\n",
      "Epoch 1/20\n",
      "60508/60508 [==============================] - 6s 100us/step - loss: -122881.0998 - mean_squared_error: 110790934.1638 - mean_absolute_error: 9243.2294\n",
      "Epoch 2/20\n",
      "60508/60508 [==============================] - 4s 68us/step - loss: -147358.5095 - mean_squared_error: 110790278.6234 - mean_absolute_error: 9243.1926\n",
      "Epoch 3/20\n",
      "60508/60508 [==============================] - 4s 66us/step - loss: -147358.5331 - mean_squared_error: 110790278.4155 - mean_absolute_error: 9243.1926\n",
      "Epoch 4/20\n",
      "60508/60508 [==============================] - 4s 67us/step - loss: -147358.5330 - mean_squared_error: 110790278.3611 - mean_absolute_error: 9243.1925\n",
      "Epoch 5/20\n",
      "60508/60508 [==============================] - 4s 67us/step - loss: -147358.5331 - mean_squared_error: 110790278.6284 - mean_absolute_error: 9243.1926\n",
      "Epoch 6/20\n",
      "60508/60508 [==============================] - 4s 68us/step - loss: -147358.5326 - mean_squared_error: 110790278.2981 - mean_absolute_error: 9243.1926\n",
      "Epoch 7/20\n",
      "60508/60508 [==============================] - 4s 64us/step - loss: -147358.5329 - mean_squared_error: 110790278.4465 - mean_absolute_error: 9243.1926\n",
      "Epoch 8/20\n",
      "60508/60508 [==============================] - 4s 66us/step - loss: -147358.5328 - mean_squared_error: 110790278.4824 - mean_absolute_error: 9243.1926\n",
      "Epoch 9/20\n",
      "60508/60508 [==============================] - 4s 66us/step - loss: -147358.5328 - mean_squared_error: 110790278.4265 - mean_absolute_error: 9243.1925\n",
      "Epoch 10/20\n",
      "60508/60508 [==============================] - 4s 67us/step - loss: -147358.5331 - mean_squared_error: 110790278.6519 - mean_absolute_error: 9243.1926\n",
      "Epoch 11/20\n",
      "60508/60508 [==============================] - 4s 67us/step - loss: -147358.5329 - mean_squared_error: 110790278.4290 - mean_absolute_error: 9243.1926\n",
      "Epoch 12/20\n",
      "60508/60508 [==============================] - 4s 66us/step - loss: -147358.5327 - mean_squared_error: 110790278.5657 - mean_absolute_error: 9243.1926\n",
      "Epoch 13/20\n",
      "60508/60508 [==============================] - 4s 67us/step - loss: -147358.5327 - mean_squared_error: 110790278.7471 - mean_absolute_error: 9243.1926\n",
      "Epoch 14/20\n",
      "60508/60508 [==============================] - 4s 67us/step - loss: -147358.5328 - mean_squared_error: 110790278.4885 - mean_absolute_error: 9243.1925\n",
      "Epoch 15/20\n",
      "60508/60508 [==============================] - 4s 66us/step - loss: -147358.5330 - mean_squared_error: 110790278.5724 - mean_absolute_error: 9243.1925\n",
      "Epoch 16/20\n",
      "60508/60508 [==============================] - 4s 67us/step - loss: -147358.5328 - mean_squared_error: 110790278.5033 - mean_absolute_error: 9243.1926\n",
      "Epoch 17/20\n",
      "60508/60508 [==============================] - 4s 66us/step - loss: -147358.5330 - mean_squared_error: 110790278.5282 - mean_absolute_error: 9243.1926\n",
      "Epoch 18/20\n",
      "60508/60508 [==============================] - 4s 65us/step - loss: -147358.5331 - mean_squared_error: 110790278.5229 - mean_absolute_error: 9243.1926\n",
      "Epoch 19/20\n",
      "60508/60508 [==============================] - 4s 66us/step - loss: -147358.5329 - mean_squared_error: 110790278.7017 - mean_absolute_error: 9243.1926\n",
      "Epoch 20/20\n",
      "60508/60508 [==============================] - 4s 66us/step - loss: -147358.5329 - mean_squared_error: 110790278.6200 - mean_absolute_error: 9243.1926\n",
      "30253/30253 [==============================] - 2s 54us/step\n",
      "Epoch 1/10\n",
      "90761/90761 [==============================] - 25s 271us/step - loss: -143288.7807 - mean_squared_error: 110729025.5691 - mean_absolute_error: 9245.3527\n",
      "Epoch 2/10\n",
      "90761/90761 [==============================] - 23s 258us/step - loss: -147392.8705 - mean_squared_error: 110728916.2728 - mean_absolute_error: 9245.3464\n",
      "Epoch 3/10\n",
      "90761/90761 [==============================] - 23s 258us/step - loss: -147392.8704 - mean_squared_error: 110728916.2986 - mean_absolute_error: 9245.3464\n",
      "Epoch 4/10\n",
      "90761/90761 [==============================] - 23s 257us/step - loss: -147392.8705 - mean_squared_error: 110728916.2383 - mean_absolute_error: 9245.3464\n",
      "Epoch 5/10\n",
      "90761/90761 [==============================] - 23s 254us/step - loss: -147392.8704 - mean_squared_error: 110728916.2501 - mean_absolute_error: 9245.3464\n",
      "Epoch 6/10\n",
      "90761/90761 [==============================] - 23s 255us/step - loss: -147392.8705 - mean_squared_error: 110728916.1774 - mean_absolute_error: 9245.3464\n",
      "Epoch 7/10\n",
      "90761/90761 [==============================] - 23s 253us/step - loss: -147392.8705 - mean_squared_error: 110728916.1773 - mean_absolute_error: 9245.3464\n",
      "Epoch 8/10\n",
      "90761/90761 [==============================] - 23s 255us/step - loss: -147392.8704 - mean_squared_error: 110728916.1811 - mean_absolute_error: 9245.3464\n",
      "Epoch 9/10\n",
      "90761/90761 [==============================] - 23s 254us/step - loss: -147392.8704 - mean_squared_error: 110728916.3045 - mean_absolute_error: 9245.3464\n",
      "Epoch 10/10\n",
      "90761/90761 [==============================] - 24s 263us/step - loss: -147392.8706 - mean_squared_error: 110728916.3350 - mean_absolute_error: 9245.3464\n"
     ]
    },
    {
     "data": {
      "text/plain": [
       "GridSearchCV(cv='warn', error_score='raise-deprecating',\n",
       "             estimator=<keras.wrappers.scikit_learn.KerasRegressor object at 0x7f434ab6f0f0>,\n",
       "             iid='warn', n_jobs=None,\n",
       "             param_grid={'batch_size': [5, 10, 20], 'epochs': [10, 20]},\n",
       "             pre_dispatch='2*n_jobs', refit=True, return_train_score=False,\n",
       "             scoring=None, verbose=0)"
      ]
     },
     "execution_count": 27,
     "metadata": {
      "tags": []
     },
     "output_type": "execute_result"
    }
   ],
   "source": [
    "#Apply GridSearchCV\n",
    "model2 = KerasRegressor(build_fn=make_model)\n",
    "\n",
    "batch_sizes = [5, 10, 20]\n",
    "epochs_list = [10, 20]\n",
    "parameters = dict(batch_size=batch_sizes, epochs=epochs_list)\n",
    "clf = GridSearchCV(estimator=model2, param_grid=parameters)\n",
    "clf.fit(X_valid, Y_valid)"
   ]
  },
  {
   "cell_type": "code",
   "execution_count": 28,
   "metadata": {
    "colab": {
     "base_uri": "https://localhost:8080/",
     "height": 71
    },
    "colab_type": "code",
    "id": "tC8rSuuoDkVg",
    "outputId": "0c4b710b-a322-45d0-8635-a31e661b96e4"
   },
   "outputs": [
    {
     "name": "stdout",
     "output_type": "stream",
     "text": [
      "147392.87045552675 {'batch_size': 5, 'epochs': 10}\n",
      "[{'batch_size': 5, 'epochs': 10}, {'batch_size': 5, 'epochs': 20}, {'batch_size': 10, 'epochs': 10}, {'batch_size': 10, 'epochs': 20}, {'batch_size': 20, 'epochs': 10}, {'batch_size': 20, 'epochs': 20}]\n"
     ]
    }
   ],
   "source": [
    "print(clf.best_score_, clf.best_params_)\n",
    "parameters = clf.cv_results_['params']\n",
    "print(parameters)"
   ]
  },
  {
   "cell_type": "code",
   "execution_count": 0,
   "metadata": {
    "colab": {},
    "colab_type": "code",
    "id": "XoERxT7xDkTv"
   },
   "outputs": [],
   "source": [
    "#update the model with best parameters found above and apply to valid data set\n",
    "model2 = KerasRegressor(build_fn=make_model, batch_size=5, epochs=10)"
   ]
  },
  {
   "cell_type": "code",
   "execution_count": 30,
   "metadata": {
    "colab": {
     "base_uri": "https://localhost:8080/",
     "height": 462
    },
    "colab_type": "code",
    "id": "2Wvl7Wb8DkRT",
    "outputId": "278a3b71-a717-4e5b-c0e2-9d99f4c9eb33"
   },
   "outputs": [
    {
     "name": "stderr",
     "output_type": "stream",
     "text": [
      "/usr/local/lib/python3.6/dist-packages/ipykernel_launcher.py:3: UserWarning: Update your `Dense` call to the Keras 2 API: `Dense(12, input_dim=9, activation=\"relu\", kernel_initializer=\"uniform\")`\n",
      "  This is separate from the ipykernel package so we can avoid doing imports until\n",
      "/usr/local/lib/python3.6/dist-packages/ipykernel_launcher.py:4: UserWarning: Update your `Dense` call to the Keras 2 API: `Dense(1, activation=\"sigmoid\", kernel_initializer=\"uniform\")`\n",
      "  after removing the cwd from sys.path.\n"
     ]
    },
    {
     "name": "stdout",
     "output_type": "stream",
     "text": [
      "Epoch 1/10\n",
      "90761/90761 [==============================] - 26s 281us/step - loss: -143004.9348 - mean_squared_error: 110729028.0366 - mean_absolute_error: 9245.3526\n",
      "Epoch 2/10\n",
      "90761/90761 [==============================] - 23s 254us/step - loss: -147392.8705 - mean_squared_error: 110728916.2994 - mean_absolute_error: 9245.3464\n",
      "Epoch 3/10\n",
      "90761/90761 [==============================] - 23s 254us/step - loss: -147392.8705 - mean_squared_error: 110728916.2435 - mean_absolute_error: 9245.3464\n",
      "Epoch 4/10\n",
      "90761/90761 [==============================] - 23s 253us/step - loss: -147392.8705 - mean_squared_error: 110728916.2469 - mean_absolute_error: 9245.3464\n",
      "Epoch 5/10\n",
      "90761/90761 [==============================] - 23s 255us/step - loss: -147392.8705 - mean_squared_error: 110728916.2092 - mean_absolute_error: 9245.3464\n",
      "Epoch 6/10\n",
      "90761/90761 [==============================] - 23s 253us/step - loss: -147392.8704 - mean_squared_error: 110728916.2916 - mean_absolute_error: 9245.3464\n",
      "Epoch 7/10\n",
      "90761/90761 [==============================] - 23s 253us/step - loss: -147392.8704 - mean_squared_error: 110728916.2572 - mean_absolute_error: 9245.3464\n",
      "Epoch 8/10\n",
      "90761/90761 [==============================] - 24s 260us/step - loss: -147392.8704 - mean_squared_error: 110728916.2417 - mean_absolute_error: 9245.3464\n",
      "Epoch 9/10\n",
      "90761/90761 [==============================] - 23s 252us/step - loss: -147392.8705 - mean_squared_error: 110728916.1418 - mean_absolute_error: 9245.3464\n",
      "Epoch 10/10\n",
      "90761/90761 [==============================] - 24s 265us/step - loss: -147392.8704 - mean_squared_error: 110728916.1556 - mean_absolute_error: 9245.3464\n"
     ]
    },
    {
     "data": {
      "text/plain": [
       "<keras.callbacks.History at 0x7f434383bd68>"
      ]
     },
     "execution_count": 30,
     "metadata": {
      "tags": []
     },
     "output_type": "execute_result"
    }
   ],
   "source": [
    "model2.fit(X_valid, Y_valid)"
   ]
  },
  {
   "cell_type": "markdown",
   "metadata": {
    "colab_type": "text",
    "id": "XiqyvoHqE05z"
   },
   "source": [
    "##### 2.4 Evaluate performance on Test dataset"
   ]
  },
  {
   "cell_type": "code",
   "execution_count": 31,
   "metadata": {
    "colab": {
     "base_uri": "https://localhost:8080/",
     "height": 51
    },
    "colab_type": "code",
    "id": "39sYYc_qDkCt",
    "outputId": "6e34804a-57f6-4146-a5f9-0d85397daae6"
   },
   "outputs": [
    {
     "name": "stdout",
     "output_type": "stream",
     "text": [
      "90762/90762 [==============================] - 13s 147us/step\n",
      "147874.1236627543\n"
     ]
    }
   ],
   "source": [
    "# evaluate performance on test data set\n",
    "scores = model2.score(X_test, Y_test)\n",
    "print(scores)"
   ]
  },
  {
   "cell_type": "markdown",
   "metadata": {
    "colab_type": "text",
    "id": "yLFFwjuM27nF"
   },
   "source": [
    "##### 3. Epoch versus Train set accuracy and Valid set accuracy"
   ]
  },
  {
   "cell_type": "code",
   "execution_count": 32,
   "metadata": {
    "colab": {
     "base_uri": "https://localhost:8080/",
     "height": 332
    },
    "colab_type": "code",
    "id": "l9mycHEt27nF",
    "outputId": "28668d3e-78a0-4713-b92f-93cc6d9c8823"
   },
   "outputs": [
    {
     "name": "stdout",
     "output_type": "stream",
     "text": [
      "dict_keys(['val_loss', 'val_mean_squared_error', 'val_mean_absolute_error', 'loss', 'mean_squared_error', 'mean_absolute_error'])\n"
     ]
    },
    {
     "data": {
      "image/png": "[encoded data removed]",
      "text/plain": [
       "<Figure size 432x288 with 1 Axes>"
      ]
     },
     "metadata": {
      "tags": []
     },
     "output_type": "display_data"
    }
   ],
   "source": [
    "print(history.history.keys())\n",
    "# \"Loss\"\n",
    "plt.plot(history.history['loss'])\n",
    "plt.plot(history.history['val_loss'])\n",
    "plt.title('model loss')\n",
    "plt.ylabel('loss')\n",
    "plt.xlabel('epoch')\n",
    "plt.legend(['train', 'validation'], loc='upper left')\n",
    "plt.show()"
   ]
  },
  {
   "cell_type": "code",
   "execution_count": 0,
   "metadata": {
    "colab": {},
    "colab_type": "code",
    "id": "q9E6AKIC27nm"
   },
   "outputs": [],
   "source": []
  }
 ],
 "metadata": {
  "colab": {
   "collapsed_sections": [],
   "name": "Assignment 3 - Q2.ipynb",
   "provenance": [],
   "toc_visible": true
  },
  "kernelspec": {
   "display_name": "Python 3",
   "language": "python",
   "name": "python3"
  },
  "language_info": {
   "codemirror_mode": {
    "name": "ipython",
    "version": 3
   },
   "file_extension": ".py",
   "mimetype": "text/x-python",
   "name": "python",
   "nbconvert_exporter": "python",
   "pygments_lexer": "ipython3",
   "version": "3.7.6"
  }
 },
 "nbformat": 4,
 "nbformat_minor": 1
}
