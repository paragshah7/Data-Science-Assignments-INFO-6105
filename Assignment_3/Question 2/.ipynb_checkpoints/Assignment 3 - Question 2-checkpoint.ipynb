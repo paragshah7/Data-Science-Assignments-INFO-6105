{
 "cells": [
  {
   "cell_type": "markdown",
   "metadata": {},
   "source": [
    "## Assignment 3 - Question 2:\n",
    "DNN model on Black Friday Dataset\n",
    "\n",
    "Submitted by - Parag Shah"
   ]
  },
  {
   "cell_type": "markdown",
   "metadata": {
    "colab_type": "text",
    "id": "ARgCKPm027k8"
   },
   "source": [
    "## Import the packages and Read in the data"
   ]
  },
  {
   "cell_type": "code",
   "execution_count": 107,
   "metadata": {
    "colab": {
     "base_uri": "https://localhost:8080/",
     "height": 97
    },
    "colab_type": "code",
    "id": "nCP44Vkm27lC",
    "outputId": "a6a4f062-775c-45d6-f9f6-3c158b6444c8"
   },
   "outputs": [],
   "source": [
    "'''Import necessary packages'''\n",
    "from keras.models import Sequential\n",
    "from keras.layers import Dense\n",
    "from sklearn import preprocessing\n",
    "from keras.wrappers.scikit_learn import KerasRegressor\n",
    "from sklearn.model_selection import GridSearchCV\n",
    "from sklearn.model_selection import train_test_split\n",
    "from sklearn.metrics import accuracy_score\n",
    "from sklearn.metrics import roc_curve, roc_auc_score\n",
    "from matplotlib import pyplot as plt\n",
    "import seaborn as sns\n",
    "import numpy as np\n",
    "import pandas as pd\n",
    "from sklearn.metrics import mean_squared_error\n",
    "from math import *\n",
    "import math\n",
    "\n",
    "%matplotlib inline"
   ]
  },
  {
   "cell_type": "code",
   "execution_count": 22,
   "metadata": {},
   "outputs": [
    {
     "data": {
      "text/plain": [
       "'/Users/paragshah/Desktop/Semester 1/INFO 6105 DS/Assignments/Assignment_3_Parag/Question 2'"
      ]
     },
     "execution_count": 22,
     "metadata": {},
     "output_type": "execute_result"
    }
   ],
   "source": [
    "%pwd"
   ]
  },
  {
   "cell_type": "code",
   "execution_count": 23,
   "metadata": {},
   "outputs": [
    {
     "name": "stdout",
     "output_type": "stream",
     "text": [
      "\u001b[31mAssignment 3 - Question 2.ipynb\u001b[m\u001b[m \u001b[31mtrain.csv\u001b[m\u001b[m\r\n",
      "\u001b[31mtest.csv\u001b[m\u001b[m\r\n"
     ]
    }
   ],
   "source": [
    "!ls"
   ]
  },
  {
   "cell_type": "code",
   "execution_count": 24,
   "metadata": {
    "colab": {
     "base_uri": "https://localhost:8080/",
     "height": 34
    },
    "colab_type": "code",
    "id": "8H-oBxVV27lM",
    "outputId": "cc0530fa-cc30-4594-edf5-2f543391e81f",
    "scrolled": true
   },
   "outputs": [
    {
     "name": "stdout",
     "output_type": "stream",
     "text": [
      "/Users/paragshah/Desktop/Semester 1/INFO 6105 DS/Assignments/Assignment_3_Parag/Question 2\n"
     ]
    }
   ],
   "source": [
    "path = %pwd\n",
    "print(path)"
   ]
  },
  {
   "cell_type": "code",
   "execution_count": 25,
   "metadata": {
    "colab": {
     "base_uri": "https://localhost:8080/",
     "height": 182
    },
    "colab_type": "code",
    "id": "Pyy7WUWJ27ld",
    "outputId": "d6c1e2cf-14c0-4ad3-d6c1-0cab9480550f"
   },
   "outputs": [
    {
     "name": "stdout",
     "output_type": "stream",
     "text": [
      "(550068, 12)\n"
     ]
    },
    {
     "data": {
      "text/html": [
       "<div>\n",
       "<style scoped>\n",
       "    .dataframe tbody tr th:only-of-type {\n",
       "        vertical-align: middle;\n",
       "    }\n",
       "\n",
       "    .dataframe tbody tr th {\n",
       "        vertical-align: top;\n",
       "    }\n",
       "\n",
       "    .dataframe thead th {\n",
       "        text-align: right;\n",
       "    }\n",
       "</style>\n",
       "<table border=\"1\" class=\"dataframe\">\n",
       "  <thead>\n",
       "    <tr style=\"text-align: right;\">\n",
       "      <th></th>\n",
       "      <th>User_ID</th>\n",
       "      <th>Product_ID</th>\n",
       "      <th>Gender</th>\n",
       "      <th>Age</th>\n",
       "      <th>Occupation</th>\n",
       "      <th>City_Category</th>\n",
       "      <th>Stay_In_Current_City_Years</th>\n",
       "      <th>Marital_Status</th>\n",
       "      <th>Product_Category_1</th>\n",
       "      <th>Product_Category_2</th>\n",
       "      <th>Product_Category_3</th>\n",
       "      <th>Purchase</th>\n",
       "    </tr>\n",
       "  </thead>\n",
       "  <tbody>\n",
       "    <tr>\n",
       "      <th>0</th>\n",
       "      <td>1000001</td>\n",
       "      <td>P00069042</td>\n",
       "      <td>F</td>\n",
       "      <td>0-17</td>\n",
       "      <td>10</td>\n",
       "      <td>A</td>\n",
       "      <td>2</td>\n",
       "      <td>0</td>\n",
       "      <td>3</td>\n",
       "      <td>NaN</td>\n",
       "      <td>NaN</td>\n",
       "      <td>8370</td>\n",
       "    </tr>\n",
       "    <tr>\n",
       "      <th>1</th>\n",
       "      <td>1000001</td>\n",
       "      <td>P00248942</td>\n",
       "      <td>F</td>\n",
       "      <td>0-17</td>\n",
       "      <td>10</td>\n",
       "      <td>A</td>\n",
       "      <td>2</td>\n",
       "      <td>0</td>\n",
       "      <td>1</td>\n",
       "      <td>6.0</td>\n",
       "      <td>14.0</td>\n",
       "      <td>15200</td>\n",
       "    </tr>\n",
       "  </tbody>\n",
       "</table>\n",
       "</div>"
      ],
      "text/plain": [
       "   User_ID Product_ID Gender   Age  Occupation City_Category  \\\n",
       "0  1000001  P00069042      F  0-17          10             A   \n",
       "1  1000001  P00248942      F  0-17          10             A   \n",
       "\n",
       "  Stay_In_Current_City_Years  Marital_Status  Product_Category_1  \\\n",
       "0                          2               0                   3   \n",
       "1                          2               0                   1   \n",
       "\n",
       "   Product_Category_2  Product_Category_3  Purchase  \n",
       "0                 NaN                 NaN      8370  \n",
       "1                 6.0                14.0     15200  "
      ]
     },
     "execution_count": 25,
     "metadata": {},
     "output_type": "execute_result"
    }
   ],
   "source": [
    "my_df = pd.read_csv(f'{path}/train.csv')\n",
    "print(my_df.shape)\n",
    "my_df.head(2)"
   ]
  },
  {
   "cell_type": "code",
   "execution_count": 26,
   "metadata": {
    "colab": {
     "base_uri": "https://localhost:8080/",
     "height": 306
    },
    "colab_type": "code",
    "id": "Y6pcI06f27li",
    "outputId": "a63b0d46-aa97-4217-92cf-c69b63bf69b4"
   },
   "outputs": [
    {
     "name": "stdout",
     "output_type": "stream",
     "text": [
      "<class 'pandas.core.frame.DataFrame'>\n",
      "RangeIndex: 550068 entries, 0 to 550067\n",
      "Data columns (total 12 columns):\n",
      " #   Column                      Non-Null Count   Dtype  \n",
      "---  ------                      --------------   -----  \n",
      " 0   User_ID                     550068 non-null  int64  \n",
      " 1   Product_ID                  550068 non-null  object \n",
      " 2   Gender                      550068 non-null  object \n",
      " 3   Age                         550068 non-null  object \n",
      " 4   Occupation                  550068 non-null  int64  \n",
      " 5   City_Category               550068 non-null  object \n",
      " 6   Stay_In_Current_City_Years  550068 non-null  object \n",
      " 7   Marital_Status              550068 non-null  int64  \n",
      " 8   Product_Category_1          550068 non-null  int64  \n",
      " 9   Product_Category_2          376430 non-null  float64\n",
      " 10  Product_Category_3          166821 non-null  float64\n",
      " 11  Purchase                    550068 non-null  int64  \n",
      "dtypes: float64(2), int64(5), object(5)\n",
      "memory usage: 50.4+ MB\n"
     ]
    }
   ],
   "source": [
    "my_df.info()"
   ]
  },
  {
   "cell_type": "markdown",
   "metadata": {
    "colab_type": "text",
    "id": "aKobfD2Z27ln"
   },
   "source": [
    "### Pre-process the data"
   ]
  },
  {
   "cell_type": "code",
   "execution_count": 27,
   "metadata": {
    "colab": {},
    "colab_type": "code",
    "id": "G25WHmKK27lp"
   },
   "outputs": [],
   "source": [
    "#Separate out X and Y\n",
    "\n",
    "X = my_df.iloc[:, :11]\n",
    "Y = my_df.iloc[:, 11:12]"
   ]
  },
  {
   "cell_type": "code",
   "execution_count": 28,
   "metadata": {
    "colab": {
     "base_uri": "https://localhost:8080/",
     "height": 292
    },
    "colab_type": "code",
    "id": "6xYJ99Dg27lt",
    "outputId": "e6edc0a0-21d6-4ae7-dddf-a305a92d4cf7"
   },
   "outputs": [
    {
     "data": {
      "text/html": [
       "<div>\n",
       "<style scoped>\n",
       "    .dataframe tbody tr th:only-of-type {\n",
       "        vertical-align: middle;\n",
       "    }\n",
       "\n",
       "    .dataframe tbody tr th {\n",
       "        vertical-align: top;\n",
       "    }\n",
       "\n",
       "    .dataframe thead th {\n",
       "        text-align: right;\n",
       "    }\n",
       "</style>\n",
       "<table border=\"1\" class=\"dataframe\">\n",
       "  <thead>\n",
       "    <tr style=\"text-align: right;\">\n",
       "      <th></th>\n",
       "      <th>User_ID</th>\n",
       "      <th>Product_ID</th>\n",
       "      <th>Gender</th>\n",
       "      <th>Age</th>\n",
       "      <th>Occupation</th>\n",
       "      <th>City_Category</th>\n",
       "      <th>Stay_In_Current_City_Years</th>\n",
       "      <th>Marital_Status</th>\n",
       "      <th>Product_Category_1</th>\n",
       "      <th>Product_Category_2</th>\n",
       "      <th>Product_Category_3</th>\n",
       "    </tr>\n",
       "  </thead>\n",
       "  <tbody>\n",
       "    <tr>\n",
       "      <th>0</th>\n",
       "      <td>1000001</td>\n",
       "      <td>P00069042</td>\n",
       "      <td>F</td>\n",
       "      <td>0-17</td>\n",
       "      <td>10</td>\n",
       "      <td>A</td>\n",
       "      <td>2</td>\n",
       "      <td>0</td>\n",
       "      <td>3</td>\n",
       "      <td>NaN</td>\n",
       "      <td>NaN</td>\n",
       "    </tr>\n",
       "    <tr>\n",
       "      <th>1</th>\n",
       "      <td>1000001</td>\n",
       "      <td>P00248942</td>\n",
       "      <td>F</td>\n",
       "      <td>0-17</td>\n",
       "      <td>10</td>\n",
       "      <td>A</td>\n",
       "      <td>2</td>\n",
       "      <td>0</td>\n",
       "      <td>1</td>\n",
       "      <td>6.0</td>\n",
       "      <td>14.0</td>\n",
       "    </tr>\n",
       "    <tr>\n",
       "      <th>2</th>\n",
       "      <td>1000001</td>\n",
       "      <td>P00087842</td>\n",
       "      <td>F</td>\n",
       "      <td>0-17</td>\n",
       "      <td>10</td>\n",
       "      <td>A</td>\n",
       "      <td>2</td>\n",
       "      <td>0</td>\n",
       "      <td>12</td>\n",
       "      <td>NaN</td>\n",
       "      <td>NaN</td>\n",
       "    </tr>\n",
       "    <tr>\n",
       "      <th>3</th>\n",
       "      <td>1000001</td>\n",
       "      <td>P00085442</td>\n",
       "      <td>F</td>\n",
       "      <td>0-17</td>\n",
       "      <td>10</td>\n",
       "      <td>A</td>\n",
       "      <td>2</td>\n",
       "      <td>0</td>\n",
       "      <td>12</td>\n",
       "      <td>14.0</td>\n",
       "      <td>NaN</td>\n",
       "    </tr>\n",
       "    <tr>\n",
       "      <th>4</th>\n",
       "      <td>1000002</td>\n",
       "      <td>P00285442</td>\n",
       "      <td>M</td>\n",
       "      <td>55+</td>\n",
       "      <td>16</td>\n",
       "      <td>C</td>\n",
       "      <td>4+</td>\n",
       "      <td>0</td>\n",
       "      <td>8</td>\n",
       "      <td>NaN</td>\n",
       "      <td>NaN</td>\n",
       "    </tr>\n",
       "  </tbody>\n",
       "</table>\n",
       "</div>"
      ],
      "text/plain": [
       "   User_ID Product_ID Gender   Age  Occupation City_Category  \\\n",
       "0  1000001  P00069042      F  0-17          10             A   \n",
       "1  1000001  P00248942      F  0-17          10             A   \n",
       "2  1000001  P00087842      F  0-17          10             A   \n",
       "3  1000001  P00085442      F  0-17          10             A   \n",
       "4  1000002  P00285442      M   55+          16             C   \n",
       "\n",
       "  Stay_In_Current_City_Years  Marital_Status  Product_Category_1  \\\n",
       "0                          2               0                   3   \n",
       "1                          2               0                   1   \n",
       "2                          2               0                  12   \n",
       "3                          2               0                  12   \n",
       "4                         4+               0                   8   \n",
       "\n",
       "   Product_Category_2  Product_Category_3  \n",
       "0                 NaN                 NaN  \n",
       "1                 6.0                14.0  \n",
       "2                 NaN                 NaN  \n",
       "3                14.0                 NaN  \n",
       "4                 NaN                 NaN  "
      ]
     },
     "execution_count": 28,
     "metadata": {},
     "output_type": "execute_result"
    }
   ],
   "source": [
    "X.head()"
   ]
  },
  {
   "cell_type": "code",
   "execution_count": 29,
   "metadata": {
    "colab": {
     "base_uri": "https://localhost:8080/",
     "height": 419
    },
    "colab_type": "code",
    "id": "p5I8qR-627ly",
    "outputId": "41f0baed-6c89-45da-faae-ae1102a78d31"
   },
   "outputs": [
    {
     "data": {
      "text/html": [
       "<div>\n",
       "<style scoped>\n",
       "    .dataframe tbody tr th:only-of-type {\n",
       "        vertical-align: middle;\n",
       "    }\n",
       "\n",
       "    .dataframe tbody tr th {\n",
       "        vertical-align: top;\n",
       "    }\n",
       "\n",
       "    .dataframe thead th {\n",
       "        text-align: right;\n",
       "    }\n",
       "</style>\n",
       "<table border=\"1\" class=\"dataframe\">\n",
       "  <thead>\n",
       "    <tr style=\"text-align: right;\">\n",
       "      <th></th>\n",
       "      <th>Purchase</th>\n",
       "    </tr>\n",
       "  </thead>\n",
       "  <tbody>\n",
       "    <tr>\n",
       "      <th>0</th>\n",
       "      <td>8370</td>\n",
       "    </tr>\n",
       "    <tr>\n",
       "      <th>1</th>\n",
       "      <td>15200</td>\n",
       "    </tr>\n",
       "    <tr>\n",
       "      <th>2</th>\n",
       "      <td>1422</td>\n",
       "    </tr>\n",
       "    <tr>\n",
       "      <th>3</th>\n",
       "      <td>1057</td>\n",
       "    </tr>\n",
       "    <tr>\n",
       "      <th>4</th>\n",
       "      <td>7969</td>\n",
       "    </tr>\n",
       "    <tr>\n",
       "      <th>...</th>\n",
       "      <td>...</td>\n",
       "    </tr>\n",
       "    <tr>\n",
       "      <th>550063</th>\n",
       "      <td>368</td>\n",
       "    </tr>\n",
       "    <tr>\n",
       "      <th>550064</th>\n",
       "      <td>371</td>\n",
       "    </tr>\n",
       "    <tr>\n",
       "      <th>550065</th>\n",
       "      <td>137</td>\n",
       "    </tr>\n",
       "    <tr>\n",
       "      <th>550066</th>\n",
       "      <td>365</td>\n",
       "    </tr>\n",
       "    <tr>\n",
       "      <th>550067</th>\n",
       "      <td>490</td>\n",
       "    </tr>\n",
       "  </tbody>\n",
       "</table>\n",
       "<p>550068 rows × 1 columns</p>\n",
       "</div>"
      ],
      "text/plain": [
       "        Purchase\n",
       "0           8370\n",
       "1          15200\n",
       "2           1422\n",
       "3           1057\n",
       "4           7969\n",
       "...          ...\n",
       "550063       368\n",
       "550064       371\n",
       "550065       137\n",
       "550066       365\n",
       "550067       490\n",
       "\n",
       "[550068 rows x 1 columns]"
      ]
     },
     "execution_count": 29,
     "metadata": {},
     "output_type": "execute_result"
    }
   ],
   "source": [
    "Y"
   ]
  },
  {
   "cell_type": "code",
   "execution_count": 30,
   "metadata": {
    "colab": {
     "base_uri": "https://localhost:8080/",
     "height": 34
    },
    "colab_type": "code",
    "id": "nK3VTJkk27l3",
    "outputId": "c2374b09-86c7-4903-a5d5-4b50a893f45f"
   },
   "outputs": [
    {
     "name": "stdout",
     "output_type": "stream",
     "text": [
      "(550068, 11) (550068, 1)\n"
     ]
    }
   ],
   "source": [
    "print(X.shape, Y.shape)"
   ]
  },
  {
   "cell_type": "markdown",
   "metadata": {
    "colab_type": "text",
    "id": "COejMH6T27l7"
   },
   "source": [
    "### Deal with missing values"
   ]
  },
  {
   "cell_type": "code",
   "execution_count": 44,
   "metadata": {
    "colab": {
     "base_uri": "https://localhost:8080/",
     "height": 343
    },
    "colab_type": "code",
    "id": "UC__9jIf27l8",
    "outputId": "7a160ab0-95e7-49e9-d799-c5feb078ea77"
   },
   "outputs": [
    {
     "name": "stdout",
     "output_type": "stream",
     "text": [
      "<class 'pandas.core.frame.DataFrame'>\n",
      "RangeIndex: 550068 entries, 0 to 550067\n",
      "Data columns (total 11 columns):\n",
      " #   Column                      Non-Null Count   Dtype  \n",
      "---  ------                      --------------   -----  \n",
      " 0   User_ID                     550068 non-null  int64  \n",
      " 1   Product_ID                  550068 non-null  object \n",
      " 2   Gender                      550068 non-null  object \n",
      " 3   Age                         550068 non-null  object \n",
      " 4   Occupation                  550068 non-null  int64  \n",
      " 5   City_Category               550068 non-null  object \n",
      " 6   Stay_In_Current_City_Years  550068 non-null  object \n",
      " 7   Marital_Status              550068 non-null  int64  \n",
      " 8   Product_Category_1          550068 non-null  int64  \n",
      " 9   Product_Category_2          550068 non-null  float64\n",
      " 10  Product_Category_3          550068 non-null  float64\n",
      "dtypes: float64(2), int64(4), object(5)\n",
      "memory usage: 46.2+ MB\n"
     ]
    }
   ],
   "source": [
    "from sklearn.impute import SimpleImputer\n",
    "imputer = SimpleImputer(missing_values=np.nan, strategy='mean', fill_value=None)\n",
    "imputer = imputer.fit(X.iloc[:, 9:11].values)\n",
    "X.iloc[:,9:11] = imputer.transform(X.iloc[:, 9:11].values)\n",
    "X.info()"
   ]
  },
  {
   "cell_type": "markdown",
   "metadata": {
    "colab_type": "text",
    "id": "a3BznA5q27mB"
   },
   "source": [
    "### Drop columns - User_ID and Product_ID"
   ]
  },
  {
   "cell_type": "code",
   "execution_count": 45,
   "metadata": {
    "colab": {
     "base_uri": "https://localhost:8080/",
     "height": 255
    },
    "colab_type": "code",
    "id": "ZNJ45SbA27mC",
    "outputId": "58aaf864-833d-4082-a5bb-e36413903f0b"
   },
   "outputs": [
    {
     "name": "stdout",
     "output_type": "stream",
     "text": [
      "<class 'pandas.core.frame.DataFrame'>\n",
      "RangeIndex: 550068 entries, 0 to 550067\n",
      "Data columns (total 9 columns):\n",
      " #   Column                      Non-Null Count   Dtype  \n",
      "---  ------                      --------------   -----  \n",
      " 0   Gender                      550068 non-null  object \n",
      " 1   Age                         550068 non-null  object \n",
      " 2   Occupation                  550068 non-null  int64  \n",
      " 3   City_Category               550068 non-null  object \n",
      " 4   Stay_In_Current_City_Years  550068 non-null  object \n",
      " 5   Marital_Status              550068 non-null  int64  \n",
      " 6   Product_Category_1          550068 non-null  int64  \n",
      " 7   Product_Category_2          550068 non-null  float64\n",
      " 8   Product_Category_3          550068 non-null  float64\n",
      "dtypes: float64(2), int64(3), object(4)\n",
      "memory usage: 37.8+ MB\n"
     ]
    }
   ],
   "source": [
    "X.drop(['User_ID','Product_ID'], axis=1, inplace=True)\n",
    "X.info()"
   ]
  },
  {
   "cell_type": "code",
   "execution_count": 46,
   "metadata": {
    "colab": {
     "base_uri": "https://localhost:8080/",
     "height": 292
    },
    "colab_type": "code",
    "id": "g-Su3egd27mK",
    "outputId": "08785b6a-64df-44df-d9e5-18013a2c75c0"
   },
   "outputs": [
    {
     "data": {
      "text/html": [
       "<div>\n",
       "<style scoped>\n",
       "    .dataframe tbody tr th:only-of-type {\n",
       "        vertical-align: middle;\n",
       "    }\n",
       "\n",
       "    .dataframe tbody tr th {\n",
       "        vertical-align: top;\n",
       "    }\n",
       "\n",
       "    .dataframe thead th {\n",
       "        text-align: right;\n",
       "    }\n",
       "</style>\n",
       "<table border=\"1\" class=\"dataframe\">\n",
       "  <thead>\n",
       "    <tr style=\"text-align: right;\">\n",
       "      <th></th>\n",
       "      <th>Gender</th>\n",
       "      <th>Age</th>\n",
       "      <th>Occupation</th>\n",
       "      <th>City_Category</th>\n",
       "      <th>Stay_In_Current_City_Years</th>\n",
       "      <th>Marital_Status</th>\n",
       "      <th>Product_Category_1</th>\n",
       "      <th>Product_Category_2</th>\n",
       "      <th>Product_Category_3</th>\n",
       "    </tr>\n",
       "  </thead>\n",
       "  <tbody>\n",
       "    <tr>\n",
       "      <th>0</th>\n",
       "      <td>F</td>\n",
       "      <td>0-17</td>\n",
       "      <td>10</td>\n",
       "      <td>A</td>\n",
       "      <td>2</td>\n",
       "      <td>0</td>\n",
       "      <td>3</td>\n",
       "      <td>9.842329</td>\n",
       "      <td>12.668243</td>\n",
       "    </tr>\n",
       "    <tr>\n",
       "      <th>1</th>\n",
       "      <td>F</td>\n",
       "      <td>0-17</td>\n",
       "      <td>10</td>\n",
       "      <td>A</td>\n",
       "      <td>2</td>\n",
       "      <td>0</td>\n",
       "      <td>1</td>\n",
       "      <td>6.000000</td>\n",
       "      <td>14.000000</td>\n",
       "    </tr>\n",
       "    <tr>\n",
       "      <th>2</th>\n",
       "      <td>F</td>\n",
       "      <td>0-17</td>\n",
       "      <td>10</td>\n",
       "      <td>A</td>\n",
       "      <td>2</td>\n",
       "      <td>0</td>\n",
       "      <td>12</td>\n",
       "      <td>9.842329</td>\n",
       "      <td>12.668243</td>\n",
       "    </tr>\n",
       "    <tr>\n",
       "      <th>3</th>\n",
       "      <td>F</td>\n",
       "      <td>0-17</td>\n",
       "      <td>10</td>\n",
       "      <td>A</td>\n",
       "      <td>2</td>\n",
       "      <td>0</td>\n",
       "      <td>12</td>\n",
       "      <td>14.000000</td>\n",
       "      <td>12.668243</td>\n",
       "    </tr>\n",
       "    <tr>\n",
       "      <th>4</th>\n",
       "      <td>M</td>\n",
       "      <td>55+</td>\n",
       "      <td>16</td>\n",
       "      <td>C</td>\n",
       "      <td>4+</td>\n",
       "      <td>0</td>\n",
       "      <td>8</td>\n",
       "      <td>9.842329</td>\n",
       "      <td>12.668243</td>\n",
       "    </tr>\n",
       "  </tbody>\n",
       "</table>\n",
       "</div>"
      ],
      "text/plain": [
       "  Gender   Age  Occupation City_Category Stay_In_Current_City_Years  \\\n",
       "0      F  0-17          10             A                          2   \n",
       "1      F  0-17          10             A                          2   \n",
       "2      F  0-17          10             A                          2   \n",
       "3      F  0-17          10             A                          2   \n",
       "4      M   55+          16             C                         4+   \n",
       "\n",
       "   Marital_Status  Product_Category_1  Product_Category_2  Product_Category_3  \n",
       "0               0                   3            9.842329           12.668243  \n",
       "1               0                   1            6.000000           14.000000  \n",
       "2               0                  12            9.842329           12.668243  \n",
       "3               0                  12           14.000000           12.668243  \n",
       "4               0                   8            9.842329           12.668243  "
      ]
     },
     "execution_count": 46,
     "metadata": {},
     "output_type": "execute_result"
    }
   ],
   "source": [
    "X.head()"
   ]
  },
  {
   "cell_type": "markdown",
   "metadata": {
    "colab_type": "text",
    "id": "j46NzOi-27mO"
   },
   "source": [
    "### Clean the values for Age and Stay_In_Current_City_Years"
   ]
  },
  {
   "cell_type": "code",
   "execution_count": 47,
   "metadata": {
    "colab": {},
    "colab_type": "code",
    "id": "Lh31GgSZ27mP"
   },
   "outputs": [],
   "source": [
    "X['Age']=(X['Age'].str.strip('+'))"
   ]
  },
  {
   "cell_type": "code",
   "execution_count": 48,
   "metadata": {
    "colab": {},
    "colab_type": "code",
    "id": "O3-0JMA127mU"
   },
   "outputs": [],
   "source": [
    "X['Stay_In_Current_City_Years'] = (X['Stay_In_Current_City_Years'].str.strip('+').astype('float'))"
   ]
  },
  {
   "cell_type": "code",
   "execution_count": 49,
   "metadata": {
    "colab": {
     "base_uri": "https://localhost:8080/",
     "height": 292
    },
    "colab_type": "code",
    "id": "HB8U3ne427mY",
    "outputId": "17f85125-1fe4-4d19-cdd9-307bff2eb012"
   },
   "outputs": [
    {
     "data": {
      "text/html": [
       "<div>\n",
       "<style scoped>\n",
       "    .dataframe tbody tr th:only-of-type {\n",
       "        vertical-align: middle;\n",
       "    }\n",
       "\n",
       "    .dataframe tbody tr th {\n",
       "        vertical-align: top;\n",
       "    }\n",
       "\n",
       "    .dataframe thead th {\n",
       "        text-align: right;\n",
       "    }\n",
       "</style>\n",
       "<table border=\"1\" class=\"dataframe\">\n",
       "  <thead>\n",
       "    <tr style=\"text-align: right;\">\n",
       "      <th></th>\n",
       "      <th>Gender</th>\n",
       "      <th>Age</th>\n",
       "      <th>Occupation</th>\n",
       "      <th>City_Category</th>\n",
       "      <th>Stay_In_Current_City_Years</th>\n",
       "      <th>Marital_Status</th>\n",
       "      <th>Product_Category_1</th>\n",
       "      <th>Product_Category_2</th>\n",
       "      <th>Product_Category_3</th>\n",
       "    </tr>\n",
       "  </thead>\n",
       "  <tbody>\n",
       "    <tr>\n",
       "      <th>0</th>\n",
       "      <td>F</td>\n",
       "      <td>0-17</td>\n",
       "      <td>10</td>\n",
       "      <td>A</td>\n",
       "      <td>2.0</td>\n",
       "      <td>0</td>\n",
       "      <td>3</td>\n",
       "      <td>9.842329</td>\n",
       "      <td>12.668243</td>\n",
       "    </tr>\n",
       "    <tr>\n",
       "      <th>1</th>\n",
       "      <td>F</td>\n",
       "      <td>0-17</td>\n",
       "      <td>10</td>\n",
       "      <td>A</td>\n",
       "      <td>2.0</td>\n",
       "      <td>0</td>\n",
       "      <td>1</td>\n",
       "      <td>6.000000</td>\n",
       "      <td>14.000000</td>\n",
       "    </tr>\n",
       "    <tr>\n",
       "      <th>2</th>\n",
       "      <td>F</td>\n",
       "      <td>0-17</td>\n",
       "      <td>10</td>\n",
       "      <td>A</td>\n",
       "      <td>2.0</td>\n",
       "      <td>0</td>\n",
       "      <td>12</td>\n",
       "      <td>9.842329</td>\n",
       "      <td>12.668243</td>\n",
       "    </tr>\n",
       "    <tr>\n",
       "      <th>3</th>\n",
       "      <td>F</td>\n",
       "      <td>0-17</td>\n",
       "      <td>10</td>\n",
       "      <td>A</td>\n",
       "      <td>2.0</td>\n",
       "      <td>0</td>\n",
       "      <td>12</td>\n",
       "      <td>14.000000</td>\n",
       "      <td>12.668243</td>\n",
       "    </tr>\n",
       "    <tr>\n",
       "      <th>4</th>\n",
       "      <td>M</td>\n",
       "      <td>55</td>\n",
       "      <td>16</td>\n",
       "      <td>C</td>\n",
       "      <td>4.0</td>\n",
       "      <td>0</td>\n",
       "      <td>8</td>\n",
       "      <td>9.842329</td>\n",
       "      <td>12.668243</td>\n",
       "    </tr>\n",
       "  </tbody>\n",
       "</table>\n",
       "</div>"
      ],
      "text/plain": [
       "  Gender   Age  Occupation City_Category  Stay_In_Current_City_Years  \\\n",
       "0      F  0-17          10             A                         2.0   \n",
       "1      F  0-17          10             A                         2.0   \n",
       "2      F  0-17          10             A                         2.0   \n",
       "3      F  0-17          10             A                         2.0   \n",
       "4      M    55          16             C                         4.0   \n",
       "\n",
       "   Marital_Status  Product_Category_1  Product_Category_2  Product_Category_3  \n",
       "0               0                   3            9.842329           12.668243  \n",
       "1               0                   1            6.000000           14.000000  \n",
       "2               0                  12            9.842329           12.668243  \n",
       "3               0                  12           14.000000           12.668243  \n",
       "4               0                   8            9.842329           12.668243  "
      ]
     },
     "execution_count": 49,
     "metadata": {},
     "output_type": "execute_result"
    }
   ],
   "source": [
    "X.head()"
   ]
  },
  {
   "cell_type": "markdown",
   "metadata": {
    "colab_type": "text",
    "id": "5FYhhN9k27mc"
   },
   "source": [
    "### Convert String to numbers"
   ]
  },
  {
   "cell_type": "code",
   "execution_count": 50,
   "metadata": {
    "colab": {},
    "colab_type": "code",
    "id": "FF0XBAjp27md"
   },
   "outputs": [],
   "source": [
    "from sklearn.preprocessing import LabelEncoder\n",
    "labelencoder = LabelEncoder()"
   ]
  },
  {
   "cell_type": "code",
   "execution_count": 51,
   "metadata": {
    "colab": {
     "base_uri": "https://localhost:8080/",
     "height": 224
    },
    "colab_type": "code",
    "id": "7TIC_b5-27mh",
    "outputId": "3f314296-afc8-466c-906a-74b2199ea136"
   },
   "outputs": [
    {
     "data": {
      "text/html": [
       "<div>\n",
       "<style scoped>\n",
       "    .dataframe tbody tr th:only-of-type {\n",
       "        vertical-align: middle;\n",
       "    }\n",
       "\n",
       "    .dataframe tbody tr th {\n",
       "        vertical-align: top;\n",
       "    }\n",
       "\n",
       "    .dataframe thead th {\n",
       "        text-align: right;\n",
       "    }\n",
       "</style>\n",
       "<table border=\"1\" class=\"dataframe\">\n",
       "  <thead>\n",
       "    <tr style=\"text-align: right;\">\n",
       "      <th></th>\n",
       "      <th>Gender</th>\n",
       "      <th>Age</th>\n",
       "      <th>Occupation</th>\n",
       "      <th>City_Category</th>\n",
       "      <th>Stay_In_Current_City_Years</th>\n",
       "      <th>Marital_Status</th>\n",
       "      <th>Product_Category_1</th>\n",
       "      <th>Product_Category_2</th>\n",
       "      <th>Product_Category_3</th>\n",
       "    </tr>\n",
       "  </thead>\n",
       "  <tbody>\n",
       "    <tr>\n",
       "      <th>0</th>\n",
       "      <td>0</td>\n",
       "      <td>0</td>\n",
       "      <td>10</td>\n",
       "      <td>0</td>\n",
       "      <td>2.0</td>\n",
       "      <td>0</td>\n",
       "      <td>3</td>\n",
       "      <td>9.842329</td>\n",
       "      <td>12.668243</td>\n",
       "    </tr>\n",
       "    <tr>\n",
       "      <th>1</th>\n",
       "      <td>0</td>\n",
       "      <td>0</td>\n",
       "      <td>10</td>\n",
       "      <td>0</td>\n",
       "      <td>2.0</td>\n",
       "      <td>0</td>\n",
       "      <td>1</td>\n",
       "      <td>6.000000</td>\n",
       "      <td>14.000000</td>\n",
       "    </tr>\n",
       "    <tr>\n",
       "      <th>2</th>\n",
       "      <td>0</td>\n",
       "      <td>0</td>\n",
       "      <td>10</td>\n",
       "      <td>0</td>\n",
       "      <td>2.0</td>\n",
       "      <td>0</td>\n",
       "      <td>12</td>\n",
       "      <td>9.842329</td>\n",
       "      <td>12.668243</td>\n",
       "    </tr>\n",
       "    <tr>\n",
       "      <th>3</th>\n",
       "      <td>0</td>\n",
       "      <td>0</td>\n",
       "      <td>10</td>\n",
       "      <td>0</td>\n",
       "      <td>2.0</td>\n",
       "      <td>0</td>\n",
       "      <td>12</td>\n",
       "      <td>14.000000</td>\n",
       "      <td>12.668243</td>\n",
       "    </tr>\n",
       "    <tr>\n",
       "      <th>4</th>\n",
       "      <td>1</td>\n",
       "      <td>6</td>\n",
       "      <td>16</td>\n",
       "      <td>2</td>\n",
       "      <td>4.0</td>\n",
       "      <td>0</td>\n",
       "      <td>8</td>\n",
       "      <td>9.842329</td>\n",
       "      <td>12.668243</td>\n",
       "    </tr>\n",
       "  </tbody>\n",
       "</table>\n",
       "</div>"
      ],
      "text/plain": [
       "   Gender  Age  Occupation  City_Category  Stay_In_Current_City_Years  \\\n",
       "0       0    0          10              0                         2.0   \n",
       "1       0    0          10              0                         2.0   \n",
       "2       0    0          10              0                         2.0   \n",
       "3       0    0          10              0                         2.0   \n",
       "4       1    6          16              2                         4.0   \n",
       "\n",
       "   Marital_Status  Product_Category_1  Product_Category_2  Product_Category_3  \n",
       "0               0                   3            9.842329           12.668243  \n",
       "1               0                   1            6.000000           14.000000  \n",
       "2               0                  12            9.842329           12.668243  \n",
       "3               0                  12           14.000000           12.668243  \n",
       "4               0                   8            9.842329           12.668243  "
      ]
     },
     "execution_count": 51,
     "metadata": {},
     "output_type": "execute_result"
    }
   ],
   "source": [
    "X['Gender'] = labelencoder.fit_transform(X['Gender'])\n",
    "X['Age'] = labelencoder.fit_transform(X['Age'])\n",
    "X['City_Category'] = labelencoder.fit_transform(X['City_Category'])\n",
    "X.head()"
   ]
  },
  {
   "cell_type": "markdown",
   "metadata": {
    "colab_type": "text",
    "id": "6deUIbnD27ms"
   },
   "source": [
    "### Scaling the data"
   ]
  },
  {
   "cell_type": "code",
   "execution_count": 56,
   "metadata": {
    "colab": {
     "base_uri": "https://localhost:8080/",
     "height": 204
    },
    "colab_type": "code",
    "id": "A_H5XjS227mw",
    "outputId": "0fbe4835-0d3b-4f8c-df89-594e52c7d04e"
   },
   "outputs": [
    {
     "data": {
      "text/html": [
       "<div>\n",
       "<style scoped>\n",
       "    .dataframe tbody tr th:only-of-type {\n",
       "        vertical-align: middle;\n",
       "    }\n",
       "\n",
       "    .dataframe tbody tr th {\n",
       "        vertical-align: top;\n",
       "    }\n",
       "\n",
       "    .dataframe thead th {\n",
       "        text-align: right;\n",
       "    }\n",
       "</style>\n",
       "<table border=\"1\" class=\"dataframe\">\n",
       "  <thead>\n",
       "    <tr style=\"text-align: right;\">\n",
       "      <th></th>\n",
       "      <th>0</th>\n",
       "      <th>1</th>\n",
       "      <th>2</th>\n",
       "      <th>3</th>\n",
       "      <th>4</th>\n",
       "      <th>5</th>\n",
       "      <th>6</th>\n",
       "      <th>7</th>\n",
       "      <th>8</th>\n",
       "    </tr>\n",
       "  </thead>\n",
       "  <tbody>\n",
       "    <tr>\n",
       "      <th>0</th>\n",
       "      <td>-1.746513</td>\n",
       "      <td>-1.844248</td>\n",
       "      <td>0.294864</td>\n",
       "      <td>-1.371516</td>\n",
       "      <td>0.109801</td>\n",
       "      <td>-0.833018</td>\n",
       "      <td>-0.610809</td>\n",
       "      <td>4.221533e-16</td>\n",
       "      <td>-7.819065e-16</td>\n",
       "    </tr>\n",
       "    <tr>\n",
       "      <th>1</th>\n",
       "      <td>-1.746513</td>\n",
       "      <td>-1.844248</td>\n",
       "      <td>0.294864</td>\n",
       "      <td>-1.371516</td>\n",
       "      <td>0.109801</td>\n",
       "      <td>-0.833018</td>\n",
       "      <td>-1.118912</td>\n",
       "      <td>-9.131340e-01</td>\n",
       "      <td>5.862050e-01</td>\n",
       "    </tr>\n",
       "    <tr>\n",
       "      <th>2</th>\n",
       "      <td>-1.746513</td>\n",
       "      <td>-1.844248</td>\n",
       "      <td>0.294864</td>\n",
       "      <td>-1.371516</td>\n",
       "      <td>0.109801</td>\n",
       "      <td>-0.833018</td>\n",
       "      <td>1.675656</td>\n",
       "      <td>4.221533e-16</td>\n",
       "      <td>-7.819065e-16</td>\n",
       "    </tr>\n",
       "    <tr>\n",
       "      <th>3</th>\n",
       "      <td>-1.746513</td>\n",
       "      <td>-1.844248</td>\n",
       "      <td>0.294864</td>\n",
       "      <td>-1.371516</td>\n",
       "      <td>0.109801</td>\n",
       "      <td>-0.833018</td>\n",
       "      <td>1.675656</td>\n",
       "      <td>9.880753e-01</td>\n",
       "      <td>-7.819065e-16</td>\n",
       "    </tr>\n",
       "    <tr>\n",
       "      <th>4</th>\n",
       "      <td>0.572570</td>\n",
       "      <td>2.588277</td>\n",
       "      <td>1.214734</td>\n",
       "      <td>1.259336</td>\n",
       "      <td>1.660861</td>\n",
       "      <td>-0.833018</td>\n",
       "      <td>0.659449</td>\n",
       "      <td>4.221533e-16</td>\n",
       "      <td>-7.819065e-16</td>\n",
       "    </tr>\n",
       "  </tbody>\n",
       "</table>\n",
       "</div>"
      ],
      "text/plain": [
       "          0         1         2         3         4         5         6  \\\n",
       "0 -1.746513 -1.844248  0.294864 -1.371516  0.109801 -0.833018 -0.610809   \n",
       "1 -1.746513 -1.844248  0.294864 -1.371516  0.109801 -0.833018 -1.118912   \n",
       "2 -1.746513 -1.844248  0.294864 -1.371516  0.109801 -0.833018  1.675656   \n",
       "3 -1.746513 -1.844248  0.294864 -1.371516  0.109801 -0.833018  1.675656   \n",
       "4  0.572570  2.588277  1.214734  1.259336  1.660861 -0.833018  0.659449   \n",
       "\n",
       "              7             8  \n",
       "0  4.221533e-16 -7.819065e-16  \n",
       "1 -9.131340e-01  5.862050e-01  \n",
       "2  4.221533e-16 -7.819065e-16  \n",
       "3  9.880753e-01 -7.819065e-16  \n",
       "4  4.221533e-16 -7.819065e-16  "
      ]
     },
     "execution_count": 56,
     "metadata": {},
     "output_type": "execute_result"
    }
   ],
   "source": [
    "scaler = preprocessing.StandardScaler().fit(X)\n",
    "X_scale = pd.DataFrame(scaler.transform(X))\n",
    "X_scale.head()"
   ]
  },
  {
   "cell_type": "markdown",
   "metadata": {
    "colab_type": "text",
    "id": "dNa1b98m27m2"
   },
   "source": [
    "### Train - Valid - Test Split"
   ]
  },
  {
   "cell_type": "code",
   "execution_count": 59,
   "metadata": {
    "colab": {
     "base_uri": "https://localhost:8080/",
     "height": 34
    },
    "colab_type": "code",
    "id": "o4r9q0zF27m4",
    "outputId": "d2bae05a-bb8a-400e-c483-b48176549789"
   },
   "outputs": [
    {
     "name": "stdout",
     "output_type": "stream",
     "text": [
      "(385047, 9) (165021, 9) (385047, 1) (165021, 1)\n"
     ]
    }
   ],
   "source": [
    "# Train - Valid Split\n",
    "(X_train, X_valid_test, Y_train, Y_valid_test) = train_test_split(X_scale, Y, test_size=0.3, random_state=1)\n",
    "print(X_train.shape, X_valid_test.shape, Y_train.shape, Y_valid_test.shape)"
   ]
  },
  {
   "cell_type": "code",
   "execution_count": 60,
   "metadata": {
    "colab": {
     "base_uri": "https://localhost:8080/",
     "height": 34
    },
    "colab_type": "code",
    "id": "Mhsn2xtw27m7",
    "outputId": "86a1b2fb-03e6-45b6-f096-0e2adb282ca7"
   },
   "outputs": [
    {
     "name": "stdout",
     "output_type": "stream",
     "text": [
      "(82510, 9) (82511, 9) (82510, 1) (82511, 1)\n"
     ]
    }
   ],
   "source": [
    "#Valid - Test split (divide valid dataset into 2 halves)\n",
    "(X_valid, X_test, Y_valid, Y_test) = train_test_split(X_valid_test, Y_valid_test, test_size=0.5, random_state=1)\n",
    "print(X_valid.shape, X_test.shape, Y_valid.shape, Y_test.shape)"
   ]
  },
  {
   "cell_type": "markdown",
   "metadata": {
    "colab_type": "text",
    "id": "orueqeNW27m9"
   },
   "source": [
    "### Build and compile a deep learning model"
   ]
  },
  {
   "cell_type": "code",
   "execution_count": 71,
   "metadata": {
    "colab": {
     "base_uri": "https://localhost:8080/",
     "height": 411
    },
    "colab_type": "code",
    "id": "Gk1fwcMx27m9",
    "outputId": "f1bba052-a2b8-4e5c-f462-4e4987149abe"
   },
   "outputs": [
    {
     "name": "stdout",
     "output_type": "stream",
     "text": [
      "Model: \"sequential_5\"\n",
      "_________________________________________________________________\n",
      "Layer (type)                 Output Shape              Param #   \n",
      "=================================================================\n",
      "dense_13 (Dense)             (None, 10)                100       \n",
      "_________________________________________________________________\n",
      "dense_14 (Dense)             (None, 6)                 66        \n",
      "_________________________________________________________________\n",
      "dense_15 (Dense)             (None, 1)                 7         \n",
      "=================================================================\n",
      "Total params: 173\n",
      "Trainable params: 173\n",
      "Non-trainable params: 0\n",
      "_________________________________________________________________\n"
     ]
    }
   ],
   "source": [
    "model = Sequential()\n",
    "model.add(Dense(10, input_dim=9, kernel_initializer='normal', activation='relu'))\n",
    "model.add(Dense(6, activation='relu'))\n",
    "model.add(Dense(1, activation='linear'))\n",
    "model.summary()"
   ]
  },
  {
   "cell_type": "code",
   "execution_count": 72,
   "metadata": {
    "colab": {
     "base_uri": "https://localhost:8080/",
     "height": 71
    },
    "colab_type": "code",
    "id": "6r5piYQ827nA",
    "outputId": "ca4ddd54-0f50-466f-93fe-6c6ea22a52a3"
   },
   "outputs": [],
   "source": [
    "model.compile(loss='mse', optimizer='adam', metrics=['mse','mae'])"
   ]
  },
  {
   "cell_type": "code",
   "execution_count": 74,
   "metadata": {
    "colab": {
     "base_uri": "https://localhost:8080/",
     "height": 666
    },
    "colab_type": "code",
    "id": "2W9pmVOBx3cZ",
    "outputId": "7c77a936-de42-4ae2-9b8a-8746ada11945"
   },
   "outputs": [
    {
     "name": "stdout",
     "output_type": "stream",
     "text": [
      "Train on 385047 samples, validate on 82510 samples\n",
      "Epoch 1/5\n",
      "385047/385047 [==============================] - 32s 83us/step - loss: 20450374.7276 - mse: 20450386.0000 - mae: 3428.4116 - val_loss: 19445981.5642 - val_mse: 19445964.0000 - val_mae: 3319.2219\n",
      "Epoch 2/5\n",
      "385047/385047 [==============================] - 32s 82us/step - loss: 18511163.4811 - mse: 18511204.0000 - mae: 3194.6140 - val_loss: 17903839.5358 - val_mse: 17903836.0000 - val_mae: 3116.6843\n",
      "Epoch 3/5\n",
      "385047/385047 [==============================] - 32s 82us/step - loss: 17869545.6937 - mse: 17869540.0000 - mae: 3112.3296 - val_loss: 17689025.0909 - val_mse: 17689030.0000 - val_mae: 3097.5964\n",
      "Epoch 4/5\n",
      "385047/385047 [==============================] - 31s 82us/step - loss: 17747884.1438 - mse: 17747848.0000 - mae: 3095.9763 - val_loss: 17614639.7288 - val_mse: 17614628.0000 - val_mae: 3074.1213 - mse: 17765036.0\n",
      "Epoch 5/5\n",
      "385047/385047 [==============================] - 32s 82us/step - loss: 17664589.0025 - mse: 17664586.0000 - mae: 3081.6433 - val_loss: 17486715.1649 - val_mse: 17486708.0000 - val_mae: 3057.0728\n"
     ]
    }
   ],
   "source": [
    "history = model.fit(X_train, Y_train, validation_data=(X_valid, Y_valid), epochs=5, batch_size=10)"
   ]
  },
  {
   "cell_type": "code",
   "execution_count": 76,
   "metadata": {
    "colab": {
     "base_uri": "https://localhost:8080/",
     "height": 51
    },
    "colab_type": "code",
    "id": "ER4uAJuHDXj0",
    "outputId": "2e3b0bfe-da15-4f12-8b08-6902685abefc"
   },
   "outputs": [
    {
     "name": "stdout",
     "output_type": "stream",
     "text": [
      "82511/82511 [==============================] - 1s 9us/step\n",
      "Accuracy: 1763148000.00%\n"
     ]
    }
   ],
   "source": [
    "# Evaluate the model\n",
    "scores = model.evaluate(X_test, Y_test)\n",
    "print (\"Accuracy: %.2f%%\" %(scores[1]*100))"
   ]
  },
  {
   "cell_type": "markdown",
   "metadata": {
    "colab_type": "text",
    "id": "V8DtvJZ-DhHu"
   },
   "source": [
    "### Hyperparameter tuning"
   ]
  },
  {
   "cell_type": "code",
   "execution_count": 82,
   "metadata": {
    "colab": {},
    "colab_type": "code",
    "id": "uptPyT6mDkfd"
   },
   "outputs": [],
   "source": [
    "def model_fn():\n",
    "    model1 = Sequential()\n",
    "    model1.add(Dense(10, input_dim=9, kernel_initializer='uniform', activation='relu'))\n",
    "    model1.add(Dense(6, kernel_initializer='uniform', activation='relu'))\n",
    "    model1.add(Dense(1, kernel_initializer='uniform', activation='sigmoid'))\n",
    "    model1.compile(loss='binary_crossentropy', optimizer='adam', metrics=['mse', 'mae'])\n",
    "    return model1"
   ]
  },
  {
   "cell_type": "code",
   "execution_count": 83,
   "metadata": {},
   "outputs": [],
   "source": [
    "model2 = KerasRegressor(build_fn=model_fn, epochs=5, batch_size=10)"
   ]
  },
  {
   "cell_type": "code",
   "execution_count": 84,
   "metadata": {
    "colab": {
     "base_uri": "https://localhost:8080/",
     "height": 547
    },
    "colab_type": "code",
    "id": "ogJvLjK3Dkdl",
    "outputId": "ba54a0bd-4d90-4248-e328-8140ee6c3514"
   },
   "outputs": [
    {
     "name": "stdout",
     "output_type": "stream",
     "text": [
      "Epoch 1/5\n",
      "82510/82510 [==============================] - 7s 86us/step - loss: -279683713.0049 - mse: 110850880.0000 - mae: 9252.9854: 1s - loss: -187755297.8191 - mse: 111048736.\n",
      "Epoch 2/5\n",
      "82510/82510 [==============================] - 7s 84us/step - loss: -2809487414.3042 - mse: 110850496.0000 - mae: 9252.9912 5s - loss: -1149977030.2238 - mse: 110167880.0000 - mae: 9241.94 - ETA: 5s - loss: -115877 - ETA: 4s - loss: -1404 - ETA: 1s - loss: -2238567620.7509 -  - ETA: 0s - loss: -2556471952.0000 - mse: 110768320.0000 - mae: 9248. - ETA: 0s - loss: -2590561110.5827 - mse: 1108406\n",
      "Epoch 3/5\n",
      "82510/82510 [==============================] - 7s 84us/step - loss: -9844308657.9527 - mse: 110850416.0000 - mae: 9253.0098 0s - loss: -9521477305.9173 - mse: 110884808.0000 \n",
      "Epoch 4/5\n",
      "82510/82510 [==============================] - 7s 83us/step - loss: -23367431409.8519 - mse: 110850480.0000 - mae: 9252.9941: 0s - loss: -22572739060.6879 - mse: 111071320.0000 - ma\n",
      "Epoch 5/5\n",
      "82510/82510 [==============================] - 7s 84us/step - loss: -45353787319.5220 - mse: 110850728.0000 - mae: 9253.0049\n"
     ]
    },
    {
     "data": {
      "text/plain": [
       "<keras.callbacks.callbacks.History at 0x1a4c188310>"
      ]
     },
     "execution_count": 84,
     "metadata": {},
     "output_type": "execute_result"
    }
   ],
   "source": [
    "model2.fit(X_valid, Y_valid)"
   ]
  },
  {
   "cell_type": "code",
   "execution_count": 87,
   "metadata": {
    "colab": {
     "base_uri": "https://localhost:8080/",
     "height": 1000
    },
    "colab_type": "code",
    "id": "ThVZqxOUDka_",
    "outputId": "aefd0b23-0e46-4aa5-95ea-6a132603f526"
   },
   "outputs": [],
   "source": [
    "#Apply GridSearchCV\n",
    "model2 = KerasRegressor(build_fn=model_fn)\n",
    "batch_sizes = [10, 20]\n",
    "epochs_list = [2, 5]\n",
    "parameters = dict(batch_size=batch_sizes, epochs=epochs_list)"
   ]
  },
  {
   "cell_type": "code",
   "execution_count": 88,
   "metadata": {},
   "outputs": [
    {
     "name": "stdout",
     "output_type": "stream",
     "text": [
      "Epoch 1/2\n",
      "66008/66008 [==============================] - 6s 94us/step - loss: -129089666.2670 - mse: 110986560.0000 - mae: 9258.2061\n",
      "Epoch 2/2\n",
      "66008/66008 [==============================] - 6s 92us/step - loss: -1286294365.7586 - mse: 110986488.0000 - mae: 9258.1719\n",
      "16502/16502 [==============================] - 1s 44us/step\n",
      "Epoch 1/2\n",
      "66008/66008 [==============================] - 6s 97us/step - loss: -193640776.3060 - mse: 110899624.0000 - mae: 9256.5547\n",
      "Epoch 2/2\n",
      "66008/66008 [==============================] - 6s 91us/step - loss: -1945077151.1531 - mse: 110899328.0000 - mae: 9256.5635 0s - loss: -1819222088.0091 - mse: 110869184.000\n",
      "16502/16502 [==============================] - 1s 44us/step\n",
      "Epoch 1/2\n",
      "66008/66008 [==============================] - 6s 96us/step - loss: -121615462.9091 - mse: 111113480.0000 - mae: 9265.58011s - loss: -6553642\n",
      "Epoch 2/2\n",
      "66008/66008 [==============================] - 6s 96us/step - loss: -1249569059.0130 - mse: 111113360.0000 - mae: 9265.5518 0s - loss: -1156499557.5144 - mse: 111171136\n",
      "16502/16502 [==============================] - 1s 46us/step\n",
      "Epoch 1/2\n",
      "66008/66008 [==============================] - 7s 100us/step - loss: -127432638.9306 - mse: 110487360.0000 - mae: 9235.5127\n",
      "Epoch 2/2\n",
      "66008/66008 [==============================] - 7s 100us/step - loss: -1280273672.0119 - mse: 110487040.0000 - mae: 9235.4736\n",
      "16502/16502 [==============================] - 1s 50us/step\n",
      "Epoch 1/2\n",
      "66008/66008 [==============================] - 8s 119us/step - loss: -96585445.0962 - mse: 110767120.0000 - mae: 9249.23630s - loss: -79996396.6257 - mse: 1\n",
      "Epoch 2/2\n",
      "66008/66008 [==============================] - 7s 105us/step - loss: -966712257.4296 - mse: 110766808.0000 - mae: 9249.2168 2s - loss: -709064870.2334 - mse: 110787288.0000 - mae: 9248.5 - ETA: 1s - loss: -726163\n",
      "16502/16502 [==============================] - 1s 63us/step\n",
      "Epoch 1/5\n",
      "66008/66008 [==============================] - 7s 111us/step - loss: -30103.6446 - mse: 110988208.0000 - mae: 9258.2998s - loss: -6081.092 - ETA: 4s - loss: -1131 - ETA: 2s - loss: -20454\n",
      "Epoch 2/5\n",
      "66008/66008 [==============================] - 7s 105us/step - loss: -90416.9142 - mse: 110986520.0000 - mae: 9258.1826 4s - loss: -68608.8109 - mse:\n",
      "Epoch 3/5\n",
      "66008/66008 [==============================] - 8s 117us/step - loss: -150565.7834 - mse: 110986576.0000 - mae: 9258.1816\n",
      "Epoch 4/5\n",
      "66008/66008 [==============================] - 7s 99us/step - loss: -210847.7552 - mse: 110986344.0000 - mae: 9258.1719\n",
      "Epoch 5/5\n",
      "66008/66008 [==============================] - 6s 98us/step - loss: -271098.2746 - mse: 110986104.0000 - mae: 9258.1709\n",
      "16502/16502 [==============================] - 1s 50us/step\n",
      "Epoch 1/5\n",
      "66008/66008 [==============================] - 7s 109us/step - loss: -128113428.3971 - mse: 110899968.0000 - mae: 9256.5576s - loss: -6918\n",
      "Epoch 2/5\n",
      "66008/66008 [==============================] - 7s 104us/step - loss: -1281468485.8078 - mse: 110899296.0000 - mae: 9256.5479\n",
      "Epoch 3/5\n",
      "66008/66008 [==============================] - 7s 109us/step - loss: -4405453240.4470 - mse: 110899576.0000 - mae: 9256.55765s - loss: -2794397351.4141 - mse: 109612680.0000 - ma - ETA: 1s - loss: -3917326611.3076 - mse: 110802640.0000 -  - ETA: 1s - loss: -4023633787\n",
      "Epoch 4/5\n",
      "66008/66008 [==============================] - 7s 107us/step - loss: -10344094630.2053 - mse: 110899408.0000 - mae: 9256.5654\n",
      "Epoch 5/5\n",
      "66008/66008 [==============================] - 7s 100us/step - loss: -19858032227.5719 - mse: 110899344.0000 - mae: 9256.5459 2s - loss: -17769044\n",
      "16502/16502 [==============================] - 1s 54us/step\n",
      "Epoch 1/5\n",
      "66008/66008 [==============================] - 7s 109us/step - loss: -129952398.2554 - mse: 111113576.0000 - mae: 9265.5762\n",
      "Epoch 2/5\n",
      "66008/66008 [==============================] - 7s 111us/step - loss: -1295525508.8695 - mse: 111113584.0000 - mae: 9265.56251s - loss: -\n",
      "Epoch 3/5\n",
      "66008/66008 [==============================] - 7s 113us/step - loss: -4480087159.4696 - mse: 111113504.0000 - mae: 9265.5664\n",
      "Epoch 4/5\n",
      "66008/66008 [==============================] - 7s 102us/step - loss: -10624423152.9347 - mse: 111113304.0000 - mae: 9265.5518\n",
      "Epoch 5/5\n",
      "66008/66008 [==============================] - 7s 103us/step - loss: -20976721595.2685 - mse: 111113248.0000 - mae: 9265.5732 4s - loss:  - ETA: 1s - loss: -19348237880.6879 - mse: 110923296.0000 - - ETA: 0s - loss: -20132977555.8640 - mse: 111084408.0000 -  - ETA: 0s - loss: -20839267266.7611 - mse: 111131832.0000 - mae: 9266.6\n",
      "16502/16502 [==============================] - 1s 55us/step\n",
      "Epoch 1/5\n",
      "66008/66008 [==============================] - 7s 108us/step - loss: -160934928.4743 - mse: 110487400.0000 - mae: 9235.5254\n",
      "Epoch 2/5\n",
      "66008/66008 [==============================] - 7s 104us/step - loss: -1605889562.4918 - mse: 110486792.0000 - mae: 9235.4834\n",
      "Epoch 3/5\n",
      "66008/66008 [==============================] - 7s 106us/step - loss: -5542267971.2306 - mse: 110487008.0000 - mae: 9235.49801s - loss: -500260\n",
      "Epoch 4/5\n",
      "66008/66008 [==============================] - 7s 104us/step - loss: -13023131226.8612 - mse: 110486808.0000 - mae: 9235.5117\n",
      "Epoch 5/5\n",
      "66008/66008 [==============================] - 7s 112us/step - loss: -25023433014.9868 - mse: 110487240.0000 - mae: 9235.4912 1s - loss: -23023091604.9113 - mse: 110414928.0 - ETA: 0s - loss: -24006568824.0359 - mse: 110505688.000\n",
      "16502/16502 [==============================] - 1s 59us/step\n",
      "Epoch 1/5\n",
      "66008/66008 [==============================] - 7s 110us/step - loss: -196911267.6289 - mse: 110767064.0000 - mae: 9249.2100\n",
      "Epoch 2/5\n",
      "66008/66008 [==============================] - 7s 111us/step - loss: -1961441285.7530 - mse: 110766776.0000 - mae: 9249.20700s - loss: -1880430277.2842 - mse: 110609080.0000 - \n",
      "Epoch 3/5\n",
      "66008/66008 [==============================] - 8s 114us/step - loss: -6724535358.7900 - mse: 110766784.0000 - mae: 9249.21681s - loss: -5849802776.6695 - mse: 1 - ETA: 1s - loss: -6170666554\n",
      "Epoch 4/5\n",
      "66008/66008 [==============================] - 7s 111us/step - loss: -15717766485.3540 - mse: 110766888.0000 - mae: 9249.2100\n",
      "Epoch 5/5\n",
      "66008/66008 [==============================] - 7s 107us/step - loss: -30264085730.1835 - mse: 110766808.0000 - mae: 9249.2256\n",
      "16502/16502 [==============================] - 1s 61us/step\n",
      "Epoch 1/2\n",
      "66008/66008 [==============================] - 4s 61us/step - loss: -26919555.7017 - mse: 110986600.0000 - mae: 9258.1953\n",
      "Epoch 2/2\n",
      "66008/66008 [==============================] - 4s 55us/step - loss: -281044924.9337 - mse: 110986352.0000 - mae: 9258.1738: 3s \n",
      "16502/16502 [==============================] - 1s 36us/step\n",
      "Epoch 1/2\n",
      "66008/66008 [==============================] - 4s 60us/step - loss: -34050227.8150 - mse: 110899864.0000 - mae: 9256.5674\n",
      "Epoch 2/2\n",
      "66008/66008 [==============================] - 4s 59us/step - loss: -353756927.4740 - mse: 110899392.0000 - mae: 9256.5586: 3s - loss: -153495096.7355 - mse: 111500752. - ETA: 2s - loss: -210071279.7\n",
      "16502/16502 [==============================] - 1s 41us/step\n",
      "Epoch 1/2\n",
      "66008/66008 [==============================] - 4s 61us/step - loss: -25424401.4264 - mse: 111113528.0000 - mae: 9265.5898\n",
      "Epoch 2/2\n",
      "66008/66008 [==============================] - 4s 63us/step - loss: -270059778.2068 - mse: 111113240.0000 - mae: 9265.5547: 2s - loss: -164965694.7219 - mse: 110701336.0000 - mae: 9 - ETA: 1s - loss: -183585196.2707 - mse\n",
      "16502/16502 [==============================] - 1s 41us/step\n",
      "Epoch 1/2\n",
      "66008/66008 [==============================] - 4s 64us/step - loss: -31817210.5699 - mse: 110487552.0000 - mae: 9235.5215\n",
      "Epoch 2/2\n",
      "66008/66008 [==============================] - 4s 60us/step - loss: -338778074.1862 - mse: 110486904.0000 - mae: 9235.5088\n",
      "16502/16502 [==============================] - 1s 41us/step\n",
      "Epoch 1/2\n",
      "66008/66008 [==============================] - 4s 65us/step - loss: -33127783.8059 - mse: 110767312.0000 - mae: 9249.2266 0s - loss: -21900436.6924 - mse: 1103357\n",
      "Epoch 2/2\n",
      "66008/66008 [==============================] - 4s 61us/step - loss: -347554815.2614 - mse: 110766808.0000 - mae: 9249.2061\n",
      "16502/16502 [==============================] - 1s 42us/step\n",
      "Epoch 1/5\n",
      "66008/66008 [==============================] - 4s 61us/step - loss: -32376793.3214 - mse: 110986800.0000 - mae: 9258.2070\n",
      "Epoch 2/5\n",
      "66008/66008 [==============================] - 4s 58us/step - loss: -339065987.0057 - mse: 110986608.0000 - mae: 9258.1699: 2s -\n",
      "Epoch 3/5\n",
      "66008/66008 [==============================] - 4s 60us/step - loss: -1139601548.4116 - mse: 110986384.0000 - mae: 9258.1729\n",
      "Epoch 4/5\n",
      "66008/66008 [==============================] - 4s 62us/step - loss: -2589650930.4492 - mse: 110986448.0000 - mae: 9258.1660\n",
      "Epoch 5/5\n",
      "66008/66008 [==============================] - 4s 58us/step - loss: -4837351159.5685 - mse: 110986440.0000 - mae: 9258.1680\n",
      "16502/16502 [==============================] - 1s 42us/step\n",
      "Epoch 1/5\n",
      "66008/66008 [==============================] - 4s 61us/step - loss: -26494866.4981 - mse: 110899912.0000 - mae: 9256.5820\n",
      "Epoch 2/5\n",
      "66008/66008 [==============================] - 4s 61us/step - loss: -283406513.0595 - mse: 110899352.0000 - mae: 9256.5576\n",
      "Epoch 3/5\n",
      "66008/66008 [==============================] - 4s 62us/step - loss: -1005527125.4956 - mse: 110899352.0000 - mae: 9256.5586 2s - loss: -677616217.4910 - mse: 1 - ETA: 1s - loss: -843570605.7965 - mse: 11108\n",
      "Epoch 4/5\n",
      "66008/66008 [==============================] - 4s 63us/step - loss: -2359408399.5094 - mse: 110899424.0000 - mae: 9256.5537 0s - loss: -2150304212.6711 - mse: 110507840.0000 -  - ETA: 0s - loss: -2232196474.5893 - mse: 1108263\n",
      "Epoch 5/5\n",
      "66008/66008 [==============================] - 4s 63us/step - loss: -4489992852.6637 - mse: 110899408.0000 - mae: 9256.5586 2s - loss: -3701417479.9649 - mse: 111138704.0000 - mae: 9265. - ETA: 2s - loss: -3727267632.3019 - mse: 1\n",
      "16502/16502 [==============================] - 1s 45us/step\n",
      "Epoch 1/5\n",
      "66008/66008 [==============================] - 5s 72us/step - loss: -17084762.2024 - mse: 111113888.0000 - mae: 9265.5791\n",
      "Epoch 2/5\n",
      "66008/66008 [==============================] - 4s 65us/step - loss: -187913214.2638 - mse: 111113232.0000 - mae: 9265.5605\n",
      "Epoch 3/5\n",
      "66008/66008 [==============================] - 4s 64us/step - loss: -643082963.4929 - mse: 111113352.0000 - mae: 9265.5596: 1s - loss: -499491656.0176\n",
      "Epoch 4/5\n",
      "66008/66008 [==============================] - 4s 65us/step - loss: -1469907178.9989 - mse: 111113296.0000 - mae: 9265.5732\n",
      "Epoch 5/5\n",
      "66008/66008 [==============================] - 5s 72us/step - loss: -2760490964.1285 - mse: 111113336.0000 - mae: 9265.5596 2s - loss: -2347844923.3131 - mse: 110948328.0000 - mae: 9261. - ETA: 2s - loss: -2366501254.8544 - mse: - ETA: 1s -\n",
      "16502/16502 [==============================] - 1s 49us/step\n",
      "Epoch 1/5\n",
      "66008/66008 [==============================] - 4s 66us/step - loss: -32783959.0248 - mse: 110487304.0000 - mae: 9235.5127 0s - loss: -29672730.5405 - mse: 110475000.0000 - mae: 923\n",
      "Epoch 2/5\n",
      "66008/66008 [==============================] - 4s 61us/step - loss: -343817395.4500 - mse: 110486816.0000 - mae: 9235.4971\n",
      "Epoch 3/5\n",
      "66008/66008 [==============================] - 4s 62us/step - loss: -1153125242.5742 - mse: 110487024.0000 - mae: 9235.4922 0s - loss: -1060153777.2607 - mse: 11043\n",
      "Epoch 4/5\n",
      "66008/66008 [==============================] - 4s 62us/step - loss: -2611599223.5569 - mse: 110486784.0000 - mae: 9235.4971 0s - loss: -2602604614.4528 - mse: 110555016.0000 - mae: 9239.28\n",
      "Epoch 5/5\n",
      "66008/66008 [==============================] - 4s 60us/step - loss: -4874367821.2328 - mse: 110486872.0000 - mae: 9235.5020 2s - loss: -4093811593.1 - ETA: 1s - loss: -444810\n",
      "16502/16502 [==============================] - 1s 45us/step\n",
      "Epoch 1/5\n",
      "66008/66008 [==============================] - 4s 67us/step - loss: -33392098.6320 - mse: 110767184.0000 - mae: 9249.2207 2s - loss: -6416418.5214 - mse: 110703592.0000 - mae: 9254 - ETA: 1s - loss: -8422035.2913 - mse: 110670344.0000 - mae: 9250.8 - ETA: 1s - l\n",
      "Epoch 2/5\n",
      "66008/66008 [==============================] - 4s 60us/step - loss: -349834622.2380 - mse: 110766920.0000 - mae: 9249.2051: 2s - loss: \n",
      "Epoch 3/5\n",
      "66008/66008 [==============================] - 4s 63us/step - loss: -1173056332.3049 - mse: 110766712.0000 - mae: 9249.2168\n",
      "Epoch 4/5\n",
      "66008/66008 [==============================] - 5s 69us/step - loss: -2654913042.6663 - mse: 110766872.0000 - mae: 9249.2041\n",
      "Epoch 5/5\n",
      "66008/66008 [==============================] - 4s 62us/step - loss: -4959634908.0635 - mse: 110766688.0000 - mae: 9249.2217 2s - loss: -4172539204.7140 -  - ETA: 1s - loss: -4516049092.1153 - mse: 1 - ETA: 0s - loss: -4756131229.2920 - mse: 110649464\n",
      "16502/16502 [==============================] - 1s 50us/step\n",
      "Epoch 1/5\n",
      "82510/82510 [==============================] - 12s 144us/step - loss: -276439329.4967 - mse: 110850448.0000 - mae: 9253.03032s - loss: -151\n",
      "Epoch 2/5\n",
      "82510/82510 [==============================] - 11s 131us/step - loss: -2788821797.2319 - mse: 110850864.0000 - mae: 9252.9941\n",
      "Epoch 3/5\n",
      "82510/82510 [==============================] - 11s 130us/step - loss: -9787509723.9937 - mse: 110850408.0000 - mae: 9252.9990\n",
      "Epoch 4/5\n",
      "82510/82510 [==============================] - 11s 136us/step - loss: -23233627739.7145 - mse: 110850648.0000 - mae: 9252.9873\n",
      "Epoch 5/5\n",
      "82510/82510 [==============================] - 11s 135us/step - loss: -45198118014.9606 - mse: 110850696.0000 - mae: 9253.00787s - loss: -36519463523.1743 - mse: 110735936 - ETA: 5s - loss: -37890962397.3016 - mse: 11056452 - ETA: 4s - loss: -39462095811.2506 - mse: 110741016.0000 - ma - ETA: 3s - loss: -40124433066.9258 - mse: 110611944.0000 - mae: - ETA: 3s - loss: -40769709669.4612 - mse: 110795376.0000 - mae:  - ETA: 2s -\n"
     ]
    },
    {
     "data": {
      "text/plain": [
       "GridSearchCV(cv=None, error_score=nan,\n",
       "             estimator=<keras.wrappers.scikit_learn.KerasRegressor object at 0x1a4bfcb0d0>,\n",
       "             iid='deprecated', n_jobs=None,\n",
       "             param_grid={'batch_size': [10, 20], 'epochs': [2, 5]},\n",
       "             pre_dispatch='2*n_jobs', refit=True, return_train_score=False,\n",
       "             scoring=None, verbose=0)"
      ]
     },
     "execution_count": 88,
     "metadata": {},
     "output_type": "execute_result"
    }
   ],
   "source": [
    "grid = GridSearchCV(estimator=model2, param_grid=parameters)\n",
    "grid.fit(X_valid, Y_valid)"
   ]
  },
  {
   "cell_type": "code",
   "execution_count": 89,
   "metadata": {
    "colab": {
     "base_uri": "https://localhost:8080/",
     "height": 71
    },
    "colab_type": "code",
    "id": "tC8rSuuoDkVg",
    "outputId": "0c4b710b-a322-45d0-8635-a31e661b96e4"
   },
   "outputs": [
    {
     "name": "stdout",
     "output_type": "stream",
     "text": [
      "25287357992.431694 {'batch_size': 10, 'epochs': 5}\n"
     ]
    }
   ],
   "source": [
    "print(grid.best_score_, grid.best_params_)"
   ]
  },
  {
   "cell_type": "code",
   "execution_count": 90,
   "metadata": {},
   "outputs": [
    {
     "name": "stdout",
     "output_type": "stream",
     "text": [
      "[{'batch_size': 10, 'epochs': 2}, {'batch_size': 10, 'epochs': 5}, {'batch_size': 20, 'epochs': 2}, {'batch_size': 20, 'epochs': 5}]\n"
     ]
    }
   ],
   "source": [
    "parameters = grid.cv_results_['params']\n",
    "print(parameters)"
   ]
  },
  {
   "cell_type": "code",
   "execution_count": 91,
   "metadata": {
    "colab": {},
    "colab_type": "code",
    "id": "XoERxT7xDkTv"
   },
   "outputs": [],
   "source": [
    "# Apply best parameters found above\n",
    "model2 = KerasRegressor(build_fn=model_fn, batch_size=10, epochs=5)"
   ]
  },
  {
   "cell_type": "code",
   "execution_count": 92,
   "metadata": {
    "colab": {
     "base_uri": "https://localhost:8080/",
     "height": 462
    },
    "colab_type": "code",
    "id": "2Wvl7Wb8DkRT",
    "outputId": "278a3b71-a717-4e5b-c0e2-9d99f4c9eb33"
   },
   "outputs": [
    {
     "name": "stdout",
     "output_type": "stream",
     "text": [
      "Epoch 1/5\n",
      "82510/82510 [==============================] - 12s 140us/step - loss: -336663838.1148 - mse: 110850728.0000 - mae: 9253.01761s - loss: -219972072.1349 - m\n",
      "Epoch 2/5\n",
      "82510/82510 [==============================] - 11s 130us/step - loss: -3397202526.2625 - mse: 110850408.0000 - mae: 9252.9990s - loss: -27 - ETA: 1s - loss: -3075544448.4478 - mse: 110903520.0000 - mae: 9254. - ETA: 1s - loss: -3106639343.1\n",
      "Epoch 3/5\n",
      "82510/82510 [==============================] - 11s 132us/step - loss: -11935104015.2961 - mse: 110850496.0000 - mae: 9253.0049\n",
      "Epoch 4/5\n",
      "82510/82510 [==============================] - 11s 128us/step - loss: -28349676387.2229 - mse: 110850776.0000 - mae: 9252.98052s - loss: \n",
      "Epoch 5/5\n",
      "82510/82510 [==============================] - 11s 135us/step - loss: -55148179529.2226 - mse: 110850416.0000 - mae: 9252.974611s - loss: -3948296 - ETA: 9s - loss: -41441762161.2158 - mse: 110765 - ETA: 4s - loss: -48302670115.8108 - mse: 1106 - ETA: 3s - loss: -5057337256 - ETA: 0s - loss: -54259392707.0539 - mse: 110862080.0000 - m\n"
     ]
    },
    {
     "data": {
      "text/plain": [
       "<keras.callbacks.callbacks.History at 0x1a5f4524d0>"
      ]
     },
     "execution_count": 92,
     "metadata": {},
     "output_type": "execute_result"
    }
   ],
   "source": [
    "model2.fit(X_valid, Y_valid)"
   ]
  },
  {
   "cell_type": "markdown",
   "metadata": {
    "colab_type": "text",
    "id": "XiqyvoHqE05z"
   },
   "source": [
    "### Evaluate model performance on test dataset"
   ]
  },
  {
   "cell_type": "code",
   "execution_count": 115,
   "metadata": {
    "colab": {
     "base_uri": "https://localhost:8080/",
     "height": 51
    },
    "colab_type": "code",
    "id": "39sYYc_qDkCt",
    "outputId": "6e34804a-57f6-4146-a5f9-0d85397daae6"
   },
   "outputs": [
    {
     "name": "stdout",
     "output_type": "stream",
     "text": [
      "82511/82511 [==============================] - 7s 80us/step\n",
      "72408564621.52081\n"
     ]
    }
   ],
   "source": [
    "# evaluate performance on test data set\n",
    "scores = model2.score(X_test, Y_test)\n",
    "print(scores)"
   ]
  },
  {
   "cell_type": "code",
   "execution_count": 112,
   "metadata": {},
   "outputs": [
    {
     "name": "stdout",
     "output_type": "stream",
     "text": [
      "MSE: 111151021.73112676\n",
      "RMSE: 10542.8184908556\n"
     ]
    }
   ],
   "source": [
    "Y_test_pred = model2.predict(X_test)\n",
    "\n",
    "# Mean squared error\n",
    "mse = mean_squared_error(Y_test, Y_test_pred)\n",
    "print('MSE:', mse)\n",
    "\n",
    "# Root mean squared error\n",
    "rmse = math.sqrt(mse)\n",
    "print('RMSE:',rmse)"
   ]
  },
  {
   "cell_type": "markdown",
   "metadata": {
    "colab_type": "text",
    "id": "yLFFwjuM27nF"
   },
   "source": [
    "### Epoch versus Train set accuracy and Valid set accuracy"
   ]
  },
  {
   "cell_type": "code",
   "execution_count": 110,
   "metadata": {},
   "outputs": [
    {
     "name": "stdout",
     "output_type": "stream",
     "text": [
      "Train on 385047 samples, validate on 82510 samples\n",
      "Epoch 1/5\n",
      "   790/385047 [..............................] - ETA: 1:29 - loss: 16131059.2864 - mse: 16131058.0000 - mae: 2922.5930"
     ]
    },
    {
     "name": "stderr",
     "output_type": "stream",
     "text": [
      "/Users/paragshah/opt/anaconda3/envs/new_base/lib/python3.7/site-packages/ipykernel_launcher.py:1: UserWarning: The `nb_epoch` argument in `fit` has been renamed `epochs`.\n",
      "  \"\"\"Entry point for launching an IPython kernel.\n"
     ]
    },
    {
     "name": "stdout",
     "output_type": "stream",
     "text": [
      "385047/385047 [==============================] - 54s 141us/step - loss: 16695771.8841 - mse: 16695628.0000 - mae: 3013.3232 - val_loss: 16449694.5100 - val_mse: 16449671.0000 - val_mae: 2998.7205\n",
      "Epoch 2/5\n",
      "385047/385047 [==============================] - 54s 141us/step - loss: 16497996.7048 - mse: 16498052.0000 - mae: 3007.8652 - val_loss: 16302405.7233 - val_mse: 16302388.0000 - val_mae: 2989.3860\n",
      "Epoch 3/5\n",
      "385047/385047 [==============================] - 58s 151us/step - loss: 16392195.7365 - mse: 16392171.0000 - mae: 2998.2229 - val_loss: 16213195.3445 - val_mse: 16213201.0000 - val_mae: 2980.7212\n",
      "Epoch 4/5\n",
      "385047/385047 [==============================] - 57s 147us/step - loss: 16314823.5752 - mse: 16314850.0000 - mae: 2989.7959 - val_loss: 16151141.5526 - val_mse: 16151117.0000 - val_mae: 2970.9458\n",
      "Epoch 5/5\n",
      "385047/385047 [==============================] - 58s 150us/step - loss: 16260647.2051 - mse: 16260588.0000 - mae: 2984.6372 - val_loss: 16098099.2681 - val_mse: 16098131.0000 - val_mae: 2954.4673\n"
     ]
    }
   ],
   "source": [
    "history = model.fit(X_train, Y_train, validation_data=(X_valid, Y_valid), epochs=5, batch_size=10)"
   ]
  },
  {
   "cell_type": "code",
   "execution_count": 111,
   "metadata": {
    "colab": {
     "base_uri": "https://localhost:8080/",
     "height": 332
    },
    "colab_type": "code",
    "id": "l9mycHEt27nF",
    "outputId": "28668d3e-78a0-4713-b92f-93cc6d9c8823"
   },
   "outputs": [
    {
     "name": "stdout",
     "output_type": "stream",
     "text": [
      "dict_keys(['val_loss', 'val_mse', 'val_mae', 'loss', 'mse', 'mae'])\n"
     ]
    },
    {
     "data": {
      "image/png": "[encoded data removed]",
      "text/plain": [
       "<Figure size 432x288 with 1 Axes>"
      ]
     },
     "metadata": {
      "needs_background": "light"
     },
     "output_type": "display_data"
    }
   ],
   "source": [
    "print(history.history.keys())\n",
    "# \"Loss\"\n",
    "plt.plot(history.history['loss'])\n",
    "plt.plot(history.history['val_loss'])\n",
    "plt.title('model loss')\n",
    "plt.ylabel('loss')\n",
    "plt.xlabel('epoch')\n",
    "plt.legend(['train', 'validation'], loc='upper left')\n",
    "plt.show()"
   ]
  },
  {
   "cell_type": "markdown",
   "metadata": {
    "colab": {},
    "colab_type": "code",
    "id": "q9E6AKIC27nm"
   },
   "source": [
    "#### End of file"
   ]
  }
 ],
 "metadata": {
  "colab": {
   "collapsed_sections": [],
   "name": "Assignment 3 - Q2.ipynb",
   "provenance": [],
   "toc_visible": true
  },
  "kernelspec": {
   "display_name": "Python 3",
   "language": "python",
   "name": "python3"
  },
  "language_info": {
   "codemirror_mode": {
    "name": "ipython",
    "version": 3
   },
   "file_extension": ".py",
   "mimetype": "text/x-python",
   "name": "python",
   "nbconvert_exporter": "python",
   "pygments_lexer": "ipython3",
   "version": "3.7.6"
  }
 },
 "nbformat": 4,
 "nbformat_minor": 1
}
